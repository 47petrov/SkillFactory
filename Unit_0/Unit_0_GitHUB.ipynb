{
  "nbformat": 4,
  "nbformat_minor": 0,
  "metadata": {
    "colab": {
      "name": "Проект 0-GitHUB.ipynb",
      "provenance": [],
      "collapsed_sections": []
    },
    "kernelspec": {
      "display_name": "Python 3",
      "name": "python3"
    },
    "language_info": {
      "name": "python"
    }
  },
  "cells": [
    {
      "cell_type": "markdown",
      "metadata": {
        "id": "ldSuWuvHYD_V"
      },
      "source": [
        "Первый проект \"Проект 0. GitHub. Самый быстрый старт\""
      ]
    },
    {
      "cell_type": "code",
      "metadata": {
        "colab": {
          "base_uri": "https://localhost:8080/"
        },
        "id": "7cvCw3SgYCjm",
        "outputId": "bbdce091-a53d-42a9-8cbd-c76bdd3eff21"
      },
      "source": [
        "import numpy as np\n",
        "\n",
        "# задаем функцию для упрощения проверки совпадения: загадали-угадали\n",
        "print (\"number=\", number)\n",
        "\n",
        "def game_core_v1(number):\n",
        "# Сначала устанавливаем любое random число, \n",
        "# а потом уменьшаем или увеличиваем его в зависимости от того, больше оно или меньше нужного. \n",
        "# Функция принимает загаданное число и возвращает число попыток\n",
        "  count = 1\n",
        "  predict = np.random.randint(1,101)\n",
        "\n",
        "# в цикле осуществляем проверку: угадали или не угадали\n",
        "# ВАРИАНТ А:\n",
        "  while number !=predict:\n",
        "    count+=1\n",
        "    if number > predict:\n",
        "      predict += 1\n",
        "    elif number < predict:\n",
        "      predict -= 1\n",
        "  return(count) # выход из цикла, если угадали\n",
        "\n",
        "# ВАРИАНТ Б: ускоряем проверку: проверяем только четные значения\n",
        "#    if predict % 2 == 0:\n",
        "#      if number > predict:\n",
        "#        predict += 1\n",
        "#      elif number < predict:\n",
        "#        predict -= 1\n",
        "#    else: break\n",
        "#  return(count) # выход из цикла, если угадали\n",
        "\n",
        "def score_game(game_core):\n",
        "  print(f\"Запускаем игру 1000 раз, чтобы узнать, как быстро игра угадывает число\")\n",
        "  count_ls = []\n",
        "  np.random.seed(1)  # фиксируем RANDOM SEED, чтобы ваш эксперимент был воспроизводим!\n",
        "  random_array = np.random.randint(1,101, size=(1000))\n",
        "  for number in random_array:\n",
        "    count_ls.append(game_core(number))\n",
        "  score = int(np.mean(count_ls))\n",
        "  print(f\"Ваш алгоритм угадывает число в среднем за {score} попыток\")\n",
        "  return(score)\n",
        "\n",
        "# Запускаем\n",
        "score_game(game_core_v1)"
      ],
      "execution_count": 74,
      "outputs": [
        {
          "output_type": "stream",
          "text": [
            "number= 38\n",
            "Запускаем игру 1000 раз, чтобы узнать, как быстро игра угадывает число\n",
            "Ваш алгоритм угадывает число в среднем за 33 попыток\n"
          ],
          "name": "stdout"
        },
        {
          "output_type": "execute_result",
          "data": {
            "text/plain": [
              "33"
            ]
          },
          "metadata": {
            "tags": []
          },
          "execution_count": 74
        }
      ]
    },
    {
      "cell_type": "markdown",
      "metadata": {
        "id": "Xi09vmbwcQ2t"
      },
      "source": [
        ""
      ]
    },
    {
      "cell_type": "code",
      "metadata": {
        "id": "s7Nkdm9icRmt"
      },
      "source": [
        ""
      ],
      "execution_count": null,
      "outputs": []
    }
  ]
}