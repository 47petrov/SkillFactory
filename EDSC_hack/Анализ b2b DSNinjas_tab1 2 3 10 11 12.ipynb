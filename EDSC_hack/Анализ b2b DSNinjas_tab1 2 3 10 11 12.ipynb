{
  "nbformat": 4,
  "nbformat_minor": 0,
  "metadata": {
    "colab": {
      "name": "Energy DS_1.ipynb",
      "provenance": [],
      "collapsed_sections": [],
      "machine_shape": "hm"
    },
    "kernelspec": {
      "name": "python3",
      "display_name": "Python 3"
    },
    "language_info": {
      "name": "python"
    },
    "accelerator": "TPU"
  },
  "cells": [
    {
      "cell_type": "code",
      "metadata": {
        "id": "QlvImSxsOUL5"
      },
      "source": [
        "import pandas as pd"
      ],
      "execution_count": null,
      "outputs": []
    },
    {
      "cell_type": "code",
      "metadata": {
        "id": "jTnxyXhUQRiH"
      },
      "source": [
        "def resumetable(df):\n",
        "    print(f\"Dataset Shape: {df.shape}\")\n",
        "    summary = pd.DataFrame(df.dtypes,columns=['dtypes'])\n",
        "    summary = summary.reset_index()\n",
        "    summary['Name'] = summary['index']\n",
        "    summary = summary[['Name','dtypes']]\n",
        "    summary['Missing'] = df.isna().sum().values    \n",
        "    summary['Uniques'] = df.nunique().values\n",
        "    summary['First Value'] = df.loc[0].values\n",
        "    \n",
        "    return summary"
      ],
      "execution_count": null,
      "outputs": []
    },
    {
      "cell_type": "markdown",
      "metadata": {
        "id": "TKfPrDRiUIeS"
      },
      "source": [
        "1. Параметры заявки"
      ]
    },
    {
      "cell_type": "code",
      "metadata": {
        "id": "a50fxmmcAjrO",
        "colab": {
          "base_uri": "https://localhost:8080/"
        },
        "outputId": "faa4161c-11d9-459d-9631-38b2d3fbd47d"
      },
      "source": [
        "platnie_parametri_zayavki_df = pd.read_csv('/content/drive/MyDrive/DS ninjas/ch.xackaton_suvk_yur_platnie_parametri_zayavki.csv') # Создаем df по таблице №1\n",
        "platnie_parametri_zayavki_df.shape"
      ],
      "execution_count": null,
      "outputs": [
        {
          "output_type": "execute_result",
          "data": {
            "text/plain": [
              "(78611, 9)"
            ]
          },
          "metadata": {},
          "execution_count": 4
        }
      ]
    },
    {
      "cell_type": "code",
      "metadata": {
        "colab": {
          "base_uri": "https://localhost:8080/",
          "height": 206
        },
        "id": "900FX5BwQOZp",
        "outputId": "4155bfd0-766b-4100-8305-586f2cbb6984"
      },
      "source": [
        "platnie_parametri_zayavki_df.head()"
      ],
      "execution_count": null,
      "outputs": [
        {
          "output_type": "execute_result",
          "data": {
            "text/html": [
              "<div>\n",
              "<style scoped>\n",
              "    .dataframe tbody tr th:only-of-type {\n",
              "        vertical-align: middle;\n",
              "    }\n",
              "\n",
              "    .dataframe tbody tr th {\n",
              "        vertical-align: top;\n",
              "    }\n",
              "\n",
              "    .dataframe thead th {\n",
              "        text-align: right;\n",
              "    }\n",
              "</style>\n",
              "<table border=\"1\" class=\"dataframe\">\n",
              "  <thead>\n",
              "    <tr style=\"text-align: right;\">\n",
              "      <th></th>\n",
              "      <th>dt</th>\n",
              "      <th>id</th>\n",
              "      <th>status</th>\n",
              "      <th>dtime</th>\n",
              "      <th>closing_date</th>\n",
              "      <th>request_number</th>\n",
              "      <th>request_type</th>\n",
              "      <th>pay_type</th>\n",
              "      <th>finance_status</th>\n",
              "    </tr>\n",
              "  </thead>\n",
              "  <tbody>\n",
              "    <tr>\n",
              "      <th>0</th>\n",
              "      <td>2020-05-01</td>\n",
              "      <td>175276710</td>\n",
              "      <td>Закрыт</td>\n",
              "      <td>2020-05-01 23:46:18</td>\n",
              "      <td>2020-06-30 00:00:00</td>\n",
              "      <td>072-20050001-1-55</td>\n",
              "      <td>РАЗОВАЯ</td>\n",
              "      <td>Предоплата полная</td>\n",
              "      <td>Не оплачена</td>\n",
              "    </tr>\n",
              "    <tr>\n",
              "      <th>1</th>\n",
              "      <td>2020-05-01</td>\n",
              "      <td>175276710</td>\n",
              "      <td>Закрыт</td>\n",
              "      <td>2020-05-01 23:46:18</td>\n",
              "      <td>2020-06-30 00:00:00</td>\n",
              "      <td>072-20050001-1-55</td>\n",
              "      <td>РАЗОВАЯ</td>\n",
              "      <td>Предоплата полная</td>\n",
              "      <td>Оплачена</td>\n",
              "    </tr>\n",
              "    <tr>\n",
              "      <th>2</th>\n",
              "      <td>2020-05-02</td>\n",
              "      <td>181535157</td>\n",
              "      <td>Закрыт</td>\n",
              "      <td>2020-05-02 20:03:44</td>\n",
              "      <td>2020-06-01 00:00:00</td>\n",
              "      <td>211-20050001-1-45</td>\n",
              "      <td>РАЗОВАЯ</td>\n",
              "      <td>Предоплата полная</td>\n",
              "      <td>Не оплачена</td>\n",
              "    </tr>\n",
              "    <tr>\n",
              "      <th>3</th>\n",
              "      <td>2020-05-02</td>\n",
              "      <td>181535157</td>\n",
              "      <td>Закрыт</td>\n",
              "      <td>2020-05-02 20:03:44</td>\n",
              "      <td>2020-06-01 00:00:00</td>\n",
              "      <td>211-20050001-1-45</td>\n",
              "      <td>РАЗОВАЯ</td>\n",
              "      <td>Предоплата полная</td>\n",
              "      <td>Оплачена</td>\n",
              "    </tr>\n",
              "    <tr>\n",
              "      <th>4</th>\n",
              "      <td>2020-05-02</td>\n",
              "      <td>270301857</td>\n",
              "      <td>Закрыт</td>\n",
              "      <td>2020-05-02 20:17:43</td>\n",
              "      <td>2020-06-09 00:00:00</td>\n",
              "      <td>211-20050002-1-44</td>\n",
              "      <td>РАЗОВАЯ</td>\n",
              "      <td>Предоплата полная</td>\n",
              "      <td>Не оплачена</td>\n",
              "    </tr>\n",
              "  </tbody>\n",
              "</table>\n",
              "</div>"
            ],
            "text/plain": [
              "           dt         id  status  ... request_type           pay_type finance_status\n",
              "0  2020-05-01  175276710  Закрыт  ...      РАЗОВАЯ  Предоплата полная    Не оплачена\n",
              "1  2020-05-01  175276710  Закрыт  ...      РАЗОВАЯ  Предоплата полная       Оплачена\n",
              "2  2020-05-02  181535157  Закрыт  ...      РАЗОВАЯ  Предоплата полная    Не оплачена\n",
              "3  2020-05-02  181535157  Закрыт  ...      РАЗОВАЯ  Предоплата полная       Оплачена\n",
              "4  2020-05-02  270301857  Закрыт  ...      РАЗОВАЯ  Предоплата полная    Не оплачена\n",
              "\n",
              "[5 rows x 9 columns]"
            ]
          },
          "metadata": {},
          "execution_count": 5
        }
      ]
    },
    {
      "cell_type": "code",
      "metadata": {
        "colab": {
          "base_uri": "https://localhost:8080/",
          "height": 350
        },
        "id": "0EWe_h9hQN-k",
        "outputId": "90c2f5b7-31f1-472c-82f3-e3fca268596c"
      },
      "source": [
        "resumetable(platnie_parametri_zayavki_df)"
      ],
      "execution_count": null,
      "outputs": [
        {
          "output_type": "stream",
          "name": "stdout",
          "text": [
            "Dataset Shape: (78611, 9)\n"
          ]
        },
        {
          "output_type": "execute_result",
          "data": {
            "text/html": [
              "<div>\n",
              "<style scoped>\n",
              "    .dataframe tbody tr th:only-of-type {\n",
              "        vertical-align: middle;\n",
              "    }\n",
              "\n",
              "    .dataframe tbody tr th {\n",
              "        vertical-align: top;\n",
              "    }\n",
              "\n",
              "    .dataframe thead th {\n",
              "        text-align: right;\n",
              "    }\n",
              "</style>\n",
              "<table border=\"1\" class=\"dataframe\">\n",
              "  <thead>\n",
              "    <tr style=\"text-align: right;\">\n",
              "      <th></th>\n",
              "      <th>Name</th>\n",
              "      <th>dtypes</th>\n",
              "      <th>Missing</th>\n",
              "      <th>Uniques</th>\n",
              "      <th>First Value</th>\n",
              "    </tr>\n",
              "  </thead>\n",
              "  <tbody>\n",
              "    <tr>\n",
              "      <th>0</th>\n",
              "      <td>dt</td>\n",
              "      <td>object</td>\n",
              "      <td>0</td>\n",
              "      <td>641</td>\n",
              "      <td>2020-05-01</td>\n",
              "    </tr>\n",
              "    <tr>\n",
              "      <th>1</th>\n",
              "      <td>id</td>\n",
              "      <td>int64</td>\n",
              "      <td>0</td>\n",
              "      <td>24339</td>\n",
              "      <td>175276710</td>\n",
              "    </tr>\n",
              "    <tr>\n",
              "      <th>2</th>\n",
              "      <td>status</td>\n",
              "      <td>object</td>\n",
              "      <td>0</td>\n",
              "      <td>5</td>\n",
              "      <td>Закрыт</td>\n",
              "    </tr>\n",
              "    <tr>\n",
              "      <th>3</th>\n",
              "      <td>dtime</td>\n",
              "      <td>object</td>\n",
              "      <td>0</td>\n",
              "      <td>41177</td>\n",
              "      <td>2020-05-01 23:46:18</td>\n",
              "    </tr>\n",
              "    <tr>\n",
              "      <th>4</th>\n",
              "      <td>closing_date</td>\n",
              "      <td>object</td>\n",
              "      <td>0</td>\n",
              "      <td>671</td>\n",
              "      <td>2020-06-30 00:00:00</td>\n",
              "    </tr>\n",
              "    <tr>\n",
              "      <th>5</th>\n",
              "      <td>request_number</td>\n",
              "      <td>object</td>\n",
              "      <td>0</td>\n",
              "      <td>41227</td>\n",
              "      <td>072-20050001-1-55</td>\n",
              "    </tr>\n",
              "    <tr>\n",
              "      <th>6</th>\n",
              "      <td>request_type</td>\n",
              "      <td>object</td>\n",
              "      <td>0</td>\n",
              "      <td>1</td>\n",
              "      <td>РАЗОВАЯ</td>\n",
              "    </tr>\n",
              "    <tr>\n",
              "      <th>7</th>\n",
              "      <td>pay_type</td>\n",
              "      <td>object</td>\n",
              "      <td>0</td>\n",
              "      <td>3</td>\n",
              "      <td>Предоплата полная</td>\n",
              "    </tr>\n",
              "    <tr>\n",
              "      <th>8</th>\n",
              "      <td>finance_status</td>\n",
              "      <td>object</td>\n",
              "      <td>0</td>\n",
              "      <td>5</td>\n",
              "      <td>Не оплачена</td>\n",
              "    </tr>\n",
              "  </tbody>\n",
              "</table>\n",
              "</div>"
            ],
            "text/plain": [
              "             Name  dtypes  Missing  Uniques          First Value\n",
              "0              dt  object        0      641           2020-05-01\n",
              "1              id   int64        0    24339            175276710\n",
              "2          status  object        0        5               Закрыт\n",
              "3           dtime  object        0    41177  2020-05-01 23:46:18\n",
              "4    closing_date  object        0      671  2020-06-30 00:00:00\n",
              "5  request_number  object        0    41227    072-20050001-1-55\n",
              "6    request_type  object        0        1              РАЗОВАЯ\n",
              "7        pay_type  object        0        3    Предоплата полная\n",
              "8  finance_status  object        0        5          Не оплачена"
            ]
          },
          "metadata": {},
          "execution_count": 6
        }
      ]
    },
    {
      "cell_type": "code",
      "metadata": {
        "colab": {
          "base_uri": "https://localhost:8080/",
          "height": 424
        },
        "id": "DNuw4BAeWvMz",
        "outputId": "26363647-f036-4b38-e975-04eb20eb6d94"
      },
      "source": [
        "# Удалим столбец request_type, так как у всех заявок один тип\n",
        "platnie_parametri_zayavki_df.drop(['request_type'], axis = 1)"
      ],
      "execution_count": null,
      "outputs": [
        {
          "output_type": "execute_result",
          "data": {
            "text/html": [
              "<div>\n",
              "<style scoped>\n",
              "    .dataframe tbody tr th:only-of-type {\n",
              "        vertical-align: middle;\n",
              "    }\n",
              "\n",
              "    .dataframe tbody tr th {\n",
              "        vertical-align: top;\n",
              "    }\n",
              "\n",
              "    .dataframe thead th {\n",
              "        text-align: right;\n",
              "    }\n",
              "</style>\n",
              "<table border=\"1\" class=\"dataframe\">\n",
              "  <thead>\n",
              "    <tr style=\"text-align: right;\">\n",
              "      <th></th>\n",
              "      <th>dt</th>\n",
              "      <th>id</th>\n",
              "      <th>status</th>\n",
              "      <th>dtime</th>\n",
              "      <th>closing_date</th>\n",
              "      <th>request_number</th>\n",
              "      <th>pay_type</th>\n",
              "      <th>finance_status</th>\n",
              "    </tr>\n",
              "  </thead>\n",
              "  <tbody>\n",
              "    <tr>\n",
              "      <th>0</th>\n",
              "      <td>2020-05-01</td>\n",
              "      <td>175276710</td>\n",
              "      <td>Закрыт</td>\n",
              "      <td>2020-05-01 23:46:18</td>\n",
              "      <td>2020-06-30 00:00:00</td>\n",
              "      <td>072-20050001-1-55</td>\n",
              "      <td>Предоплата полная</td>\n",
              "      <td>Не оплачена</td>\n",
              "    </tr>\n",
              "    <tr>\n",
              "      <th>1</th>\n",
              "      <td>2020-05-01</td>\n",
              "      <td>175276710</td>\n",
              "      <td>Закрыт</td>\n",
              "      <td>2020-05-01 23:46:18</td>\n",
              "      <td>2020-06-30 00:00:00</td>\n",
              "      <td>072-20050001-1-55</td>\n",
              "      <td>Предоплата полная</td>\n",
              "      <td>Оплачена</td>\n",
              "    </tr>\n",
              "    <tr>\n",
              "      <th>2</th>\n",
              "      <td>2020-05-02</td>\n",
              "      <td>181535157</td>\n",
              "      <td>Закрыт</td>\n",
              "      <td>2020-05-02 20:03:44</td>\n",
              "      <td>2020-06-01 00:00:00</td>\n",
              "      <td>211-20050001-1-45</td>\n",
              "      <td>Предоплата полная</td>\n",
              "      <td>Не оплачена</td>\n",
              "    </tr>\n",
              "    <tr>\n",
              "      <th>3</th>\n",
              "      <td>2020-05-02</td>\n",
              "      <td>181535157</td>\n",
              "      <td>Закрыт</td>\n",
              "      <td>2020-05-02 20:03:44</td>\n",
              "      <td>2020-06-01 00:00:00</td>\n",
              "      <td>211-20050001-1-45</td>\n",
              "      <td>Предоплата полная</td>\n",
              "      <td>Оплачена</td>\n",
              "    </tr>\n",
              "    <tr>\n",
              "      <th>4</th>\n",
              "      <td>2020-05-02</td>\n",
              "      <td>270301857</td>\n",
              "      <td>Закрыт</td>\n",
              "      <td>2020-05-02 20:17:43</td>\n",
              "      <td>2020-06-09 00:00:00</td>\n",
              "      <td>211-20050002-1-44</td>\n",
              "      <td>Предоплата полная</td>\n",
              "      <td>Не оплачена</td>\n",
              "    </tr>\n",
              "    <tr>\n",
              "      <th>...</th>\n",
              "      <td>...</td>\n",
              "      <td>...</td>\n",
              "      <td>...</td>\n",
              "      <td>...</td>\n",
              "      <td>...</td>\n",
              "      <td>...</td>\n",
              "      <td>...</td>\n",
              "      <td>...</td>\n",
              "    </tr>\n",
              "    <tr>\n",
              "      <th>78606</th>\n",
              "      <td>2020-01-31</td>\n",
              "      <td>299583495</td>\n",
              "      <td>Закрыт</td>\n",
              "      <td>2020-01-31 13:42:47</td>\n",
              "      <td>2020-03-12 00:00:00</td>\n",
              "      <td>721-20012727-1-20</td>\n",
              "      <td>Предоплата полная</td>\n",
              "      <td>Не оплачена</td>\n",
              "    </tr>\n",
              "    <tr>\n",
              "      <th>78607</th>\n",
              "      <td>2020-01-31</td>\n",
              "      <td>299583495</td>\n",
              "      <td>Закрыт</td>\n",
              "      <td>2020-01-31 13:42:47</td>\n",
              "      <td>2020-03-12 00:00:00</td>\n",
              "      <td>721-20012727-1-20</td>\n",
              "      <td>Предоплата полная</td>\n",
              "      <td>Оплачена</td>\n",
              "    </tr>\n",
              "    <tr>\n",
              "      <th>78608</th>\n",
              "      <td>2020-01-31</td>\n",
              "      <td>299904195</td>\n",
              "      <td>Документы выданы</td>\n",
              "      <td>2020-01-31 13:48:22</td>\n",
              "      <td>\\N</td>\n",
              "      <td>721-20012729-1-28</td>\n",
              "      <td>Предоплата полная</td>\n",
              "      <td>Не оплачена</td>\n",
              "    </tr>\n",
              "    <tr>\n",
              "      <th>78609</th>\n",
              "      <td>2020-01-31</td>\n",
              "      <td>299917209</td>\n",
              "      <td>Закрыт</td>\n",
              "      <td>2020-01-31 09:30:55</td>\n",
              "      <td>2020-02-28 00:00:00</td>\n",
              "      <td>466-20010059-1-68</td>\n",
              "      <td>Предоплата полная</td>\n",
              "      <td>Не оплачена</td>\n",
              "    </tr>\n",
              "    <tr>\n",
              "      <th>78610</th>\n",
              "      <td>2020-01-31</td>\n",
              "      <td>299917209</td>\n",
              "      <td>Закрыт</td>\n",
              "      <td>2020-01-31 09:30:55</td>\n",
              "      <td>2020-02-28 00:00:00</td>\n",
              "      <td>466-20010059-1-68</td>\n",
              "      <td>Предоплата полная</td>\n",
              "      <td>Оплачена</td>\n",
              "    </tr>\n",
              "  </tbody>\n",
              "</table>\n",
              "<p>78611 rows × 8 columns</p>\n",
              "</div>"
            ],
            "text/plain": [
              "               dt         id  ...           pay_type finance_status\n",
              "0      2020-05-01  175276710  ...  Предоплата полная    Не оплачена\n",
              "1      2020-05-01  175276710  ...  Предоплата полная       Оплачена\n",
              "2      2020-05-02  181535157  ...  Предоплата полная    Не оплачена\n",
              "3      2020-05-02  181535157  ...  Предоплата полная       Оплачена\n",
              "4      2020-05-02  270301857  ...  Предоплата полная    Не оплачена\n",
              "...           ...        ...  ...                ...            ...\n",
              "78606  2020-01-31  299583495  ...  Предоплата полная    Не оплачена\n",
              "78607  2020-01-31  299583495  ...  Предоплата полная       Оплачена\n",
              "78608  2020-01-31  299904195  ...  Предоплата полная    Не оплачена\n",
              "78609  2020-01-31  299917209  ...  Предоплата полная    Не оплачена\n",
              "78610  2020-01-31  299917209  ...  Предоплата полная       Оплачена\n",
              "\n",
              "[78611 rows x 8 columns]"
            ]
          },
          "metadata": {},
          "execution_count": 7
        }
      ]
    },
    {
      "cell_type": "code",
      "metadata": {
        "colab": {
          "base_uri": "https://localhost:8080/"
        },
        "id": "-DlkDnCHY1Tk",
        "outputId": "3703aa92-7cd7-4245-885b-b3924c3b333b"
      },
      "source": [
        "# Посчитаем количество заявок с разными статусами\n",
        "platnie_parametri_zayavki_df['status'].value_counts()"
      ],
      "execution_count": null,
      "outputs": [
        {
          "output_type": "execute_result",
          "data": {
            "text/plain": [
              "Закрыт              65790\n",
              "Документы выданы     9982\n",
              "На выполнении        2032\n",
              "Создан                456\n",
              "Выполнен              351\n",
              "Name: status, dtype: int64"
            ]
          },
          "metadata": {},
          "execution_count": 8
        }
      ]
    },
    {
      "cell_type": "code",
      "metadata": {
        "colab": {
          "base_uri": "https://localhost:8080/"
        },
        "id": "52ZYjQ-VggiP",
        "outputId": "429ecadc-8d61-49a8-ec50-688e986a3fba"
      },
      "source": [
        "# Посчитаем количество заявок с разными типами оплат\n",
        "platnie_parametri_zayavki_df['pay_type'].value_counts()"
      ],
      "execution_count": null,
      "outputs": [
        {
          "output_type": "execute_result",
          "data": {
            "text/plain": [
              "Предоплата полная       70705\n",
              "Постоплата               6307\n",
              "Предоплата частичная     1599\n",
              "Name: pay_type, dtype: int64"
            ]
          },
          "metadata": {},
          "execution_count": 9
        }
      ]
    },
    {
      "cell_type": "code",
      "metadata": {
        "colab": {
          "base_uri": "https://localhost:8080/"
        },
        "id": "mU6rFQKwgloI",
        "outputId": "8c37e9da-dddf-4b3b-e24d-e6940256437b"
      },
      "source": [
        "# Посчитаем количество заявок с разными статусами оплат\n",
        "platnie_parametri_zayavki_df['finance_status'].value_counts()"
      ],
      "execution_count": null,
      "outputs": [
        {
          "output_type": "execute_result",
          "data": {
            "text/plain": [
              "Не оплачена             41227\n",
              "Оплачена                32880\n",
              "Информация о платеже     2279\n",
              "Ч/оплата                 1766\n",
              "Переплата                 459\n",
              "Name: finance_status, dtype: int64"
            ]
          },
          "metadata": {},
          "execution_count": 10
        }
      ]
    },
    {
      "cell_type": "code",
      "metadata": {
        "id": "SoUtdOhDgBEH"
      },
      "source": [
        "# Посчитаем время выполнения заявок\n"
      ],
      "execution_count": null,
      "outputs": []
    },
    {
      "cell_type": "code",
      "metadata": {
        "id": "WczN1jgjgANc"
      },
      "source": [
        "# Что-то сделаем с \\N"
      ],
      "execution_count": null,
      "outputs": []
    },
    {
      "cell_type": "markdown",
      "metadata": {
        "id": "7AlE6XAQQrfT"
      },
      "source": [
        "2. Платные начисления и оплаты"
      ]
    },
    {
      "cell_type": "code",
      "metadata": {
        "colab": {
          "base_uri": "https://localhost:8080/"
        },
        "id": "myuYSPVjPju6",
        "outputId": "fc18af65-5a21-4d07-fc6e-69798a054dd0"
      },
      "source": [
        "platnie_nachisleniya_i_oplati_df = pd.read_csv('/content/drive/MyDrive/DS ninjas/ch.xackaton_suvk_yur_platnie_nachisleniya_i_oplati.csv') # Создаем df по таблице №2\n",
        "platnie_nachisleniya_i_oplati_df.shape"
      ],
      "execution_count": null,
      "outputs": [
        {
          "output_type": "execute_result",
          "data": {
            "text/plain": [
              "(59863, 10)"
            ]
          },
          "metadata": {},
          "execution_count": 13
        }
      ]
    },
    {
      "cell_type": "code",
      "metadata": {
        "colab": {
          "base_uri": "https://localhost:8080/",
          "height": 310
        },
        "id": "JNDlA14JTLT6",
        "outputId": "197f2f47-837b-4aee-9f84-a3b4beb8680a"
      },
      "source": [
        "platnie_nachisleniya_i_oplati_df.head()"
      ],
      "execution_count": null,
      "outputs": [
        {
          "output_type": "execute_result",
          "data": {
            "text/html": [
              "<div>\n",
              "<style scoped>\n",
              "    .dataframe tbody tr th:only-of-type {\n",
              "        vertical-align: middle;\n",
              "    }\n",
              "\n",
              "    .dataframe tbody tr th {\n",
              "        vertical-align: top;\n",
              "    }\n",
              "\n",
              "    .dataframe thead th {\n",
              "        text-align: right;\n",
              "    }\n",
              "</style>\n",
              "<table border=\"1\" class=\"dataframe\">\n",
              "  <thead>\n",
              "    <tr style=\"text-align: right;\">\n",
              "      <th></th>\n",
              "      <th>dt</th>\n",
              "      <th>id</th>\n",
              "      <th>status</th>\n",
              "      <th>dtime</th>\n",
              "      <th>closing_date</th>\n",
              "      <th>request_number</th>\n",
              "      <th>service_name</th>\n",
              "      <th>unpaid_sum_with_nds</th>\n",
              "      <th>pay_sum_with_nds</th>\n",
              "      <th>services_sum_cost_with_nds</th>\n",
              "    </tr>\n",
              "  </thead>\n",
              "  <tbody>\n",
              "    <tr>\n",
              "      <th>0</th>\n",
              "      <td>2021-05-01</td>\n",
              "      <td>298867512</td>\n",
              "      <td>Закрыт</td>\n",
              "      <td>2021-05-01 11:58:49</td>\n",
              "      <td>2021-06-23 00:00:00</td>\n",
              "      <td>410-21050001-1-05</td>\n",
              "      <td>Приведение (переборка) схемы включения электро...</td>\n",
              "      <td>0,0</td>\n",
              "      <td>27000,0</td>\n",
              "      <td>27000,0</td>\n",
              "    </tr>\n",
              "    <tr>\n",
              "      <th>1</th>\n",
              "      <td>2021-05-03</td>\n",
              "      <td>299576592</td>\n",
              "      <td>Документы выданы</td>\n",
              "      <td>2021-05-03 17:35:58</td>\n",
              "      <td>\\N</td>\n",
              "      <td>072-21050003-1-43</td>\n",
              "      <td>Испытания и измерения в электроустановках.</td>\n",
              "      <td>NaN</td>\n",
              "      <td>NaN</td>\n",
              "      <td>167775,0</td>\n",
              "    </tr>\n",
              "    <tr>\n",
              "      <th>2</th>\n",
              "      <td>2021-05-04</td>\n",
              "      <td>270339015</td>\n",
              "      <td>Закрыт</td>\n",
              "      <td>2021-05-04 17:10:26</td>\n",
              "      <td>2021-05-31 00:00:00</td>\n",
              "      <td>430-21050001-1-65</td>\n",
              "      <td>Маркирование цепей узла учета (для исправных п...</td>\n",
              "      <td>0,0</td>\n",
              "      <td>100700,0</td>\n",
              "      <td>100700,0</td>\n",
              "    </tr>\n",
              "    <tr>\n",
              "      <th>3</th>\n",
              "      <td>2021-05-05</td>\n",
              "      <td>181769808</td>\n",
              "      <td>Документы выданы</td>\n",
              "      <td>2021-05-05 15:48:31</td>\n",
              "      <td>\\N</td>\n",
              "      <td>470-21050001-1-85</td>\n",
              "      <td>Продажа приборов учета электроэнергии</td>\n",
              "      <td>NaN</td>\n",
              "      <td>NaN</td>\n",
              "      <td>16910,0</td>\n",
              "    </tr>\n",
              "    <tr>\n",
              "      <th>4</th>\n",
              "      <td>2021-05-05</td>\n",
              "      <td>249456270</td>\n",
              "      <td>Документы выданы</td>\n",
              "      <td>2021-05-05 09:06:49</td>\n",
              "      <td>\\N</td>\n",
              "      <td>289-21050004-1-42</td>\n",
              "      <td>Снятие и передача в энергосбытовую организацию...</td>\n",
              "      <td>NaN</td>\n",
              "      <td>NaN</td>\n",
              "      <td>24500,0</td>\n",
              "    </tr>\n",
              "  </tbody>\n",
              "</table>\n",
              "</div>"
            ],
            "text/plain": [
              "           dt         id  ... pay_sum_with_nds services_sum_cost_with_nds\n",
              "0  2021-05-01  298867512  ...          27000,0                    27000,0\n",
              "1  2021-05-03  299576592  ...              NaN                   167775,0\n",
              "2  2021-05-04  270339015  ...         100700,0                   100700,0\n",
              "3  2021-05-05  181769808  ...              NaN                    16910,0\n",
              "4  2021-05-05  249456270  ...              NaN                    24500,0\n",
              "\n",
              "[5 rows x 10 columns]"
            ]
          },
          "metadata": {},
          "execution_count": 14
        }
      ]
    },
    {
      "cell_type": "code",
      "metadata": {
        "colab": {
          "base_uri": "https://localhost:8080/",
          "height": 381
        },
        "id": "RreTKb_nTLQm",
        "outputId": "a0f9de11-d997-4a93-db5e-495986121b88"
      },
      "source": [
        "resumetable(platnie_nachisleniya_i_oplati_df)"
      ],
      "execution_count": null,
      "outputs": [
        {
          "output_type": "stream",
          "name": "stdout",
          "text": [
            "Dataset Shape: (59863, 10)\n"
          ]
        },
        {
          "output_type": "execute_result",
          "data": {
            "text/html": [
              "<div>\n",
              "<style scoped>\n",
              "    .dataframe tbody tr th:only-of-type {\n",
              "        vertical-align: middle;\n",
              "    }\n",
              "\n",
              "    .dataframe tbody tr th {\n",
              "        vertical-align: top;\n",
              "    }\n",
              "\n",
              "    .dataframe thead th {\n",
              "        text-align: right;\n",
              "    }\n",
              "</style>\n",
              "<table border=\"1\" class=\"dataframe\">\n",
              "  <thead>\n",
              "    <tr style=\"text-align: right;\">\n",
              "      <th></th>\n",
              "      <th>Name</th>\n",
              "      <th>dtypes</th>\n",
              "      <th>Missing</th>\n",
              "      <th>Uniques</th>\n",
              "      <th>First Value</th>\n",
              "    </tr>\n",
              "  </thead>\n",
              "  <tbody>\n",
              "    <tr>\n",
              "      <th>0</th>\n",
              "      <td>dt</td>\n",
              "      <td>object</td>\n",
              "      <td>0</td>\n",
              "      <td>641</td>\n",
              "      <td>2021-05-01</td>\n",
              "    </tr>\n",
              "    <tr>\n",
              "      <th>1</th>\n",
              "      <td>id</td>\n",
              "      <td>int64</td>\n",
              "      <td>0</td>\n",
              "      <td>24339</td>\n",
              "      <td>298867512</td>\n",
              "    </tr>\n",
              "    <tr>\n",
              "      <th>2</th>\n",
              "      <td>status</td>\n",
              "      <td>object</td>\n",
              "      <td>0</td>\n",
              "      <td>5</td>\n",
              "      <td>Закрыт</td>\n",
              "    </tr>\n",
              "    <tr>\n",
              "      <th>3</th>\n",
              "      <td>dtime</td>\n",
              "      <td>object</td>\n",
              "      <td>0</td>\n",
              "      <td>41177</td>\n",
              "      <td>2021-05-01 11:58:49</td>\n",
              "    </tr>\n",
              "    <tr>\n",
              "      <th>4</th>\n",
              "      <td>closing_date</td>\n",
              "      <td>object</td>\n",
              "      <td>0</td>\n",
              "      <td>671</td>\n",
              "      <td>2021-06-23 00:00:00</td>\n",
              "    </tr>\n",
              "    <tr>\n",
              "      <th>5</th>\n",
              "      <td>request_number</td>\n",
              "      <td>object</td>\n",
              "      <td>0</td>\n",
              "      <td>41227</td>\n",
              "      <td>410-21050001-1-05</td>\n",
              "    </tr>\n",
              "    <tr>\n",
              "      <th>6</th>\n",
              "      <td>service_name</td>\n",
              "      <td>object</td>\n",
              "      <td>0</td>\n",
              "      <td>562</td>\n",
              "      <td>Приведение (переборка) схемы включения электро...</td>\n",
              "    </tr>\n",
              "    <tr>\n",
              "      <th>7</th>\n",
              "      <td>unpaid_sum_with_nds</td>\n",
              "      <td>object</td>\n",
              "      <td>16304</td>\n",
              "      <td>81</td>\n",
              "      <td>0,0</td>\n",
              "    </tr>\n",
              "    <tr>\n",
              "      <th>8</th>\n",
              "      <td>pay_sum_with_nds</td>\n",
              "      <td>object</td>\n",
              "      <td>16304</td>\n",
              "      <td>5583</td>\n",
              "      <td>27000,0</td>\n",
              "    </tr>\n",
              "    <tr>\n",
              "      <th>9</th>\n",
              "      <td>services_sum_cost_with_nds</td>\n",
              "      <td>object</td>\n",
              "      <td>0</td>\n",
              "      <td>7222</td>\n",
              "      <td>27000,0</td>\n",
              "    </tr>\n",
              "  </tbody>\n",
              "</table>\n",
              "</div>"
            ],
            "text/plain": [
              "                         Name  ...                                        First Value\n",
              "0                          dt  ...                                         2021-05-01\n",
              "1                          id  ...                                          298867512\n",
              "2                      status  ...                                             Закрыт\n",
              "3                       dtime  ...                                2021-05-01 11:58:49\n",
              "4                closing_date  ...                                2021-06-23 00:00:00\n",
              "5              request_number  ...                                  410-21050001-1-05\n",
              "6                service_name  ...  Приведение (переборка) схемы включения электро...\n",
              "7         unpaid_sum_with_nds  ...                                                0,0\n",
              "8            pay_sum_with_nds  ...                                            27000,0\n",
              "9  services_sum_cost_with_nds  ...                                            27000,0\n",
              "\n",
              "[10 rows x 5 columns]"
            ]
          },
          "metadata": {},
          "execution_count": 15
        }
      ]
    },
    {
      "cell_type": "code",
      "metadata": {
        "colab": {
          "base_uri": "https://localhost:8080/"
        },
        "id": "NOZjh-91TLNd",
        "outputId": "a52240d8-46a8-4044-b604-d41747a8b1ca"
      },
      "source": [
        "# Заменим все NaN на 0\n",
        "platnie_nachisleniya_i_oplati_df = platnie_nachisleniya_i_oplati_df.fillna(0)\n",
        "platnie_nachisleniya_i_oplati_df.isna().sum()"
      ],
      "execution_count": null,
      "outputs": [
        {
          "output_type": "execute_result",
          "data": {
            "text/plain": [
              "dt                            0\n",
              "id                            0\n",
              "status                        0\n",
              "dtime                         0\n",
              "closing_date                  0\n",
              "request_number                0\n",
              "service_name                  0\n",
              "unpaid_sum_with_nds           0\n",
              "pay_sum_with_nds              0\n",
              "services_sum_cost_with_nds    0\n",
              "dtype: int64"
            ]
          },
          "metadata": {},
          "execution_count": 16
        }
      ]
    },
    {
      "cell_type": "code",
      "metadata": {
        "id": "RYLUFOKipKPW"
      },
      "source": [
        "# Посчитаем время выполнения заявок"
      ],
      "execution_count": null,
      "outputs": []
    },
    {
      "cell_type": "code",
      "metadata": {
        "id": "_2v5UEW5YNsi"
      },
      "source": [
        "# Что-то сделаем с \\N"
      ],
      "execution_count": null,
      "outputs": []
    },
    {
      "cell_type": "code",
      "metadata": {
        "colab": {
          "base_uri": "https://localhost:8080/"
        },
        "id": "JsAxuf6IqLkS",
        "outputId": "dc75048d-a734-4de9-fc41-704214cc98bd"
      },
      "source": [
        "# Посчитаем количество заявок с разными статусами \n",
        "platnie_nachisleniya_i_oplati_df['status'].value_counts()"
      ],
      "execution_count": null,
      "outputs": [
        {
          "output_type": "execute_result",
          "data": {
            "text/plain": [
              "Закрыт              44041\n",
              "Документы выданы    13350\n",
              "На выполнении        1509\n",
              "Создан                647\n",
              "Выполнен              316\n",
              "Name: status, dtype: int64"
            ]
          },
          "metadata": {},
          "execution_count": 19
        }
      ]
    },
    {
      "cell_type": "markdown",
      "metadata": {
        "id": "73X5-JV8SGo1"
      },
      "source": [
        "3. Обращения"
      ]
    },
    {
      "cell_type": "code",
      "metadata": {
        "colab": {
          "base_uri": "https://localhost:8080/"
        },
        "id": "lnUJhEH9Pjfu",
        "outputId": "88343885-0d97-4776-8679-4b6cecc31635"
      },
      "source": [
        "obrascheniya_df = pd.read_csv('/content/drive/MyDrive/DS ninjas/ch.xackaton_suvk_yur_obrascheniya.csv') # Создаем df по таблице №3\n",
        "obrascheniya_df.shape"
      ],
      "execution_count": null,
      "outputs": [
        {
          "output_type": "execute_result",
          "data": {
            "text/plain": [
              "(140282, 13)"
            ]
          },
          "metadata": {},
          "execution_count": 20
        }
      ]
    },
    {
      "cell_type": "code",
      "metadata": {
        "colab": {
          "base_uri": "https://localhost:8080/",
          "height": 521
        },
        "id": "Ofel2pMx2Qba",
        "outputId": "f27d1b99-9b0f-4e23-8b4c-e577c2d18ee2"
      },
      "source": [
        "obrascheniya_df.head()"
      ],
      "execution_count": null,
      "outputs": [
        {
          "output_type": "execute_result",
          "data": {
            "text/html": [
              "<div>\n",
              "<style scoped>\n",
              "    .dataframe tbody tr th:only-of-type {\n",
              "        vertical-align: middle;\n",
              "    }\n",
              "\n",
              "    .dataframe tbody tr th {\n",
              "        vertical-align: top;\n",
              "    }\n",
              "\n",
              "    .dataframe thead th {\n",
              "        text-align: right;\n",
              "    }\n",
              "</style>\n",
              "<table border=\"1\" class=\"dataframe\">\n",
              "  <thead>\n",
              "    <tr style=\"text-align: right;\">\n",
              "      <th></th>\n",
              "      <th>dt</th>\n",
              "      <th>id</th>\n",
              "      <th>request_status</th>\n",
              "      <th>request_type</th>\n",
              "      <th>topic_level_1</th>\n",
              "      <th>topic_level_2</th>\n",
              "      <th>topic_level_3</th>\n",
              "      <th>task_priority</th>\n",
              "      <th>task_status</th>\n",
              "      <th>task_type</th>\n",
              "      <th>topic_attribute</th>\n",
              "      <th>task_number</th>\n",
              "      <th>request_number</th>\n",
              "    </tr>\n",
              "  </thead>\n",
              "  <tbody>\n",
              "    <tr>\n",
              "      <th>0</th>\n",
              "      <td>2020-08-01</td>\n",
              "      <td>181758615</td>\n",
              "      <td>в процессе принятия</td>\n",
              "      <td>Личная явка</td>\n",
              "      <td>Не определено</td>\n",
              "      <td>Не определено</td>\n",
              "      <td>Личный кабинет клиента</td>\n",
              "      <td>Средний</td>\n",
              "      <td>В ожидании</td>\n",
              "      <td>Ведение учетной записи клиента ЛКК ЮЛ</td>\n",
              "      <td>Не определено</td>\n",
              "      <td>459878112,0</td>\n",
              "      <td>679205022,0</td>\n",
              "    </tr>\n",
              "    <tr>\n",
              "      <th>1</th>\n",
              "      <td>2020-08-01</td>\n",
              "      <td>270083496</td>\n",
              "      <td>в процессе принятия</td>\n",
              "      <td>Личная явка</td>\n",
              "      <td>Не определено</td>\n",
              "      <td>Не определено</td>\n",
              "      <td>Не определено</td>\n",
              "      <td>Не определено</td>\n",
              "      <td>Не определено</td>\n",
              "      <td>Не определено</td>\n",
              "      <td>Не определено</td>\n",
              "      <td>NaN</td>\n",
              "      <td>679203572,0</td>\n",
              "    </tr>\n",
              "    <tr>\n",
              "      <th>2</th>\n",
              "      <td>2020-08-02</td>\n",
              "      <td>297847095</td>\n",
              "      <td>обработано с заданием</td>\n",
              "      <td>Личная явка</td>\n",
              "      <td>Не определено</td>\n",
              "      <td>Не определено</td>\n",
              "      <td>Личный кабинет клиента</td>\n",
              "      <td>Средний</td>\n",
              "      <td>Создана</td>\n",
              "      <td>Ведение учетной записи клиента ЛКК ЮЛ</td>\n",
              "      <td>Не определено</td>\n",
              "      <td>459888612,0</td>\n",
              "      <td>679218152,0</td>\n",
              "    </tr>\n",
              "    <tr>\n",
              "      <th>3</th>\n",
              "      <td>2020-08-02</td>\n",
              "      <td>297850395</td>\n",
              "      <td>обработано с заданием</td>\n",
              "      <td>Личная явка</td>\n",
              "      <td>Не определено</td>\n",
              "      <td>Не определено</td>\n",
              "      <td>Личный кабинет клиента</td>\n",
              "      <td>Критично</td>\n",
              "      <td>Создана</td>\n",
              "      <td>Ведение учетной записи клиента ЛКК ЮЛ</td>\n",
              "      <td>Не определено</td>\n",
              "      <td>459888412,0</td>\n",
              "      <td>679218082,0</td>\n",
              "    </tr>\n",
              "    <tr>\n",
              "      <th>4</th>\n",
              "      <td>2020-08-02</td>\n",
              "      <td>297850395</td>\n",
              "      <td>обработано с заданием</td>\n",
              "      <td>Личная явка</td>\n",
              "      <td>Не определено</td>\n",
              "      <td>Не определено</td>\n",
              "      <td>Личный кабинет клиента</td>\n",
              "      <td>Средний</td>\n",
              "      <td>Создана</td>\n",
              "      <td>Ведение учетной записи клиента ЛКК ЮЛ</td>\n",
              "      <td>Не определено</td>\n",
              "      <td>459888532,0</td>\n",
              "      <td>679218012,0</td>\n",
              "    </tr>\n",
              "  </tbody>\n",
              "</table>\n",
              "</div>"
            ],
            "text/plain": [
              "           dt         id  ...  task_number request_number\n",
              "0  2020-08-01  181758615  ...  459878112,0    679205022,0\n",
              "1  2020-08-01  270083496  ...          NaN    679203572,0\n",
              "2  2020-08-02  297847095  ...  459888612,0    679218152,0\n",
              "3  2020-08-02  297850395  ...  459888412,0    679218082,0\n",
              "4  2020-08-02  297850395  ...  459888532,0    679218012,0\n",
              "\n",
              "[5 rows x 13 columns]"
            ]
          },
          "metadata": {},
          "execution_count": 21
        }
      ]
    },
    {
      "cell_type": "code",
      "metadata": {
        "colab": {
          "base_uri": "https://localhost:8080/",
          "height": 475
        },
        "id": "ka1P1Ho4TOh8",
        "outputId": "80c9bb38-7dfc-4a93-fb36-9efafc8bb3ac"
      },
      "source": [
        "resumetable(obrascheniya_df)"
      ],
      "execution_count": null,
      "outputs": [
        {
          "output_type": "stream",
          "name": "stdout",
          "text": [
            "Dataset Shape: (140282, 13)\n"
          ]
        },
        {
          "output_type": "execute_result",
          "data": {
            "text/html": [
              "<div>\n",
              "<style scoped>\n",
              "    .dataframe tbody tr th:only-of-type {\n",
              "        vertical-align: middle;\n",
              "    }\n",
              "\n",
              "    .dataframe tbody tr th {\n",
              "        vertical-align: top;\n",
              "    }\n",
              "\n",
              "    .dataframe thead th {\n",
              "        text-align: right;\n",
              "    }\n",
              "</style>\n",
              "<table border=\"1\" class=\"dataframe\">\n",
              "  <thead>\n",
              "    <tr style=\"text-align: right;\">\n",
              "      <th></th>\n",
              "      <th>Name</th>\n",
              "      <th>dtypes</th>\n",
              "      <th>Missing</th>\n",
              "      <th>Uniques</th>\n",
              "      <th>First Value</th>\n",
              "    </tr>\n",
              "  </thead>\n",
              "  <tbody>\n",
              "    <tr>\n",
              "      <th>0</th>\n",
              "      <td>dt</td>\n",
              "      <td>object</td>\n",
              "      <td>0</td>\n",
              "      <td>732</td>\n",
              "      <td>2020-08-01</td>\n",
              "    </tr>\n",
              "    <tr>\n",
              "      <th>1</th>\n",
              "      <td>id</td>\n",
              "      <td>int64</td>\n",
              "      <td>0</td>\n",
              "      <td>61928</td>\n",
              "      <td>181758615</td>\n",
              "    </tr>\n",
              "    <tr>\n",
              "      <th>2</th>\n",
              "      <td>request_status</td>\n",
              "      <td>object</td>\n",
              "      <td>0</td>\n",
              "      <td>6</td>\n",
              "      <td>в процессе принятия</td>\n",
              "    </tr>\n",
              "    <tr>\n",
              "      <th>3</th>\n",
              "      <td>request_type</td>\n",
              "      <td>object</td>\n",
              "      <td>0</td>\n",
              "      <td>21</td>\n",
              "      <td>Личная явка</td>\n",
              "    </tr>\n",
              "    <tr>\n",
              "      <th>4</th>\n",
              "      <td>topic_level_1</td>\n",
              "      <td>object</td>\n",
              "      <td>0</td>\n",
              "      <td>1</td>\n",
              "      <td>Не определено</td>\n",
              "    </tr>\n",
              "    <tr>\n",
              "      <th>5</th>\n",
              "      <td>topic_level_2</td>\n",
              "      <td>object</td>\n",
              "      <td>0</td>\n",
              "      <td>12</td>\n",
              "      <td>Не определено</td>\n",
              "    </tr>\n",
              "    <tr>\n",
              "      <th>6</th>\n",
              "      <td>topic_level_3</td>\n",
              "      <td>object</td>\n",
              "      <td>0</td>\n",
              "      <td>35</td>\n",
              "      <td>Личный кабинет клиента</td>\n",
              "    </tr>\n",
              "    <tr>\n",
              "      <th>7</th>\n",
              "      <td>task_priority</td>\n",
              "      <td>object</td>\n",
              "      <td>0</td>\n",
              "      <td>4</td>\n",
              "      <td>Средний</td>\n",
              "    </tr>\n",
              "    <tr>\n",
              "      <th>8</th>\n",
              "      <td>task_status</td>\n",
              "      <td>object</td>\n",
              "      <td>0</td>\n",
              "      <td>7</td>\n",
              "      <td>В ожидании</td>\n",
              "    </tr>\n",
              "    <tr>\n",
              "      <th>9</th>\n",
              "      <td>task_type</td>\n",
              "      <td>object</td>\n",
              "      <td>0</td>\n",
              "      <td>7</td>\n",
              "      <td>Ведение учетной записи клиента ЛКК ЮЛ</td>\n",
              "    </tr>\n",
              "    <tr>\n",
              "      <th>10</th>\n",
              "      <td>topic_attribute</td>\n",
              "      <td>object</td>\n",
              "      <td>0</td>\n",
              "      <td>24</td>\n",
              "      <td>Не определено</td>\n",
              "    </tr>\n",
              "    <tr>\n",
              "      <th>11</th>\n",
              "      <td>task_number</td>\n",
              "      <td>object</td>\n",
              "      <td>52358</td>\n",
              "      <td>87924</td>\n",
              "      <td>459878112,0</td>\n",
              "    </tr>\n",
              "    <tr>\n",
              "      <th>12</th>\n",
              "      <td>request_number</td>\n",
              "      <td>object</td>\n",
              "      <td>0</td>\n",
              "      <td>138712</td>\n",
              "      <td>679205022,0</td>\n",
              "    </tr>\n",
              "  </tbody>\n",
              "</table>\n",
              "</div>"
            ],
            "text/plain": [
              "               Name  dtypes  ...  Uniques                            First Value\n",
              "0                dt  object  ...      732                             2020-08-01\n",
              "1                id   int64  ...    61928                              181758615\n",
              "2    request_status  object  ...        6                    в процессе принятия\n",
              "3      request_type  object  ...       21                            Личная явка\n",
              "4     topic_level_1  object  ...        1                          Не определено\n",
              "5     topic_level_2  object  ...       12                          Не определено\n",
              "6     topic_level_3  object  ...       35                 Личный кабинет клиента\n",
              "7     task_priority  object  ...        4                                Средний\n",
              "8       task_status  object  ...        7                             В ожидании\n",
              "9         task_type  object  ...        7  Ведение учетной записи клиента ЛКК ЮЛ\n",
              "10  topic_attribute  object  ...       24                          Не определено\n",
              "11      task_number  object  ...    87924                            459878112,0\n",
              "12   request_number  object  ...   138712                            679205022,0\n",
              "\n",
              "[13 rows x 5 columns]"
            ]
          },
          "metadata": {},
          "execution_count": 22
        }
      ]
    },
    {
      "cell_type": "code",
      "metadata": {
        "colab": {
          "base_uri": "https://localhost:8080/"
        },
        "id": "qkEtihbMTOef",
        "outputId": "920b2844-c45b-48b7-e969-727e66114a0c"
      },
      "source": [
        "# Заменим все NaN на 0\n",
        "obrascheniya_df = obrascheniya_df.fillna(0)\n",
        "obrascheniya_df.isna().sum()"
      ],
      "execution_count": null,
      "outputs": [
        {
          "output_type": "execute_result",
          "data": {
            "text/plain": [
              "dt                 0\n",
              "id                 0\n",
              "request_status     0\n",
              "request_type       0\n",
              "topic_level_1      0\n",
              "topic_level_2      0\n",
              "topic_level_3      0\n",
              "task_priority      0\n",
              "task_status        0\n",
              "task_type          0\n",
              "topic_attribute    0\n",
              "task_number        0\n",
              "request_number     0\n",
              "dtype: int64"
            ]
          },
          "metadata": {},
          "execution_count": 23
        }
      ]
    },
    {
      "cell_type": "code",
      "metadata": {
        "colab": {
          "base_uri": "https://localhost:8080/",
          "height": 319
        },
        "id": "PipFAOW2q_3g",
        "outputId": "aaac0c3f-ca20-4cd7-c69a-e5fd89ab5663"
      },
      "source": [
        "# Удалим столбец request_type, так как у всех заявок один тип\n",
        "obrascheniya_df.drop(['topic_level_1'], axis = 1)\n",
        "obrascheniya_df.head(3)"
      ],
      "execution_count": null,
      "outputs": [
        {
          "output_type": "execute_result",
          "data": {
            "text/html": [
              "<div>\n",
              "<style scoped>\n",
              "    .dataframe tbody tr th:only-of-type {\n",
              "        vertical-align: middle;\n",
              "    }\n",
              "\n",
              "    .dataframe tbody tr th {\n",
              "        vertical-align: top;\n",
              "    }\n",
              "\n",
              "    .dataframe thead th {\n",
              "        text-align: right;\n",
              "    }\n",
              "</style>\n",
              "<table border=\"1\" class=\"dataframe\">\n",
              "  <thead>\n",
              "    <tr style=\"text-align: right;\">\n",
              "      <th></th>\n",
              "      <th>dt</th>\n",
              "      <th>id</th>\n",
              "      <th>request_status</th>\n",
              "      <th>request_type</th>\n",
              "      <th>topic_level_1</th>\n",
              "      <th>topic_level_2</th>\n",
              "      <th>topic_level_3</th>\n",
              "      <th>task_priority</th>\n",
              "      <th>task_status</th>\n",
              "      <th>task_type</th>\n",
              "      <th>topic_attribute</th>\n",
              "      <th>task_number</th>\n",
              "      <th>request_number</th>\n",
              "    </tr>\n",
              "  </thead>\n",
              "  <tbody>\n",
              "    <tr>\n",
              "      <th>0</th>\n",
              "      <td>2020-08-01</td>\n",
              "      <td>181758615</td>\n",
              "      <td>в процессе принятия</td>\n",
              "      <td>Личная явка</td>\n",
              "      <td>Не определено</td>\n",
              "      <td>Не определено</td>\n",
              "      <td>Личный кабинет клиента</td>\n",
              "      <td>Средний</td>\n",
              "      <td>В ожидании</td>\n",
              "      <td>Ведение учетной записи клиента ЛКК ЮЛ</td>\n",
              "      <td>Не определено</td>\n",
              "      <td>459878112,0</td>\n",
              "      <td>679205022,0</td>\n",
              "    </tr>\n",
              "    <tr>\n",
              "      <th>1</th>\n",
              "      <td>2020-08-01</td>\n",
              "      <td>270083496</td>\n",
              "      <td>в процессе принятия</td>\n",
              "      <td>Личная явка</td>\n",
              "      <td>Не определено</td>\n",
              "      <td>Не определено</td>\n",
              "      <td>Не определено</td>\n",
              "      <td>Не определено</td>\n",
              "      <td>Не определено</td>\n",
              "      <td>Не определено</td>\n",
              "      <td>Не определено</td>\n",
              "      <td>0</td>\n",
              "      <td>679203572,0</td>\n",
              "    </tr>\n",
              "    <tr>\n",
              "      <th>2</th>\n",
              "      <td>2020-08-02</td>\n",
              "      <td>297847095</td>\n",
              "      <td>обработано с заданием</td>\n",
              "      <td>Личная явка</td>\n",
              "      <td>Не определено</td>\n",
              "      <td>Не определено</td>\n",
              "      <td>Личный кабинет клиента</td>\n",
              "      <td>Средний</td>\n",
              "      <td>Создана</td>\n",
              "      <td>Ведение учетной записи клиента ЛКК ЮЛ</td>\n",
              "      <td>Не определено</td>\n",
              "      <td>459888612,0</td>\n",
              "      <td>679218152,0</td>\n",
              "    </tr>\n",
              "  </tbody>\n",
              "</table>\n",
              "</div>"
            ],
            "text/plain": [
              "           dt         id  ...  task_number request_number\n",
              "0  2020-08-01  181758615  ...  459878112,0    679205022,0\n",
              "1  2020-08-01  270083496  ...            0    679203572,0\n",
              "2  2020-08-02  297847095  ...  459888612,0    679218152,0\n",
              "\n",
              "[3 rows x 13 columns]"
            ]
          },
          "metadata": {},
          "execution_count": 24
        }
      ]
    },
    {
      "cell_type": "code",
      "metadata": {
        "colab": {
          "base_uri": "https://localhost:8080/"
        },
        "id": "QcfPELcnrcUA",
        "outputId": "1abd60b9-bbcc-4356-eca5-f2f595e5e43e"
      },
      "source": [
        "# Посчитаем количество заявок с разными статусами оплат\n",
        "obrascheniya_df['request_status'].value_counts()"
      ],
      "execution_count": null,
      "outputs": [
        {
          "output_type": "execute_result",
          "data": {
            "text/plain": [
              "обработано с заданием    78987\n",
              "обработано               40354\n",
              "прервано                 11475\n",
              "в процессе принятия       9456\n",
              "закрыто                      8\n",
              "Не определено                2\n",
              "Name: request_status, dtype: int64"
            ]
          },
          "metadata": {},
          "execution_count": 25
        }
      ]
    },
    {
      "cell_type": "markdown",
      "metadata": {
        "id": "fqJ26f4PP2Ox"
      },
      "source": [
        "10. ch.xackaton_fuv2_yur_litsa_oplati_prom"
      ]
    },
    {
      "cell_type": "code",
      "metadata": {
        "colab": {
          "base_uri": "https://localhost:8080/"
        },
        "id": "mMBurCLmQLM8",
        "outputId": "acc4111c-6871-454a-fdf8-a8939154526e"
      },
      "source": [
        "litsa_oplati_prom_df = pd.read_csv('/content/drive/MyDrive/DS ninjas/ch.xackaton_fuv2_yur_litsa_oplati_prom.csv') # Создаем df по таблице №10\n",
        "litsa_oplati_prom_df.shape"
      ],
      "execution_count": null,
      "outputs": [
        {
          "output_type": "execute_result",
          "data": {
            "text/plain": [
              "(2787767, 8)"
            ]
          },
          "metadata": {},
          "execution_count": 26
        }
      ]
    },
    {
      "cell_type": "code",
      "metadata": {
        "colab": {
          "base_uri": "https://localhost:8080/",
          "height": 226
        },
        "id": "A_Qlzi0tQLov",
        "outputId": "ac26e46d-c176-49d0-e35b-f3d171f2788b"
      },
      "source": [
        "litsa_oplati_prom_df.head()"
      ],
      "execution_count": null,
      "outputs": [
        {
          "output_type": "execute_result",
          "data": {
            "text/html": [
              "<div>\n",
              "<style scoped>\n",
              "    .dataframe tbody tr th:only-of-type {\n",
              "        vertical-align: middle;\n",
              "    }\n",
              "\n",
              "    .dataframe tbody tr th {\n",
              "        vertical-align: top;\n",
              "    }\n",
              "\n",
              "    .dataframe thead th {\n",
              "        text-align: right;\n",
              "    }\n",
              "</style>\n",
              "<table border=\"1\" class=\"dataframe\">\n",
              "  <thead>\n",
              "    <tr style=\"text-align: right;\">\n",
              "      <th></th>\n",
              "      <th>month_year</th>\n",
              "      <th>id</th>\n",
              "      <th>paid_with_nds_rub</th>\n",
              "      <th>paid_to_current_usage_with_nds_rub</th>\n",
              "      <th>paid_as_debt_with_nds_rub</th>\n",
              "      <th>paid_as_prepayment_with_nds_rub</th>\n",
              "      <th>total_realiztion_with_nds_rub</th>\n",
              "      <th>by_acts_of_ex_usage_with_nds</th>\n",
              "    </tr>\n",
              "  </thead>\n",
              "  <tbody>\n",
              "    <tr>\n",
              "      <th>0</th>\n",
              "      <td>2021.02</td>\n",
              "      <td>30000375</td>\n",
              "      <td>265789.78</td>\n",
              "      <td>171932.27</td>\n",
              "      <td>93857.50</td>\n",
              "      <td>171932.27</td>\n",
              "      <td>265789.78</td>\n",
              "      <td>0.0</td>\n",
              "    </tr>\n",
              "    <tr>\n",
              "      <th>1</th>\n",
              "      <td>2021.02</td>\n",
              "      <td>30000531</td>\n",
              "      <td>18830.10</td>\n",
              "      <td>13190.24</td>\n",
              "      <td>5639.86</td>\n",
              "      <td>13190.24</td>\n",
              "      <td>18830.10</td>\n",
              "      <td>0.0</td>\n",
              "    </tr>\n",
              "    <tr>\n",
              "      <th>2</th>\n",
              "      <td>2021.02</td>\n",
              "      <td>30000807</td>\n",
              "      <td>11116848.00</td>\n",
              "      <td>8162745.00</td>\n",
              "      <td>2954102.80</td>\n",
              "      <td>8162745.00</td>\n",
              "      <td>11116848.00</td>\n",
              "      <td>0.0</td>\n",
              "    </tr>\n",
              "    <tr>\n",
              "      <th>3</th>\n",
              "      <td>2021.02</td>\n",
              "      <td>30000831</td>\n",
              "      <td>119813.08</td>\n",
              "      <td>62370.90</td>\n",
              "      <td>57442.18</td>\n",
              "      <td>62370.90</td>\n",
              "      <td>119813.08</td>\n",
              "      <td>0.0</td>\n",
              "    </tr>\n",
              "    <tr>\n",
              "      <th>4</th>\n",
              "      <td>2021.02</td>\n",
              "      <td>30000891</td>\n",
              "      <td>82116.83</td>\n",
              "      <td>67154.64</td>\n",
              "      <td>14962.19</td>\n",
              "      <td>67154.64</td>\n",
              "      <td>82116.83</td>\n",
              "      <td>0.0</td>\n",
              "    </tr>\n",
              "  </tbody>\n",
              "</table>\n",
              "</div>"
            ],
            "text/plain": [
              "   month_year  ...  by_acts_of_ex_usage_with_nds\n",
              "0     2021.02  ...                           0.0\n",
              "1     2021.02  ...                           0.0\n",
              "2     2021.02  ...                           0.0\n",
              "3     2021.02  ...                           0.0\n",
              "4     2021.02  ...                           0.0\n",
              "\n",
              "[5 rows x 8 columns]"
            ]
          },
          "metadata": {},
          "execution_count": 27
        }
      ]
    },
    {
      "cell_type": "code",
      "metadata": {
        "colab": {
          "base_uri": "https://localhost:8080/",
          "height": 318
        },
        "id": "5peioPkeQLbi",
        "outputId": "ba38303b-6f1e-4e26-a432-1dd2aff7dc33"
      },
      "source": [
        "resumetable(litsa_oplati_prom_df)"
      ],
      "execution_count": null,
      "outputs": [
        {
          "output_type": "stream",
          "name": "stdout",
          "text": [
            "Dataset Shape: (2787767, 8)\n"
          ]
        },
        {
          "output_type": "execute_result",
          "data": {
            "text/html": [
              "<div>\n",
              "<style scoped>\n",
              "    .dataframe tbody tr th:only-of-type {\n",
              "        vertical-align: middle;\n",
              "    }\n",
              "\n",
              "    .dataframe tbody tr th {\n",
              "        vertical-align: top;\n",
              "    }\n",
              "\n",
              "    .dataframe thead th {\n",
              "        text-align: right;\n",
              "    }\n",
              "</style>\n",
              "<table border=\"1\" class=\"dataframe\">\n",
              "  <thead>\n",
              "    <tr style=\"text-align: right;\">\n",
              "      <th></th>\n",
              "      <th>Name</th>\n",
              "      <th>dtypes</th>\n",
              "      <th>Missing</th>\n",
              "      <th>Uniques</th>\n",
              "      <th>First Value</th>\n",
              "    </tr>\n",
              "  </thead>\n",
              "  <tbody>\n",
              "    <tr>\n",
              "      <th>0</th>\n",
              "      <td>month_year</td>\n",
              "      <td>float64</td>\n",
              "      <td>0</td>\n",
              "      <td>25</td>\n",
              "      <td>2021.02</td>\n",
              "    </tr>\n",
              "    <tr>\n",
              "      <th>1</th>\n",
              "      <td>id</td>\n",
              "      <td>int64</td>\n",
              "      <td>0</td>\n",
              "      <td>155230</td>\n",
              "      <td>30000375.00</td>\n",
              "    </tr>\n",
              "    <tr>\n",
              "      <th>2</th>\n",
              "      <td>paid_with_nds_rub</td>\n",
              "      <td>float64</td>\n",
              "      <td>0</td>\n",
              "      <td>1826153</td>\n",
              "      <td>265789.78</td>\n",
              "    </tr>\n",
              "    <tr>\n",
              "      <th>3</th>\n",
              "      <td>paid_to_current_usage_with_nds_rub</td>\n",
              "      <td>float64</td>\n",
              "      <td>0</td>\n",
              "      <td>1311688</td>\n",
              "      <td>171932.27</td>\n",
              "    </tr>\n",
              "    <tr>\n",
              "      <th>4</th>\n",
              "      <td>paid_as_debt_with_nds_rub</td>\n",
              "      <td>float64</td>\n",
              "      <td>0</td>\n",
              "      <td>1522870</td>\n",
              "      <td>93857.50</td>\n",
              "    </tr>\n",
              "    <tr>\n",
              "      <th>5</th>\n",
              "      <td>paid_as_prepayment_with_nds_rub</td>\n",
              "      <td>float64</td>\n",
              "      <td>0</td>\n",
              "      <td>1337801</td>\n",
              "      <td>171932.27</td>\n",
              "    </tr>\n",
              "    <tr>\n",
              "      <th>6</th>\n",
              "      <td>total_realiztion_with_nds_rub</td>\n",
              "      <td>float64</td>\n",
              "      <td>0</td>\n",
              "      <td>1881246</td>\n",
              "      <td>265789.78</td>\n",
              "    </tr>\n",
              "    <tr>\n",
              "      <th>7</th>\n",
              "      <td>by_acts_of_ex_usage_with_nds</td>\n",
              "      <td>float64</td>\n",
              "      <td>0</td>\n",
              "      <td>1024</td>\n",
              "      <td>0.00</td>\n",
              "    </tr>\n",
              "  </tbody>\n",
              "</table>\n",
              "</div>"
            ],
            "text/plain": [
              "                                 Name   dtypes  Missing  Uniques  First Value\n",
              "0                          month_year  float64        0       25      2021.02\n",
              "1                                  id    int64        0   155230  30000375.00\n",
              "2                   paid_with_nds_rub  float64        0  1826153    265789.78\n",
              "3  paid_to_current_usage_with_nds_rub  float64        0  1311688    171932.27\n",
              "4           paid_as_debt_with_nds_rub  float64        0  1522870     93857.50\n",
              "5     paid_as_prepayment_with_nds_rub  float64        0  1337801    171932.27\n",
              "6       total_realiztion_with_nds_rub  float64        0  1881246    265789.78\n",
              "7        by_acts_of_ex_usage_with_nds  float64        0     1024         0.00"
            ]
          },
          "metadata": {},
          "execution_count": 28
        }
      ]
    },
    {
      "cell_type": "markdown",
      "metadata": {
        "id": "_Eec2Cj7QMPi"
      },
      "source": [
        "11. ch.xackaton_fuv2_pararmetri_avansovih_raschetov"
      ]
    },
    {
      "cell_type": "code",
      "metadata": {
        "colab": {
          "base_uri": "https://localhost:8080/"
        },
        "id": "UMjdD3FMQOCi",
        "outputId": "b31eb876-1b57-4020-8cf5-948a519cf943"
      },
      "source": [
        "pararmetri_avansovih_raschetov_df = pd.read_csv('/content/drive/MyDrive/DS ninjas/ch.xackaton_fuv2_pararmetri_avansovih_raschetov.csv') # Создаем df по таблице №10\n",
        "pararmetri_avansovih_raschetov_df.shape"
      ],
      "execution_count": null,
      "outputs": [
        {
          "output_type": "execute_result",
          "data": {
            "text/plain": [
              "(163548, 6)"
            ]
          },
          "metadata": {},
          "execution_count": 29
        }
      ]
    },
    {
      "cell_type": "code",
      "metadata": {
        "colab": {
          "base_uri": "https://localhost:8080/",
          "height": 206
        },
        "id": "PL0fAkV7QPN0",
        "outputId": "03f016f0-06e1-4c21-b3d3-257d5237b68b"
      },
      "source": [
        "pararmetri_avansovih_raschetov_df.head()"
      ],
      "execution_count": null,
      "outputs": [
        {
          "output_type": "execute_result",
          "data": {
            "text/html": [
              "<div>\n",
              "<style scoped>\n",
              "    .dataframe tbody tr th:only-of-type {\n",
              "        vertical-align: middle;\n",
              "    }\n",
              "\n",
              "    .dataframe tbody tr th {\n",
              "        vertical-align: top;\n",
              "    }\n",
              "\n",
              "    .dataframe thead th {\n",
              "        text-align: right;\n",
              "    }\n",
              "</style>\n",
              "<table border=\"1\" class=\"dataframe\">\n",
              "  <thead>\n",
              "    <tr style=\"text-align: right;\">\n",
              "      <th></th>\n",
              "      <th>id</th>\n",
              "      <th>prepayment_date_1</th>\n",
              "      <th>prepayment_date_2</th>\n",
              "      <th>prepayment_percent_1</th>\n",
              "      <th>prepayment_percent_2</th>\n",
              "      <th>fake_id</th>\n",
              "    </tr>\n",
              "  </thead>\n",
              "  <tbody>\n",
              "    <tr>\n",
              "      <th>0</th>\n",
              "      <td>0</td>\n",
              "      <td>10</td>\n",
              "      <td>0</td>\n",
              "      <td>0</td>\n",
              "      <td>\\N</td>\n",
              "      <td>0</td>\n",
              "    </tr>\n",
              "    <tr>\n",
              "      <th>1</th>\n",
              "      <td>2592</td>\n",
              "      <td>0</td>\n",
              "      <td>0</td>\n",
              "      <td>100</td>\n",
              "      <td>\\N</td>\n",
              "      <td>0</td>\n",
              "    </tr>\n",
              "    <tr>\n",
              "      <th>2</th>\n",
              "      <td>30000030</td>\n",
              "      <td>10</td>\n",
              "      <td>25</td>\n",
              "      <td>0</td>\n",
              "      <td>\\N</td>\n",
              "      <td>0</td>\n",
              "    </tr>\n",
              "    <tr>\n",
              "      <th>3</th>\n",
              "      <td>30000375</td>\n",
              "      <td>10</td>\n",
              "      <td>25</td>\n",
              "      <td>30</td>\n",
              "      <td>40</td>\n",
              "      <td>0</td>\n",
              "    </tr>\n",
              "    <tr>\n",
              "      <th>4</th>\n",
              "      <td>30000531</td>\n",
              "      <td>10</td>\n",
              "      <td>25</td>\n",
              "      <td>30</td>\n",
              "      <td>40</td>\n",
              "      <td>0</td>\n",
              "    </tr>\n",
              "  </tbody>\n",
              "</table>\n",
              "</div>"
            ],
            "text/plain": [
              "         id prepayment_date_1  ... prepayment_percent_2 fake_id\n",
              "0         0                10  ...                   \\N       0\n",
              "1      2592                 0  ...                   \\N       0\n",
              "2  30000030                10  ...                   \\N       0\n",
              "3  30000375                10  ...                   40       0\n",
              "4  30000531                10  ...                   40       0\n",
              "\n",
              "[5 rows x 6 columns]"
            ]
          },
          "metadata": {},
          "execution_count": 30
        }
      ]
    },
    {
      "cell_type": "code",
      "metadata": {
        "colab": {
          "base_uri": "https://localhost:8080/",
          "height": 255
        },
        "id": "71N_-B-lQPEm",
        "outputId": "fef4f29c-4e7a-4bbb-c683-c1d483ef946a"
      },
      "source": [
        "resumetable(pararmetri_avansovih_raschetov_df)"
      ],
      "execution_count": null,
      "outputs": [
        {
          "output_type": "stream",
          "name": "stdout",
          "text": [
            "Dataset Shape: (163548, 6)\n"
          ]
        },
        {
          "output_type": "execute_result",
          "data": {
            "text/html": [
              "<div>\n",
              "<style scoped>\n",
              "    .dataframe tbody tr th:only-of-type {\n",
              "        vertical-align: middle;\n",
              "    }\n",
              "\n",
              "    .dataframe tbody tr th {\n",
              "        vertical-align: top;\n",
              "    }\n",
              "\n",
              "    .dataframe thead th {\n",
              "        text-align: right;\n",
              "    }\n",
              "</style>\n",
              "<table border=\"1\" class=\"dataframe\">\n",
              "  <thead>\n",
              "    <tr style=\"text-align: right;\">\n",
              "      <th></th>\n",
              "      <th>Name</th>\n",
              "      <th>dtypes</th>\n",
              "      <th>Missing</th>\n",
              "      <th>Uniques</th>\n",
              "      <th>First Value</th>\n",
              "    </tr>\n",
              "  </thead>\n",
              "  <tbody>\n",
              "    <tr>\n",
              "      <th>0</th>\n",
              "      <td>id</td>\n",
              "      <td>int64</td>\n",
              "      <td>0</td>\n",
              "      <td>163540</td>\n",
              "      <td>0</td>\n",
              "    </tr>\n",
              "    <tr>\n",
              "      <th>1</th>\n",
              "      <td>prepayment_date_1</td>\n",
              "      <td>object</td>\n",
              "      <td>0</td>\n",
              "      <td>14</td>\n",
              "      <td>10</td>\n",
              "    </tr>\n",
              "    <tr>\n",
              "      <th>2</th>\n",
              "      <td>prepayment_date_2</td>\n",
              "      <td>object</td>\n",
              "      <td>0</td>\n",
              "      <td>9</td>\n",
              "      <td>0</td>\n",
              "    </tr>\n",
              "    <tr>\n",
              "      <th>3</th>\n",
              "      <td>prepayment_percent_1</td>\n",
              "      <td>object</td>\n",
              "      <td>0</td>\n",
              "      <td>24</td>\n",
              "      <td>0</td>\n",
              "    </tr>\n",
              "    <tr>\n",
              "      <th>4</th>\n",
              "      <td>prepayment_percent_2</td>\n",
              "      <td>object</td>\n",
              "      <td>0</td>\n",
              "      <td>20</td>\n",
              "      <td>\\N</td>\n",
              "    </tr>\n",
              "    <tr>\n",
              "      <th>5</th>\n",
              "      <td>fake_id</td>\n",
              "      <td>int64</td>\n",
              "      <td>0</td>\n",
              "      <td>1</td>\n",
              "      <td>0</td>\n",
              "    </tr>\n",
              "  </tbody>\n",
              "</table>\n",
              "</div>"
            ],
            "text/plain": [
              "                   Name  dtypes  Missing  Uniques First Value\n",
              "0                    id   int64        0   163540           0\n",
              "1     prepayment_date_1  object        0       14          10\n",
              "2     prepayment_date_2  object        0        9           0\n",
              "3  prepayment_percent_1  object        0       24           0\n",
              "4  prepayment_percent_2  object        0       20          \\N\n",
              "5               fake_id   int64        0        1           0"
            ]
          },
          "metadata": {},
          "execution_count": 31
        }
      ]
    },
    {
      "cell_type": "markdown",
      "metadata": {
        "id": "I9tdqzZJQP-A"
      },
      "source": [
        "12. ch.xackaton_fuv2_parametri_dogovora_yur_nds_mkzd_odn_finsource"
      ]
    },
    {
      "cell_type": "code",
      "metadata": {
        "colab": {
          "base_uri": "https://localhost:8080/"
        },
        "id": "AMMPTDK_QRrn",
        "outputId": "28500fd4-017e-47f4-9185-cd522bc01e40"
      },
      "source": [
        "nds_mkzd_odn_finsource_df = pd.read_csv('/content/drive/MyDrive/DS ninjas/ch.xackaton_fuv2_parametri_dogovora_yur_nds_mkzd_odn_finsource.csv') # Создаем df по таблице №10\n",
        "nds_mkzd_odn_finsource_df.shape"
      ],
      "execution_count": null,
      "outputs": [
        {
          "output_type": "execute_result",
          "data": {
            "text/plain": [
              "(163548, 6)"
            ]
          },
          "metadata": {},
          "execution_count": 32
        }
      ]
    },
    {
      "cell_type": "code",
      "metadata": {
        "colab": {
          "base_uri": "https://localhost:8080/",
          "height": 206
        },
        "id": "V9lTz8KCQSVg",
        "outputId": "fb19e6f0-930f-4ce0-b125-beeaaf5f7c42"
      },
      "source": [
        "nds_mkzd_odn_finsource_df.head()"
      ],
      "execution_count": null,
      "outputs": [
        {
          "output_type": "execute_result",
          "data": {
            "text/html": [
              "<div>\n",
              "<style scoped>\n",
              "    .dataframe tbody tr th:only-of-type {\n",
              "        vertical-align: middle;\n",
              "    }\n",
              "\n",
              "    .dataframe tbody tr th {\n",
              "        vertical-align: top;\n",
              "    }\n",
              "\n",
              "    .dataframe thead th {\n",
              "        text-align: right;\n",
              "    }\n",
              "</style>\n",
              "<table border=\"1\" class=\"dataframe\">\n",
              "  <thead>\n",
              "    <tr style=\"text-align: right;\">\n",
              "      <th></th>\n",
              "      <th>id</th>\n",
              "      <th>nds_is_valuable</th>\n",
              "      <th>payment_date</th>\n",
              "      <th>finance_source</th>\n",
              "      <th>mkzd_is_valuable</th>\n",
              "      <th>odn_is_valuable</th>\n",
              "    </tr>\n",
              "  </thead>\n",
              "  <tbody>\n",
              "    <tr>\n",
              "      <th>0</th>\n",
              "      <td>0</td>\n",
              "      <td>1</td>\n",
              "      <td>18</td>\n",
              "      <td>(не определено)</td>\n",
              "      <td>0</td>\n",
              "      <td>0</td>\n",
              "    </tr>\n",
              "    <tr>\n",
              "      <th>1</th>\n",
              "      <td>2592</td>\n",
              "      <td>1</td>\n",
              "      <td>18</td>\n",
              "      <td>коммерческие организации</td>\n",
              "      <td>0</td>\n",
              "      <td>0</td>\n",
              "    </tr>\n",
              "    <tr>\n",
              "      <th>2</th>\n",
              "      <td>30000030</td>\n",
              "      <td>1</td>\n",
              "      <td>15</td>\n",
              "      <td>самостоятельное финансирование</td>\n",
              "      <td>0</td>\n",
              "      <td>0</td>\n",
              "    </tr>\n",
              "    <tr>\n",
              "      <th>3</th>\n",
              "      <td>30000375</td>\n",
              "      <td>1</td>\n",
              "      <td>18</td>\n",
              "      <td>федер.бюджет</td>\n",
              "      <td>0</td>\n",
              "      <td>0</td>\n",
              "    </tr>\n",
              "    <tr>\n",
              "      <th>4</th>\n",
              "      <td>30000531</td>\n",
              "      <td>1</td>\n",
              "      <td>18</td>\n",
              "      <td>самостоятельное финансирование</td>\n",
              "      <td>0</td>\n",
              "      <td>0</td>\n",
              "    </tr>\n",
              "  </tbody>\n",
              "</table>\n",
              "</div>"
            ],
            "text/plain": [
              "         id  nds_is_valuable  ...  mkzd_is_valuable odn_is_valuable\n",
              "0         0                1  ...                 0               0\n",
              "1      2592                1  ...                 0               0\n",
              "2  30000030                1  ...                 0               0\n",
              "3  30000375                1  ...                 0               0\n",
              "4  30000531                1  ...                 0               0\n",
              "\n",
              "[5 rows x 6 columns]"
            ]
          },
          "metadata": {},
          "execution_count": 33
        }
      ]
    },
    {
      "cell_type": "code",
      "metadata": {
        "colab": {
          "base_uri": "https://localhost:8080/",
          "height": 255
        },
        "id": "BBHdXhT1QSJy",
        "outputId": "4eb3f4d7-27ee-4a52-cd64-f552f63e38ec"
      },
      "source": [
        "resumetable(nds_mkzd_odn_finsource_df)"
      ],
      "execution_count": null,
      "outputs": [
        {
          "output_type": "stream",
          "name": "stdout",
          "text": [
            "Dataset Shape: (163548, 6)\n"
          ]
        },
        {
          "output_type": "execute_result",
          "data": {
            "text/html": [
              "<div>\n",
              "<style scoped>\n",
              "    .dataframe tbody tr th:only-of-type {\n",
              "        vertical-align: middle;\n",
              "    }\n",
              "\n",
              "    .dataframe tbody tr th {\n",
              "        vertical-align: top;\n",
              "    }\n",
              "\n",
              "    .dataframe thead th {\n",
              "        text-align: right;\n",
              "    }\n",
              "</style>\n",
              "<table border=\"1\" class=\"dataframe\">\n",
              "  <thead>\n",
              "    <tr style=\"text-align: right;\">\n",
              "      <th></th>\n",
              "      <th>Name</th>\n",
              "      <th>dtypes</th>\n",
              "      <th>Missing</th>\n",
              "      <th>Uniques</th>\n",
              "      <th>First Value</th>\n",
              "    </tr>\n",
              "  </thead>\n",
              "  <tbody>\n",
              "    <tr>\n",
              "      <th>0</th>\n",
              "      <td>id</td>\n",
              "      <td>int64</td>\n",
              "      <td>0</td>\n",
              "      <td>163540</td>\n",
              "      <td>0</td>\n",
              "    </tr>\n",
              "    <tr>\n",
              "      <th>1</th>\n",
              "      <td>nds_is_valuable</td>\n",
              "      <td>int64</td>\n",
              "      <td>0</td>\n",
              "      <td>2</td>\n",
              "      <td>1</td>\n",
              "    </tr>\n",
              "    <tr>\n",
              "      <th>2</th>\n",
              "      <td>payment_date</td>\n",
              "      <td>int64</td>\n",
              "      <td>0</td>\n",
              "      <td>10</td>\n",
              "      <td>18</td>\n",
              "    </tr>\n",
              "    <tr>\n",
              "      <th>3</th>\n",
              "      <td>finance_source</td>\n",
              "      <td>object</td>\n",
              "      <td>0</td>\n",
              "      <td>13</td>\n",
              "      <td>(не определено)</td>\n",
              "    </tr>\n",
              "    <tr>\n",
              "      <th>4</th>\n",
              "      <td>mkzd_is_valuable</td>\n",
              "      <td>int64</td>\n",
              "      <td>0</td>\n",
              "      <td>2</td>\n",
              "      <td>0</td>\n",
              "    </tr>\n",
              "    <tr>\n",
              "      <th>5</th>\n",
              "      <td>odn_is_valuable</td>\n",
              "      <td>int64</td>\n",
              "      <td>0</td>\n",
              "      <td>2</td>\n",
              "      <td>0</td>\n",
              "    </tr>\n",
              "  </tbody>\n",
              "</table>\n",
              "</div>"
            ],
            "text/plain": [
              "               Name  dtypes  Missing  Uniques      First Value\n",
              "0                id   int64        0   163540                0\n",
              "1   nds_is_valuable   int64        0        2                1\n",
              "2      payment_date   int64        0       10               18\n",
              "3    finance_source  object        0       13  (не определено)\n",
              "4  mkzd_is_valuable   int64        0        2                0\n",
              "5   odn_is_valuable   int64        0        2                0"
            ]
          },
          "metadata": {},
          "execution_count": 34
        }
      ]
    }
  ]
}