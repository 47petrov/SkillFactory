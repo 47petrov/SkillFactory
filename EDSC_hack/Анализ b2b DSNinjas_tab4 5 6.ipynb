{
  "nbformat": 4,
  "nbformat_minor": 0,
  "metadata": {
    "colab": {
      "name": "Анализ b2b__версия_1.ipynb",
      "provenance": [],
      "collapsed_sections": [],
      "toc_visible": true
    },
    "kernelspec": {
      "name": "python3",
      "display_name": "Python 3"
    },
    "language_info": {
      "name": "python"
    }
  },
  "cells": [
    {
      "cell_type": "markdown",
      "metadata": {
        "id": "sV1w9ztr7aWJ"
      },
      "source": [
        "# **ИМПОРТ нужных библиотек и классов**"
      ]
    },
    {
      "cell_type": "code",
      "metadata": {
        "colab": {
          "base_uri": "https://localhost:8080/"
        },
        "id": "-yBFaNGjbYnC",
        "outputId": "19bd4999-85c0-47ef-a905-f12ab86b8d63"
      },
      "source": [
        "!git clone https://github.com/fizyr/keras-retinanet.git"
      ],
      "execution_count": null,
      "outputs": [
        {
          "output_type": "stream",
          "name": "stdout",
          "text": [
            "Cloning into 'keras-retinanet'...\n",
            "remote: Enumerating objects: 6205, done.\u001b[K\n",
            "remote: Total 6205 (delta 0), reused 0 (delta 0), pack-reused 6205\u001b[K\n",
            "Receiving objects: 100% (6205/6205), 13.47 MiB | 28.97 MiB/s, done.\n",
            "Resolving deltas: 100% (4201/4201), done.\n"
          ]
        }
      ]
    },
    {
      "cell_type": "code",
      "metadata": {
        "colab": {
          "base_uri": "https://localhost:8080/"
        },
        "id": "jjYhEtNHbYnK",
        "outputId": "655802d7-e405-4f57-e600-e21c3a2bc22d"
      },
      "source": [
        "%cd keras-retinanet/"
      ],
      "execution_count": null,
      "outputs": [
        {
          "output_type": "stream",
          "name": "stdout",
          "text": [
            "/content/keras-retinanet\n"
          ]
        }
      ]
    },
    {
      "cell_type": "code",
      "metadata": {
        "id": "kwc_XAj3bYnL"
      },
      "source": [
        "!pip install ."
      ],
      "execution_count": null,
      "outputs": []
    },
    {
      "cell_type": "code",
      "metadata": {
        "id": "9GrZZ7-8bYnL"
      },
      "source": [
        "!python setup.py build_ext --inplace"
      ],
      "execution_count": null,
      "outputs": []
    },
    {
      "cell_type": "code",
      "metadata": {
        "id": "esDKS880bYnL"
      },
      "source": [
        "#tensorflow & keras\n",
        "\n",
        "import tensorflow as tf\n",
        "from keras_retinanet import models\n",
        "from keras_retinanet.utils.image import read_image_bgr, preprocess_image, resize_image\n",
        "from keras_retinanet.utils.visualization import draw_box, draw_caption\n",
        "from keras_retinanet.utils.colors import label_color"
      ],
      "execution_count": null,
      "outputs": []
    },
    {
      "cell_type": "code",
      "metadata": {
        "id": "KMVLhPzTbYnL"
      },
      "source": [
        "import keras_resnet\n",
        "\n",
        "from keras_retinanet import utils\n",
        "\n",
        "from keras.layers.normalization import layer_normalization\n",
        "from keras_retinanet.utils.gpu import setup_gpu\n",
        "from keras_retinanet.utils import compute_overlap\n",
        "\n",
        "from tensorflow.keras.applications.inception_v3 import InceptionV3\n",
        "from tensorflow.keras.models import Sequential\n",
        "from tensorflow.keras.models import Model"
      ],
      "execution_count": null,
      "outputs": []
    },
    {
      "cell_type": "code",
      "metadata": {
        "id": "yK82eip7JvU0"
      },
      "source": [
        "!pip install matplotlib-venn"
      ],
      "execution_count": null,
      "outputs": []
    },
    {
      "cell_type": "code",
      "metadata": {
        "id": "k6uLi1F8JynI",
        "colab": {
          "base_uri": "https://localhost:8080/"
        },
        "outputId": "6cef3b76-0f15-4982-c72f-19c00e651674"
      },
      "source": [
        "!pip install xmljson"
      ],
      "execution_count": 4,
      "outputs": [
        {
          "output_type": "stream",
          "name": "stdout",
          "text": [
            "Collecting xmljson\n",
            "  Downloading xmljson-0.2.1-py2.py3-none-any.whl (10 kB)\n",
            "Installing collected packages: xmljson\n",
            "Successfully installed xmljson-0.2.1\n"
          ]
        }
      ]
    },
    {
      "cell_type": "code",
      "metadata": {
        "id": "NX9YvH35GaP6"
      },
      "source": [
        "!pip install easyimages"
      ],
      "execution_count": null,
      "outputs": []
    },
    {
      "cell_type": "code",
      "metadata": {
        "id": "H_OpJhZ7NMDI",
        "colab": {
          "base_uri": "https://localhost:8080/"
        },
        "outputId": "3f9f7391-97c9-4942-fcbe-b034112a289e"
      },
      "source": [
        "!pip install Pillow"
      ],
      "execution_count": 6,
      "outputs": [
        {
          "output_type": "stream",
          "name": "stdout",
          "text": [
            "Requirement already satisfied: Pillow in /usr/local/lib/python3.7/dist-packages (7.1.2)\n"
          ]
        }
      ]
    },
    {
      "cell_type": "code",
      "metadata": {
        "id": "7CEU6anyJ6h-"
      },
      "source": [
        "\n",
        "#установка Dask\n",
        "\n",
        "!pip install dask-saturn dask==2.30.0 distributed=="
      ],
      "execution_count": null,
      "outputs": []
    },
    {
      "cell_type": "code",
      "metadata": {
        "id": "ia-27zdPKEu8"
      },
      "source": [
        "# automatically reload modules when they have changed\n",
        "%load_ext autoreload\n",
        "%autoreload 2"
      ],
      "execution_count": null,
      "outputs": []
    },
    {
      "cell_type": "code",
      "metadata": {
        "id": "yMV2lqwXqDpa"
      },
      "source": [
        "from os.path import exists\n",
        "\n",
        "#git_repo_url = 'https://github.com/fizyr/keras-retinanet'\n",
        "#retina_net_dir = 'keras-retinanet'\n",
        "\n",
        "#if not exists(retina_net_dir):\n",
        "#    # clone \"depth 1\" will only get the latest copy of the relevant files.\n",
        "#    !git clone -q --recurse-submodules --depth 1 $git_repo_url\n",
        "#    # build\n",
        "#    !cd {retina_net_dir} && pip install ."
      ],
      "execution_count": null,
      "outputs": []
    },
    {
      "cell_type": "code",
      "metadata": {
        "id": "0rWdY_eGddXw"
      },
      "source": [
        "import numpy as np \n",
        "import pandas as pd\n",
        "\n",
        "import random\n",
        "from tqdm import tqdm_notebook as tqdm # progress bar\n",
        "\n",
        "from pprint import pprint\n",
        "pd.set_option('display.max_columns', None)\n",
        "\n",
        "# для визуализации данных\n",
        "import matplotlib.pyplot as plt\n",
        "import seaborn as sns \n",
        "%matplotlib inline\n",
        "\n",
        "# библиотека для обработки даты, времени\n",
        "import datetime as dt\n",
        "import time\n",
        "from datetime import datetime, date, time, timedelta\n",
        "\n",
        "#\n",
        "from tqdm.notebook import tqdm\n",
        "import urllib\n",
        "import os\n",
        "for dirname, _, filenames in os.walk('/kaggle/input'):\n",
        "    for filename in filenames:\n",
        "        print(os.path.join(dirname, filename))\n",
        "\n",
        "# Иструмент для кодирования\n",
        "from sklearn.preprocessing import LabelEncoder\n",
        "import re\n",
        "\n",
        "# torch\n",
        "import torch\n",
        "import torch.nn as nn\n",
        "from torch.utils.data import Dataset,DataLoader\n",
        "from torch.utils.data.sampler import SequentialSampler, RandomSampler\n",
        "\n",
        "# torchvision\n",
        "import torchvision\n",
        "from torchvision.models.detection.faster_rcnn import FastRCNNPredictor, FasterRCNN\n",
        "from torchvision.models.detection.backbone_utils import resnet_fpn_backbone\n",
        "\n",
        "# sklearn\n",
        "from sklearn.model_selection import StratifiedKFold\n",
        "from sklearn.model_selection import train_test_split\n",
        "\n",
        "from sklearn.ensemble import RandomForestRegressor # инструмент для создания и обучения модели  \n",
        "from sklearn import metrics # инструменты для оценки точности модели\n",
        "\n",
        "# CV\n",
        "import cv2\n",
        "\n",
        "# Albumenatations\n",
        "import albumentations as A\n",
        "\n",
        "# Glob\n",
        "from glob import glob\n",
        "\n",
        "import warnings\n",
        "warnings.filterwarnings('ignore')\n",
        "\n",
        "# обработка изображений\n",
        "from PIL import Image, ImageDraw\n",
        "from ast import literal_eval\n",
        "\n",
        "# работа с разными форматами датасетов\n",
        "import xmljson\n",
        "import xml.etree.ElementTree as ET"
      ],
      "execution_count": 23,
      "outputs": []
    },
    {
      "cell_type": "code",
      "metadata": {
        "colab": {
          "base_uri": "https://localhost:8080/"
        },
        "id": "mgy161IiYHWu",
        "outputId": "e1c5a36b-3814-4d70-a371-f79fc5f46f82"
      },
      "source": [
        "import pyximport\n",
        "pyximport.install()"
      ],
      "execution_count": 9,
      "outputs": [
        {
          "output_type": "execute_result",
          "data": {
            "text/plain": [
              "(None, <pyximport.pyximport.PyxImporter at 0x7efe6bd387d0>)"
            ]
          },
          "metadata": {},
          "execution_count": 9
        }
      ]
    },
    {
      "cell_type": "code",
      "metadata": {
        "id": "_WgPGhyZGgMI"
      },
      "source": [
        "from easyimages import EasyImageList"
      ],
      "execution_count": 10,
      "outputs": []
    },
    {
      "cell_type": "code",
      "metadata": {
        "id": "dxwBZtd3NU4y"
      },
      "source": [
        "from PIL import Image"
      ],
      "execution_count": 11,
      "outputs": []
    },
    {
      "cell_type": "code",
      "metadata": {
        "id": "VUm_AnhtNaOS"
      },
      "source": [
        "# установка библиотек Dask\n",
        "\n",
        "from dask_saturn import SaturnCluster\n",
        "from dask.distributed import Client\n",
        "\n",
        "cluster = SaturnCluster()\n",
        "client = Client(cluster)\n",
        "client"
      ],
      "execution_count": null,
      "outputs": []
    },
    {
      "cell_type": "code",
      "metadata": {
        "colab": {
          "base_uri": "https://localhost:8080/"
        },
        "id": "YfvsRPnIGupq",
        "outputId": "ee682621-6539-4e54-c2a2-695b1f33414b"
      },
      "source": [
        "from google.colab import drive\n",
        "drive.mount('/content/drive')"
      ],
      "execution_count": 1,
      "outputs": [
        {
          "output_type": "stream",
          "name": "stdout",
          "text": [
            "Mounted at /content/drive\n"
          ]
        }
      ]
    },
    {
      "cell_type": "code",
      "metadata": {
        "id": "QZ1jk593DT5k"
      },
      "source": [
        "sheet_url = 'https://docs.google.com/spreadsheets/d/1c20_pLvDoKpsKVoP9uv_MaVqcUMDY7_qGJ8Fiq3k1cU/edit#gid=76902416'"
      ],
      "execution_count": null,
      "outputs": []
    },
    {
      "cell_type": "code",
      "metadata": {
        "id": "QotN2A5vD-Fc"
      },
      "source": [
        "csv_export_url = sheet_url.replace('/edit#gid=', '/export?format=csv&gid=') # Сначала мы превращаем в URL экспорта CSV"
      ],
      "execution_count": null,
      "outputs": []
    },
    {
      "cell_type": "markdown",
      "metadata": {
        "id": "hOVVPuPZHK0_"
      },
      "source": [
        "# **ЗАГРУЗКА датасета \"Юрлица данные по договорам\"**\n",
        "(po_yur_dannie_po_dogovoru.csv)\n"
      ]
    },
    {
      "cell_type": "code",
      "metadata": {
        "colab": {
          "base_uri": "https://localhost:8080/"
        },
        "id": "gyWAS2RY-r2e",
        "outputId": "06966043-a103-4543-a39d-563da7f67531"
      },
      "source": [
        "# Загрузка датасета:\n",
        "\n",
        "#data = pd.read_csv('4_po_yur_dannie_po_dogovoru.csv')\n",
        "#data.info()\n",
        "\n",
        "data = pd.read_csv('/content/drive/MyDrive/DS ninjas/ch.xackaton_po_yur_dannie_po_dogovoru.csv')\n",
        "data.info()"
      ],
      "execution_count": 12,
      "outputs": [
        {
          "output_type": "stream",
          "name": "stdout",
          "text": [
            "<class 'pandas.core.frame.DataFrame'>\n",
            "RangeIndex: 208347 entries, 0 to 208346\n",
            "Data columns (total 9 columns):\n",
            " #   Column               Non-Null Count   Dtype  \n",
            "---  ------               --------------   -----  \n",
            " 0   id                   208347 non-null  int64  \n",
            " 1   finance_source_name  208347 non-null  object \n",
            " 2   msfo_group_name      208343 non-null  object \n",
            " 3   nds_is_valuable      208347 non-null  object \n",
            " 4   okved_name           202669 non-null  object \n",
            " 5   voltage              198749 non-null  object \n",
            " 6   user_subgroup        198749 non-null  object \n",
            " 7   eso_is_valuable      0 non-null       float64\n",
            " 8   contract_type        198749 non-null  object \n",
            "dtypes: float64(1), int64(1), object(7)\n",
            "memory usage: 14.3+ MB\n"
          ]
        }
      ]
    },
    {
      "cell_type": "code",
      "metadata": {
        "id": "108PaK_ed779",
        "colab": {
          "base_uri": "https://localhost:8080/"
        },
        "outputId": "3ca2ff1b-248c-445b-e02a-98a685108faa"
      },
      "source": [
        "data.shape"
      ],
      "execution_count": null,
      "outputs": [
        {
          "output_type": "execute_result",
          "data": {
            "text/plain": [
              "(201238, 9)"
            ]
          },
          "metadata": {},
          "execution_count": 11
        }
      ]
    },
    {
      "cell_type": "code",
      "metadata": {
        "id": "U8ew7-4r-Ghb"
      },
      "source": [
        "data.sample(5)"
      ],
      "execution_count": null,
      "outputs": []
    },
    {
      "cell_type": "code",
      "metadata": {
        "colab": {
          "base_uri": "https://localhost:8080/"
        },
        "id": "Fh2Xv-7FUhxW",
        "outputId": "0f079834-ec5a-4d40-abb4-29c0fa78c403"
      },
      "source": [
        "data.isnull().sum()"
      ],
      "execution_count": 13,
      "outputs": [
        {
          "output_type": "execute_result",
          "data": {
            "text/plain": [
              "id                          0\n",
              "finance_source_name         0\n",
              "msfo_group_name             4\n",
              "nds_is_valuable             0\n",
              "okved_name               5678\n",
              "voltage                  9598\n",
              "user_subgroup            9598\n",
              "eso_is_valuable        208347\n",
              "contract_type            9598\n",
              "dtype: int64"
            ]
          },
          "metadata": {},
          "execution_count": 13
        }
      ]
    },
    {
      "cell_type": "code",
      "metadata": {
        "id": "0jmBUyKdHs_b",
        "colab": {
          "base_uri": "https://localhost:8080/"
        },
        "outputId": "69bb9faf-4d1e-482c-f0e1-2ed15014ef3d"
      },
      "source": [
        "data.okved_name.sort_values(ascending=True).describe()"
      ],
      "execution_count": 14,
      "outputs": [
        {
          "output_type": "execute_result",
          "data": {
            "text/plain": [
              "count                                                202669\n",
              "unique                                                 1768\n",
              "top       Аренда и управление собственным или арендованн...\n",
              "freq                                                  39687\n",
              "Name: okved_name, dtype: object"
            ]
          },
          "metadata": {},
          "execution_count": 14
        }
      ]
    },
    {
      "cell_type": "code",
      "metadata": {
        "colab": {
          "base_uri": "https://localhost:8080/"
        },
        "id": "i9s7FthS-WDp",
        "outputId": "7a0686e4-2f37-4642-ed64-845480f40e39"
      },
      "source": [
        "data.finance_source_name.value_counts()"
      ],
      "execution_count": 15,
      "outputs": [
        {
          "output_type": "execute_result",
          "data": {
            "text/plain": [
              "самостоятельное финансирование                        187337\n",
              "районный или гор.бюджет М.О.                            6668\n",
              "федер.бюджет                                            4775\n",
              "бюджет г.Москвы (гор.подчинение)                        4380\n",
              "бюджет М.О.                                             1621\n",
              "иные виды финансирования                                1332\n",
              "бюджет админ.окр.г.Москвы                               1186\n",
              "(не определено)                                          514\n",
              "коммерческие организации                                 368\n",
              "бюджет муниц.окр.г.Москвы                                114\n",
              "органы местного самоуправления и организации (м/б)        25\n",
              "органы исполнительной власти субъектов РФ(обл.бюд)        14\n",
              "федеральные органы исполнительной власти                  13\n",
              "Name: finance_source_name, dtype: int64"
            ]
          },
          "metadata": {},
          "execution_count": 15
        }
      ]
    },
    {
      "cell_type": "code",
      "metadata": {
        "colab": {
          "base_uri": "https://localhost:8080/"
        },
        "id": "7LmTYubh_H25",
        "outputId": "a73930b3-10d7-4651-a01e-646f3e39547e"
      },
      "source": [
        "data.msfo_group_name.value_counts()"
      ],
      "execution_count": 16,
      "outputs": [
        {
          "output_type": "execute_result",
          "data": {
            "text/plain": [
              "Прочие потребители                          165901\n",
              "Управляющие организации, ТСЖ, ЖСК,ЖК         13100\n",
              "Городской/ Местный бюджет                    12298\n",
              "Промышленность                                5599\n",
              "Федеральный бюджет                            4722\n",
              "Сельское  хозяйство                           2309\n",
              "Прочее (котельные, водоканалы и др.)          1922\n",
              "Областной/ Краевой бюджет                     1587\n",
              "Энергосбытовые компании (ЭСК, ГП 2, ОПП)       878\n",
              "РЖД                                             22\n",
              "Население (на прямых расчетах)                   5\n",
              "Name: msfo_group_name, dtype: int64"
            ]
          },
          "metadata": {},
          "execution_count": 16
        }
      ]
    },
    {
      "cell_type": "code",
      "metadata": {
        "colab": {
          "base_uri": "https://localhost:8080/"
        },
        "id": "q-XwytTr_WQY",
        "outputId": "dbb8c2e5-7227-4e02-9d8c-1e99d9cee035"
      },
      "source": [
        "data.nds_is_valuable.value_counts() # признак для удаления!"
      ],
      "execution_count": 17,
      "outputs": [
        {
          "output_type": "execute_result",
          "data": {
            "text/plain": [
              "1,0    208279\n",
              "0,0        68\n",
              "Name: nds_is_valuable, dtype: int64"
            ]
          },
          "metadata": {},
          "execution_count": 17
        }
      ]
    },
    {
      "cell_type": "code",
      "metadata": {
        "colab": {
          "base_uri": "https://localhost:8080/"
        },
        "id": "h8lFGoObN9f1",
        "outputId": "c9e1a34c-bf9b-4006-f70c-fbb3bee73681"
      },
      "source": [
        "data.okved_name.value_counts()"
      ],
      "execution_count": 18,
      "outputs": [
        {
          "output_type": "execute_result",
          "data": {
            "text/plain": [
              "Аренда и управление собственным или арендованным недвижимым имуществом                                                           39687\n",
              "Аренда и управление собственным или арендованным нежилым недвижимым имуществом                                                   13441\n",
              "Управление эксплуатацией жилого фонда за вознаграждение или на договорной основе                                                 11255\n",
              "Управление эксплуатацией нежилого фонда за вознаграждение или на договорной основе                                               10450\n",
              "Управление недвижимым имуществом за вознаграждение или на договорной основе                                                       8802\n",
              "                                                                                                                                 ...  \n",
              "Производство вязаных и трикотажных чулочно-носочных изделий, кроме изготовленных по индивидуальному заказу                           1\n",
              " Производство кинофильмов, видеофильмов и телевизионных программ, издание звукозаписей и нот                                         1\n",
              "Торговля розничная фотоаппаратурой, оптическими приборами и средствами измерений, кроме очков, в специализированных магазинах        1\n",
              "Производство искусственных волокон                                                                                                   1\n",
              "Производство электрических печей                                                                                                     1\n",
              "Name: okved_name, Length: 1768, dtype: int64"
            ]
          },
          "metadata": {},
          "execution_count": 18
        }
      ]
    },
    {
      "cell_type": "code",
      "metadata": {
        "colab": {
          "base_uri": "https://localhost:8080/"
        },
        "id": "Tc_3H63qPIrX",
        "outputId": "b36e3bc3-8b2e-4be7-83f1-39f2075d7968"
      },
      "source": [
        "data.voltage.value_counts()"
      ],
      "execution_count": 19,
      "outputs": [
        {
          "output_type": "execute_result",
          "data": {
            "text/plain": [
              "НН                 127709\n",
              "СН2                 65451\n",
              "ВН                   5114\n",
              "СН1                   461\n",
              "(не определено)        11\n",
              "ГН,ВН                   3\n",
              "Name: voltage, dtype: int64"
            ]
          },
          "metadata": {},
          "execution_count": 19
        }
      ]
    },
    {
      "cell_type": "code",
      "metadata": {
        "colab": {
          "base_uri": "https://localhost:8080/"
        },
        "id": "zjvjfzjKMdLp",
        "outputId": "b9324ed6-61ee-4bb2-fc63-5e5f401214b2"
      },
      "source": [
        "data.user_subgroup.value_counts()"
      ],
      "execution_count": 20,
      "outputs": [
        {
          "output_type": "execute_result",
          "data": {
            "text/plain": [
              "Непромышленные потребители                                  157929\n",
              "Населенные пункты                                            25250\n",
              "Пром.предприятия с установленной мощностью до 750 кВА         9581\n",
              "Пром.предприятия с установленной мощностью свыше 750 кВА      2536\n",
              "Производственные сельхозпотребители                           2010\n",
              "Оптовые потребители-перепродавцы                               702\n",
              "Население                                                      626\n",
              "Хозяйственный нужды Энергосистемы                               58\n",
              "Электрифицированный железнодорожный транспорт                   26\n",
              "Электрифицированный городской транспорт                         19\n",
              "(не определено)                                                 12\n",
              "Name: user_subgroup, dtype: int64"
            ]
          },
          "metadata": {},
          "execution_count": 20
        }
      ]
    },
    {
      "cell_type": "code",
      "metadata": {
        "colab": {
          "base_uri": "https://localhost:8080/"
        },
        "id": "Q1qd9jFjB0bJ",
        "outputId": "e13ac1cc-e2b2-48af-b5b8-00410d958d5b"
      },
      "source": [
        "data.eso_is_valuable.value_counts() # признак для удаления!"
      ],
      "execution_count": 24,
      "outputs": [
        {
          "output_type": "execute_result",
          "data": {
            "text/plain": [
              "Series([], Name: eso_is_valuable, dtype: int64)"
            ]
          },
          "metadata": {},
          "execution_count": 24
        }
      ]
    },
    {
      "cell_type": "code",
      "metadata": {
        "colab": {
          "base_uri": "https://localhost:8080/"
        },
        "id": "Vvun17WmKLAM",
        "outputId": "21809d0c-2be1-4d78-f030-795c68cf7eea"
      },
      "source": [
        "data.contract_type.value_counts() # признак для удаления!"
      ],
      "execution_count": 25,
      "outputs": [
        {
          "output_type": "execute_result",
          "data": {
            "text/plain": [
              "Энергоснабжения    198403\n",
              "Купли-продажи         346\n",
              "Name: contract_type, dtype: int64"
            ]
          },
          "metadata": {},
          "execution_count": 25
        }
      ]
    },
    {
      "cell_type": "code",
      "metadata": {
        "id": "P_gMpjy2Cei5"
      },
      "source": [
        "# копия датасета 4_po_yur_dannie_po_dogovoru.csv признаки\n",
        "\n",
        "data_4_copy=data.copy(deep=True)"
      ],
      "execution_count": 22,
      "outputs": []
    },
    {
      "cell_type": "code",
      "metadata": {
        "colab": {
          "base_uri": "https://localhost:8080/",
          "height": 282
        },
        "id": "WhjFCGCqBapf",
        "outputId": "ad5070a0-d9a5-40bc-9750-8d1e0a56c2c5"
      },
      "source": [
        "# распределение признака contract_type\n",
        "data['contract_type'].value_counts(ascending=True).plot(kind='barh')"
      ],
      "execution_count": 24,
      "outputs": [
        {
          "output_type": "execute_result",
          "data": {
            "text/plain": [
              "<matplotlib.axes._subplots.AxesSubplot at 0x7efe6a61b150>"
            ]
          },
          "metadata": {},
          "execution_count": 24
        },
        {
          "output_type": "display_data",
          "data": {
            "image/png": "[encoded data removed]",
            "text/plain": [
              "<Figure size 432x288 with 1 Axes>"
            ]
          },
          "metadata": {
            "needs_background": "light"
          }
        }
      ]
    },
    {
      "cell_type": "markdown",
      "metadata": {
        "id": "t2_vApsMkNJR"
      },
      "source": [
        "**ЗДЕСЬ ВЫГРУЖАЕТСЯ ДАТАСЕТ**\n",
        "\n",
        "**po_yur_dannie_po_dogovoru**"
      ]
    },
    {
      "cell_type": "markdown",
      "metadata": {
        "id": "goJwEnXtB8Uv"
      },
      "source": [
        "УДАЛИТЬ из ДАТАСЕТА 4_po_yur_dannie_po_dogovoru.csv признаки:\n",
        "\n",
        "- nds_is_valuable\n",
        "- eso_is_valuable\n",
        "- contract_type"
      ]
    },
    {
      "cell_type": "code",
      "metadata": {
        "id": "orxvod5nCQhh"
      },
      "source": [
        "# удаление признаков из датасета 4_po_yur_dannie_po_dogovoru.csv признаки\n",
        "\n",
        "df_preEDA=data.drop([\"nds_is_valuable\",\"eso_is_valuable\",\"contract_type\"], axis=1)"
      ],
      "execution_count": 25,
      "outputs": []
    },
    {
      "cell_type": "code",
      "metadata": {
        "id": "zlnzMSLxDzS7"
      },
      "source": [
        "# Запись датасета 4_po_yur_dannie_po_dogovoru.csv:\n",
        "\n",
        "df_preEDA.to_csv('preEDA_po_yur_dannie_po_dogovoru', sep='\\t')"
      ],
      "execution_count": 26,
      "outputs": []
    },
    {
      "cell_type": "code",
      "metadata": {
        "colab": {
          "base_uri": "https://localhost:8080/",
          "height": 282
        },
        "id": "xr68WJFJ-kiB",
        "outputId": "5cee0909-7626-4496-c300-a0452402a020"
      },
      "source": [
        "# распределение признака finance_source_name\n",
        "df_preEDA['finance_source_name'].value_counts(ascending=True).plot(kind='barh')"
      ],
      "execution_count": 27,
      "outputs": [
        {
          "output_type": "execute_result",
          "data": {
            "text/plain": [
              "<matplotlib.axes._subplots.AxesSubplot at 0x7efe6a587850>"
            ]
          },
          "metadata": {},
          "execution_count": 27
        },
        {
          "output_type": "display_data",
          "data": {
            "image/png": "[encoded data removed]",
            "text/plain": [
              "<Figure size 432x288 with 1 Axes>"
            ]
          },
          "metadata": {
            "needs_background": "light"
          }
        }
      ]
    },
    {
      "cell_type": "code",
      "metadata": {
        "colab": {
          "base_uri": "https://localhost:8080/",
          "height": 282
        },
        "id": "v_4QwLp4QxgT",
        "outputId": "53d0ad11-1659-4c28-b1ed-a5f8c53f81a6"
      },
      "source": [
        "# распределение признака msfo_group_name\n",
        "df_preEDA['msfo_group_name'].value_counts(ascending=True).plot(kind='barh')"
      ],
      "execution_count": 28,
      "outputs": [
        {
          "output_type": "execute_result",
          "data": {
            "text/plain": [
              "<matplotlib.axes._subplots.AxesSubplot at 0x7efe6a03ae50>"
            ]
          },
          "metadata": {},
          "execution_count": 28
        },
        {
          "output_type": "display_data",
          "data": {
            "image/png": "[encoded data removed]",
            "text/plain": [
              "<Figure size 432x288 with 1 Axes>"
            ]
          },
          "metadata": {
            "needs_background": "light"
          }
        }
      ]
    },
    {
      "cell_type": "code",
      "metadata": {
        "colab": {
          "base_uri": "https://localhost:8080/",
          "height": 282
        },
        "id": "pDsYuhVYQcO4",
        "outputId": "7c0ddfe1-d7b3-4a82-c7ba-e211db2c0936"
      },
      "source": [
        "# распределение признака user_subgroup\n",
        "df_preEDA['user_subgroup'].value_counts(ascending=True).plot(kind='barh')"
      ],
      "execution_count": 29,
      "outputs": [
        {
          "output_type": "execute_result",
          "data": {
            "text/plain": [
              "<matplotlib.axes._subplots.AxesSubplot at 0x7efe6a026450>"
            ]
          },
          "metadata": {},
          "execution_count": 29
        },
        {
          "output_type": "display_data",
          "data": {
            "image/png": "[encoded data removed]",
            "text/plain": [
              "<Figure size 432x288 with 1 Axes>"
            ]
          },
          "metadata": {
            "needs_background": "light"
          }
        }
      ]
    },
    {
      "cell_type": "code",
      "metadata": {
        "colab": {
          "base_uri": "https://localhost:8080/",
          "height": 282
        },
        "id": "Bh1qmewtAwKZ",
        "outputId": "aa4fe3bb-163e-47a9-eee3-75ac9896fbbc"
      },
      "source": [
        "# распределение признака voltage\n",
        "df_preEDA['voltage'].value_counts(ascending=True).plot(kind='barh')"
      ],
      "execution_count": 30,
      "outputs": [
        {
          "output_type": "execute_result",
          "data": {
            "text/plain": [
              "<matplotlib.axes._subplots.AxesSubplot at 0x7efe69f3abd0>"
            ]
          },
          "metadata": {},
          "execution_count": 30
        },
        {
          "output_type": "display_data",
          "data": {
            "image/png": "[encoded data removed]",
            "text/plain": [
              "<Figure size 432x288 with 1 Axes>"
            ]
          },
          "metadata": {
            "needs_background": "light"
          }
        }
      ]
    },
    {
      "cell_type": "code",
      "metadata": {
        "colab": {
          "base_uri": "https://localhost:8080/",
          "height": 282
        },
        "id": "6b6JZPBoAwSh",
        "outputId": "c80ec094-c9c2-4f04-d3f7-7d8d672c1703"
      },
      "source": [
        "# распределение признака user_subgroup \n",
        "df_preEDA['user_subgroup'].value_counts(ascending=True).plot(kind='barh')"
      ],
      "execution_count": 31,
      "outputs": [
        {
          "output_type": "execute_result",
          "data": {
            "text/plain": [
              "<matplotlib.axes._subplots.AxesSubplot at 0x7efe69f4d790>"
            ]
          },
          "metadata": {},
          "execution_count": 31
        },
        {
          "output_type": "display_data",
          "data": {
            "image/png": "[encoded data removed]",
            "text/plain": [
              "<Figure size 432x288 with 1 Axes>"
            ]
          },
          "metadata": {
            "needs_background": "light"
          }
        }
      ]
    },
    {
      "cell_type": "markdown",
      "metadata": {
        "id": "oSsZT9CN3CtJ"
      },
      "source": [
        "# **ЗАГРУЗКА датасета \"Юрлица начисления 2019-2021\"**"
      ]
    },
    {
      "cell_type": "code",
      "metadata": {
        "colab": {
          "base_uri": "https://localhost:8080/"
        },
        "id": "jC8C2R-SGmYS",
        "outputId": "8a9c7f22-2227-4c64-8040-47ab00891642"
      },
      "source": [
        "# Загрузка датасета:\n",
        "\n",
        "data_5 = pd.read_csv('/content/drive/MyDrive/DS ninjas/ch.xackaton_po_yur_litsa_nachisleniya_2019_2021.csv')\n",
        "data_5.info()"
      ],
      "execution_count": 32,
      "outputs": [
        {
          "output_type": "stream",
          "name": "stdout",
          "text": [
            "<class 'pandas.core.frame.DataFrame'>\n",
            "RangeIndex: 5153127 entries, 0 to 5153126\n",
            "Data columns (total 16 columns):\n",
            " #   Column                             Dtype  \n",
            "---  ------                             -----  \n",
            " 0   month_year                         float64\n",
            " 1   id                                 int64  \n",
            " 2   price_category                     int64  \n",
            " 3   max_power_range                    object \n",
            " 4   calc_algorithm                     object \n",
            " 5   cost_of_taken_energy_with_nds_rub  float64\n",
            " 6   unaccounted_energy_usage_kVt       int64  \n",
            " 7   unaccounted_energy_usage_rub       float64\n",
            " 8   power_capacity_kVt                 int64  \n",
            " 9   power_capacity_with_nds_rub        float64\n",
            " 10  unaccounted_power_usage_kVt        int64  \n",
            " 11  unaccounted_power_usage_rub        int64  \n",
            " 12  ore_price_with_nds_rub             float64\n",
            " 13  used_energy_capacity_kVth          int64  \n",
            " 14  voltage                            object \n",
            " 15  ore_price_kVt                      int64  \n",
            "dtypes: float64(5), int64(8), object(3)\n",
            "memory usage: 629.0+ MB\n"
          ]
        }
      ]
    },
    {
      "cell_type": "code",
      "metadata": {
        "colab": {
          "base_uri": "https://localhost:8080/"
        },
        "id": "BynJveCFMtuI",
        "outputId": "fd852fe7-ed15-4b5c-af2f-7ec395f5ae7c"
      },
      "source": [
        "data_5.shape"
      ],
      "execution_count": null,
      "outputs": [
        {
          "output_type": "execute_result",
          "data": {
            "text/plain": [
              "(5153127, 16)"
            ]
          },
          "metadata": {},
          "execution_count": 23
        }
      ]
    },
    {
      "cell_type": "code",
      "metadata": {
        "colab": {
          "base_uri": "https://localhost:8080/",
          "height": 233
        },
        "id": "dT1uConTCZft",
        "outputId": "31802cc0-413b-4dd9-85fb-448ec48cb228"
      },
      "source": [
        "data_5.sample(3)"
      ],
      "execution_count": null,
      "outputs": [
        {
          "output_type": "execute_result",
          "data": {
            "text/html": [
              "<div>\n",
              "<style scoped>\n",
              "    .dataframe tbody tr th:only-of-type {\n",
              "        vertical-align: middle;\n",
              "    }\n",
              "\n",
              "    .dataframe tbody tr th {\n",
              "        vertical-align: top;\n",
              "    }\n",
              "\n",
              "    .dataframe thead th {\n",
              "        text-align: right;\n",
              "    }\n",
              "</style>\n",
              "<table border=\"1\" class=\"dataframe\">\n",
              "  <thead>\n",
              "    <tr style=\"text-align: right;\">\n",
              "      <th></th>\n",
              "      <th>month_year</th>\n",
              "      <th>id</th>\n",
              "      <th>price_category</th>\n",
              "      <th>max_power_range</th>\n",
              "      <th>calc_algorithm</th>\n",
              "      <th>cost_of_taken_energy_with_nds_rub</th>\n",
              "      <th>unaccounted_energy_usage_kVt</th>\n",
              "      <th>unaccounted_energy_usage_rub</th>\n",
              "      <th>power_capacity_kVt</th>\n",
              "      <th>power_capacity_with_nds_rub</th>\n",
              "      <th>unaccounted_power_usage_kVt</th>\n",
              "      <th>unaccounted_power_usage_rub</th>\n",
              "      <th>ore_price_with_nds_rub</th>\n",
              "      <th>used_energy_capacity_kVth</th>\n",
              "      <th>voltage</th>\n",
              "      <th>ore_price_kVt</th>\n",
              "    </tr>\n",
              "  </thead>\n",
              "  <tbody>\n",
              "    <tr>\n",
              "      <th>2262814</th>\n",
              "      <td>2020.12</td>\n",
              "      <td>31201842</td>\n",
              "      <td>4</td>\n",
              "      <td>От 150 до 670 кВт</td>\n",
              "      <td>Алгоритм расчета: не производится</td>\n",
              "      <td>0.00</td>\n",
              "      <td>0</td>\n",
              "      <td>0.0</td>\n",
              "      <td>28</td>\n",
              "      <td>28345.7</td>\n",
              "      <td>0</td>\n",
              "      <td>0</td>\n",
              "      <td>44060.4</td>\n",
              "      <td>0</td>\n",
              "      <td>НН</td>\n",
              "      <td>30</td>\n",
              "    </tr>\n",
              "    <tr>\n",
              "      <th>1139307</th>\n",
              "      <td>2019.12</td>\n",
              "      <td>187516098</td>\n",
              "      <td>1</td>\n",
              "      <td>Менее 150 кВт</td>\n",
              "      <td>Алгоритм расчета: по показаниям</td>\n",
              "      <td>4639.72</td>\n",
              "      <td>0</td>\n",
              "      <td>0.0</td>\n",
              "      <td>0</td>\n",
              "      <td>0.0</td>\n",
              "      <td>0</td>\n",
              "      <td>0</td>\n",
              "      <td>0.0</td>\n",
              "      <td>670</td>\n",
              "      <td>НН</td>\n",
              "      <td>0</td>\n",
              "    </tr>\n",
              "    <tr>\n",
              "      <th>4088945</th>\n",
              "      <td>2020.07</td>\n",
              "      <td>299672301</td>\n",
              "      <td>0</td>\n",
              "      <td>NaN</td>\n",
              "      <td>NaN</td>\n",
              "      <td>0.00</td>\n",
              "      <td>0</td>\n",
              "      <td>0.0</td>\n",
              "      <td>0</td>\n",
              "      <td>0.0</td>\n",
              "      <td>0</td>\n",
              "      <td>0</td>\n",
              "      <td>0.0</td>\n",
              "      <td>0</td>\n",
              "      <td>NaN</td>\n",
              "      <td>0</td>\n",
              "    </tr>\n",
              "  </tbody>\n",
              "</table>\n",
              "</div>"
            ],
            "text/plain": [
              "         month_year         id  price_category    max_power_range  \\\n",
              "2262814     2020.12   31201842               4  От 150 до 670 кВт   \n",
              "1139307     2019.12  187516098               1      Менее 150 кВт   \n",
              "4088945     2020.07  299672301               0                NaN   \n",
              "\n",
              "                            calc_algorithm  cost_of_taken_energy_with_nds_rub  \\\n",
              "2262814  Алгоритм расчета: не производится                               0.00   \n",
              "1139307    Алгоритм расчета: по показаниям                            4639.72   \n",
              "4088945                                NaN                               0.00   \n",
              "\n",
              "         unaccounted_energy_usage_kVt  unaccounted_energy_usage_rub  \\\n",
              "2262814                             0                           0.0   \n",
              "1139307                             0                           0.0   \n",
              "4088945                             0                           0.0   \n",
              "\n",
              "         power_capacity_kVt  power_capacity_with_nds_rub  \\\n",
              "2262814                  28                      28345.7   \n",
              "1139307                   0                          0.0   \n",
              "4088945                   0                          0.0   \n",
              "\n",
              "         unaccounted_power_usage_kVt  unaccounted_power_usage_rub  \\\n",
              "2262814                            0                            0   \n",
              "1139307                            0                            0   \n",
              "4088945                            0                            0   \n",
              "\n",
              "         ore_price_with_nds_rub  used_energy_capacity_kVth voltage  \\\n",
              "2262814                 44060.4                          0      НН   \n",
              "1139307                     0.0                        670      НН   \n",
              "4088945                     0.0                          0     NaN   \n",
              "\n",
              "         ore_price_kVt  \n",
              "2262814             30  \n",
              "1139307              0  \n",
              "4088945              0  "
            ]
          },
          "metadata": {},
          "execution_count": 23
        }
      ]
    },
    {
      "cell_type": "code",
      "metadata": {
        "colab": {
          "base_uri": "https://localhost:8080/"
        },
        "id": "ltCrXG4FCFt2",
        "outputId": "ba4b5e32-7e54-42ca-c700-529e41fb685d"
      },
      "source": [
        "data_5.isna().sum()"
      ],
      "execution_count": 33,
      "outputs": [
        {
          "output_type": "execute_result",
          "data": {
            "text/plain": [
              "month_year                                 0\n",
              "id                                         0\n",
              "price_category                             0\n",
              "max_power_range                      1180821\n",
              "calc_algorithm                       1180821\n",
              "cost_of_taken_energy_with_nds_rub          0\n",
              "unaccounted_energy_usage_kVt               0\n",
              "unaccounted_energy_usage_rub               0\n",
              "power_capacity_kVt                         0\n",
              "power_capacity_with_nds_rub                0\n",
              "unaccounted_power_usage_kVt                0\n",
              "unaccounted_power_usage_rub                0\n",
              "ore_price_with_nds_rub                     0\n",
              "used_energy_capacity_kVth                  0\n",
              "voltage                              1180820\n",
              "ore_price_kVt                              0\n",
              "dtype: int64"
            ]
          },
          "metadata": {},
          "execution_count": 33
        }
      ]
    },
    {
      "cell_type": "code",
      "metadata": {
        "colab": {
          "base_uri": "https://localhost:8080/"
        },
        "id": "_6BKUpufFZW8",
        "outputId": "1c9b8ba4-7e1a-490b-e8b8-fa531f162955"
      },
      "source": [
        "data_5.max_power_range.isna().sum()"
      ],
      "execution_count": 34,
      "outputs": [
        {
          "output_type": "execute_result",
          "data": {
            "text/plain": [
              "1180821"
            ]
          },
          "metadata": {},
          "execution_count": 34
        }
      ]
    },
    {
      "cell_type": "code",
      "metadata": {
        "id": "us4pwnMCEvgZ"
      },
      "source": [
        "# копия датасета data_5\n",
        "data_5_red=data_5.copy(deep=True)"
      ],
      "execution_count": 35,
      "outputs": []
    },
    {
      "cell_type": "code",
      "metadata": {
        "id": "OOA3b3gZEQio"
      },
      "source": [
        "# удаляем 1180821 запись\n",
        "\n",
        "data_5_red.dropna(subset=['max_power_range'], how='all', inplace=True)"
      ],
      "execution_count": 36,
      "outputs": []
    },
    {
      "cell_type": "code",
      "metadata": {
        "id": "7T2LRc18GVUp",
        "colab": {
          "base_uri": "https://localhost:8080/"
        },
        "outputId": "93628196-7aed-4eb5-b082-f65a452974c7"
      },
      "source": [
        "data_5_red.info()"
      ],
      "execution_count": 49,
      "outputs": [
        {
          "output_type": "stream",
          "name": "stdout",
          "text": [
            "<class 'pandas.core.frame.DataFrame'>\n",
            "Int64Index: 3972306 entries, 4 to 5153126\n",
            "Data columns (total 16 columns):\n",
            " #   Column                             Dtype  \n",
            "---  ------                             -----  \n",
            " 0   month_year                         float64\n",
            " 1   id                                 int64  \n",
            " 2   price_category                     int64  \n",
            " 3   max_power_range                    object \n",
            " 4   calc_algorithm                     object \n",
            " 5   cost_of_taken_energy_with_nds_rub  float64\n",
            " 6   unaccounted_energy_usage_kVt       int64  \n",
            " 7   unaccounted_energy_usage_rub       float64\n",
            " 8   power_capacity_kVt                 int64  \n",
            " 9   power_capacity_with_nds_rub        float64\n",
            " 10  unaccounted_power_usage_kVt        int64  \n",
            " 11  unaccounted_power_usage_rub        int64  \n",
            " 12  ore_price_with_nds_rub             float64\n",
            " 13  used_energy_capacity_kVth          int64  \n",
            " 14  voltage                            object \n",
            " 15  ore_price_kVt                      int64  \n",
            "dtypes: float64(5), int64(8), object(3)\n",
            "memory usage: 515.2+ MB\n"
          ]
        }
      ]
    },
    {
      "cell_type": "code",
      "metadata": {
        "colab": {
          "base_uri": "https://localhost:8080/"
        },
        "id": "9zeNBcTnFOLC",
        "outputId": "7e4d7074-a638-4bf8-bc07-d4942607e04b"
      },
      "source": [
        "data_5_red.isna().sum()"
      ],
      "execution_count": 37,
      "outputs": [
        {
          "output_type": "execute_result",
          "data": {
            "text/plain": [
              "month_year                           0\n",
              "id                                   0\n",
              "price_category                       0\n",
              "max_power_range                      0\n",
              "calc_algorithm                       0\n",
              "cost_of_taken_energy_with_nds_rub    0\n",
              "unaccounted_energy_usage_kVt         0\n",
              "unaccounted_energy_usage_rub         0\n",
              "power_capacity_kVt                   0\n",
              "power_capacity_with_nds_rub          0\n",
              "unaccounted_power_usage_kVt          0\n",
              "unaccounted_power_usage_rub          0\n",
              "ore_price_with_nds_rub               0\n",
              "used_energy_capacity_kVth            0\n",
              "voltage                              0\n",
              "ore_price_kVt                        0\n",
              "dtype: int64"
            ]
          },
          "metadata": {},
          "execution_count": 37
        }
      ]
    },
    {
      "cell_type": "code",
      "metadata": {
        "colab": {
          "base_uri": "https://localhost:8080/",
          "height": 295
        },
        "id": "FNngbtXWa99a",
        "outputId": "cc36d26e-996b-4831-a2fb-67ae95ed0204"
      },
      "source": [
        "# распределение признака price_category\n",
        "data_5_red['price_category'].value_counts(ascending=True).plot(kind='barh')"
      ],
      "execution_count": 38,
      "outputs": [
        {
          "output_type": "execute_result",
          "data": {
            "text/plain": [
              "<matplotlib.axes._subplots.AxesSubplot at 0x7efe69e69ad0>"
            ]
          },
          "metadata": {},
          "execution_count": 38
        },
        {
          "output_type": "display_data",
          "data": {
            "image/png": "[encoded data removed]",
            "text/plain": [
              "<Figure size 432x288 with 1 Axes>"
            ]
          },
          "metadata": {
            "needs_background": "light"
          }
        }
      ]
    },
    {
      "cell_type": "code",
      "metadata": {
        "colab": {
          "base_uri": "https://localhost:8080/",
          "height": 295
        },
        "id": "9wxPzL2qbsGt",
        "outputId": "56b5ee39-57f7-474d-9a24-a889098bb025"
      },
      "source": [
        "# распределение признака calc_algorithm\n",
        "data_5_red['calc_algorithm'].value_counts(ascending=True).plot(kind='barh')"
      ],
      "execution_count": 39,
      "outputs": [
        {
          "output_type": "execute_result",
          "data": {
            "text/plain": [
              "<matplotlib.axes._subplots.AxesSubplot at 0x7efe69e69a90>"
            ]
          },
          "metadata": {},
          "execution_count": 39
        },
        {
          "output_type": "display_data",
          "data": {
            "image/png": "[encoded data removed]",
            "text/plain": [
              "<Figure size 432x288 with 1 Axes>"
            ]
          },
          "metadata": {
            "needs_background": "light"
          }
        }
      ]
    },
    {
      "cell_type": "code",
      "metadata": {
        "id": "yzEurNmlky4q",
        "colab": {
          "base_uri": "https://localhost:8080/"
        },
        "outputId": "60f4a10f-890a-4c03-c513-6d0a0ae632f0"
      },
      "source": [
        "# распределение признака cost_of_taken_energy_with_nds_rub\n",
        "data_5_red.cost_of_taken_energy_with_nds_rub.value_counts()"
      ],
      "execution_count": 40,
      "outputs": [
        {
          "output_type": "execute_result",
          "data": {
            "text/plain": [
              "0.00         154020\n",
              "438.30         2641\n",
              "418.50         2187\n",
              "876.60         1694\n",
              "837.00         1312\n",
              "              ...  \n",
              "7445.16           1\n",
              "294658.56         1\n",
              "87732.59          1\n",
              "8224.37           1\n",
              "14673.31          1\n",
              "Name: cost_of_taken_energy_with_nds_rub, Length: 1807646, dtype: int64"
            ]
          },
          "metadata": {},
          "execution_count": 40
        }
      ]
    },
    {
      "cell_type": "code",
      "metadata": {
        "colab": {
          "base_uri": "https://localhost:8080/"
        },
        "id": "fMYZZgTmmXwN",
        "outputId": "610888ca-912f-4016-a0e5-5440456ceb6b"
      },
      "source": [
        "data_5_red.loc[data_5_red['cost_of_taken_energy_with_nds_rub'] > 0].value_counts()"
      ],
      "execution_count": 41,
      "outputs": [
        {
          "output_type": "execute_result",
          "data": {
            "text/plain": [
              "month_year  id         price_category  max_power_range      calc_algorithm                   cost_of_taken_energy_with_nds_rub  unaccounted_energy_usage_kVt  unaccounted_energy_usage_rub  power_capacity_kVt  power_capacity_with_nds_rub  unaccounted_power_usage_kVt  unaccounted_power_usage_rub  ore_price_with_nds_rub  used_energy_capacity_kVth  voltage  ore_price_kVt\n",
              "2020.05     299439312  2               Менее 150 кВт        Алгоритм расчета: по показаниям  24362.71                           0                             0.0                           0                   0.0                          0                            0                            0.0                     3959                       НН       0                2\n",
              "            299395701  3               От 670 кВт до 10МВт  Алгоритм расчета: по показаниям  413875.56                          0                             0.0                           0                   0.0                          0                            0                            0.0                     79392                      НН       0                2\n",
              "            299392395  1               Менее 150 кВт        Алгоритм расчета: по показаниям  186236.66                          0                             0.0                           0                   0.0                          0                            0                            0.0                     34200                      СН2      0                2\n",
              "                                       От 150 до 670 кВт    Алгоритм расчета: по показаниям  57101.68                           0                             0.0                           0                   0.0                          0                            0                            0.0                     10486                      СН2      0                2\n",
              "            299392701  2               Менее 150 кВт        Алгоритм расчета: по показаниям  96483.67                           0                             0.0                           0                   0.0                          0                            0                            0.0                     10918                      НН       0                2\n",
              "                                                                                                                                                                                                                                                                                                                                                                                   ..\n",
              "2021.02     116220570  3               От 670 кВт до 10МВт  Алгоритм расчета: по показаниям  2536063.80                         0                             0.0                           0                   0.0                          0                            0                            0.0                     773974                     ВН       0                1\n",
              "            116220486  1               От 150 до 670 кВт    Алгоритм расчета: по показаниям  298055.03                          0                             0.0                           0                   0.0                          0                            0                            0.0                     40450                      НН       0                1\n",
              "            116220198  1               Менее 150 кВт        Алгоритм расчета: по показаниям  126841.02                          0                             0.0                           0                   0.0                          0                            0                            0.0                     17214                      НН       0                1\n",
              "            116218986  1               Менее 150 кВт        Алгоритм расчета: по показаниям  64606.84                           0                             0.0                           0                   0.0                          0                            0                            0.0                     8768                       НН       0                1\n",
              "2019.09     30000375   1               Менее 150 кВт        Алгоритм расчета: по показаниям  8350.94                            0                             0.0                           0                   0.0                          0                            0                            0.0                     1296                       НН       0                1\n",
              "Length: 3808019, dtype: int64"
            ]
          },
          "metadata": {},
          "execution_count": 41
        }
      ]
    },
    {
      "cell_type": "code",
      "metadata": {
        "colab": {
          "base_uri": "https://localhost:8080/"
        },
        "id": "wq42ryUaIheb",
        "outputId": "f2ac3012-9461-4dbf-ac99-b09706c0ac02"
      },
      "source": [
        "data_5_red.unaccounted_energy_usage_kVt.value_counts()"
      ],
      "execution_count": 42,
      "outputs": [
        {
          "output_type": "execute_result",
          "data": {
            "text/plain": [
              " 0         3971642\n",
              " 35640           2\n",
              " 2946            2\n",
              " 51892           2\n",
              " 5506            2\n",
              "            ...   \n",
              " 64872           1\n",
              "-867120          1\n",
              " 64881           1\n",
              " 116052          1\n",
              " 35845           1\n",
              "Name: unaccounted_energy_usage_kVt, Length: 656, dtype: int64"
            ]
          },
          "metadata": {},
          "execution_count": 42
        }
      ]
    },
    {
      "cell_type": "code",
      "metadata": {
        "id": "kP2KbnbmIiPC"
      },
      "source": [
        "data_5_red.unaccounted_energy_usage_rub.value_counts()"
      ],
      "execution_count": null,
      "outputs": []
    },
    {
      "cell_type": "code",
      "metadata": {
        "id": "1ewF10ixIiTU"
      },
      "source": [
        "data_5_red.power_capacity_kVt.value_counts()"
      ],
      "execution_count": null,
      "outputs": []
    },
    {
      "cell_type": "code",
      "metadata": {
        "id": "4fSh74dIIiXM"
      },
      "source": [
        "data_5_red.power_capacity_with_nds_rub.value_counts()"
      ],
      "execution_count": null,
      "outputs": []
    },
    {
      "cell_type": "code",
      "metadata": {
        "id": "cXBqyw8NIic1"
      },
      "source": [
        "data_5_red.unaccounted_power_usage_kVt.value_counts()"
      ],
      "execution_count": null,
      "outputs": []
    },
    {
      "cell_type": "code",
      "metadata": {
        "id": "rYjKFgd_JRm_"
      },
      "source": [
        "data_5_red.unaccounted_power_usage_rub.value_counts()"
      ],
      "execution_count": null,
      "outputs": []
    },
    {
      "cell_type": "code",
      "metadata": {
        "id": "8sGdi7q2JRqN"
      },
      "source": [
        "data_5_red.ore_price_with_nds_rub.value_counts()"
      ],
      "execution_count": null,
      "outputs": []
    },
    {
      "cell_type": "code",
      "metadata": {
        "id": "PMOfDbldJRtQ"
      },
      "source": [
        "data_5_red.ore_price_kVt.value_counts()"
      ],
      "execution_count": null,
      "outputs": []
    },
    {
      "cell_type": "code",
      "metadata": {
        "id": "TFsvufAMJRvu"
      },
      "source": [
        "data_5_red.power_capacity_kVt.value_counts()"
      ],
      "execution_count": null,
      "outputs": []
    },
    {
      "cell_type": "code",
      "metadata": {
        "id": "aEgEurM2LvLq"
      },
      "source": [
        "data_5_red.power_capacity_with_nds_rub.value_counts()"
      ],
      "execution_count": null,
      "outputs": []
    },
    {
      "cell_type": "markdown",
      "metadata": {
        "id": "QWsEhNLEaCOf"
      },
      "source": [
        "**ЗДЕСЬ формируем датасет без отдельных признаков:**\n",
        "\n",
        "удаляем:\n",
        "\n",
        "- unaccounted_energy_usage_kVt\n",
        "- unaccounted_energy_usage_rub\n",
        "- unaccounted_power_usage_kVt\n",
        "- unaccounted_power_usage_rub\n",
        "- ore_price_with_nds_rub\n",
        "- ore_price_kVt"
      ]
    },
    {
      "cell_type": "code",
      "metadata": {
        "id": "iNIb6AdJJR15"
      },
      "source": [
        "data_5_preEDA=data_5_red[[\"month_year\",\"id\",\"price_category\",\"max_power_range\",\n",
        "               \"calc_algorithm\",\"cost_of_taken_energy_with_nds_rub\",\n",
        "               \"power_capacity_kVt\",\"power_capacity_with_nds_rub\",\n",
        "               \"used_energy_capacity_kVth\",\"voltage\"]]"
      ],
      "execution_count": 43,
      "outputs": []
    },
    {
      "cell_type": "code",
      "metadata": {
        "colab": {
          "base_uri": "https://localhost:8080/"
        },
        "id": "aXppqjcvLvPM",
        "outputId": "e1d2eb4a-9f4d-421d-ff8c-1e3020197ec4"
      },
      "source": [
        "data_5_preEDA.info()"
      ],
      "execution_count": 44,
      "outputs": [
        {
          "output_type": "stream",
          "name": "stdout",
          "text": [
            "<class 'pandas.core.frame.DataFrame'>\n",
            "Int64Index: 3972306 entries, 4 to 5153126\n",
            "Data columns (total 10 columns):\n",
            " #   Column                             Dtype  \n",
            "---  ------                             -----  \n",
            " 0   month_year                         float64\n",
            " 1   id                                 int64  \n",
            " 2   price_category                     int64  \n",
            " 3   max_power_range                    object \n",
            " 4   calc_algorithm                     object \n",
            " 5   cost_of_taken_energy_with_nds_rub  float64\n",
            " 6   power_capacity_kVt                 int64  \n",
            " 7   power_capacity_with_nds_rub        float64\n",
            " 8   used_energy_capacity_kVth          int64  \n",
            " 9   voltage                            object \n",
            "dtypes: float64(3), int64(4), object(3)\n",
            "memory usage: 333.4+ MB\n"
          ]
        }
      ]
    },
    {
      "cell_type": "code",
      "metadata": {
        "colab": {
          "base_uri": "https://localhost:8080/"
        },
        "id": "d2v9Cj22rNi9",
        "outputId": "8a729473-b77b-4876-faaa-b5676ae346de"
      },
      "source": [
        "# распределение признака price_category\n",
        "data_5_preEDA.loc[data_5_red['price_category']==5].value_counts()"
      ],
      "execution_count": 45,
      "outputs": [
        {
          "output_type": "execute_result",
          "data": {
            "text/plain": [
              "month_year  id         price_category  max_power_range      calc_algorithm                     cost_of_taken_energy_with_nds_rub  power_capacity_kVt  power_capacity_with_nds_rub  used_energy_capacity_kVth  voltage\n",
              "2021.09     183485133  5               Свыше 10МВт          Алгоритм расчета: по показаниям     1565106.60                        0                   0.0                          405973                     ВН         1\n",
              "2020.07     183386733  5               Свыше 10МВт          Алгоритм расчета: не производится   0.00                              10520               11128082.0                   0                          ВН         1\n",
              "                                                            -1                                 -81156.65                          0                   0.0                          793                        ВН         1\n",
              "            105242103  5               Свыше 10МВт          Алгоритм расчета: по показаниям     23913360.00                       0                   0.0                          7363445                    ВН         1\n",
              "                                                            Алгоритм расчета: не производится   0.00                              12028               12723248.0                   0                          ВН         1\n",
              "                                                                                                                                                                                                                        ..\n",
              "2021.01     105242103  5               Свыше 10МВт          Алгоритм расчета: не производится   0.00                              24360               24460514.0                   0                          ВН         1\n",
              "            30022731   5               От 670 кВт до 10МВт  Алгоритм расчета: по показаниям     1216841.60                        0                   0.0                          257112                     СН2        1\n",
              "                                                            Алгоритм расчета: не производится   0.00                              726                 728995.6                     0                          СН2        1\n",
              "2020.12     183485133  5               Свыше 10МВт          Алгоритм расчета: по показаниям     2003122.00                        0                   0.0                          586982                     ВН         1\n",
              "2019.09     30022731   5               От 670 кВт до 10МВт  Алгоритм расчета: не производится   0.00                              596                 569253.9                     0                          СН2        1\n",
              "Length: 247, dtype: int64"
            ]
          },
          "metadata": {},
          "execution_count": 45
        }
      ]
    },
    {
      "cell_type": "code",
      "metadata": {
        "colab": {
          "base_uri": "https://localhost:8080/"
        },
        "id": "XSYHHxWysS8_",
        "outputId": "e1728ff5-d0d0-4e5f-c9c4-705690d33926"
      },
      "source": [
        "# распределение признака price_category\n",
        "data_5_preEDA.loc[data_5_red['price_category']==6].value_counts()"
      ],
      "execution_count": 46,
      "outputs": [
        {
          "output_type": "execute_result",
          "data": {
            "text/plain": [
              "month_year  id         price_category  max_power_range      calc_algorithm                     cost_of_taken_energy_with_nds_rub  power_capacity_kVt  power_capacity_with_nds_rub  used_energy_capacity_kVth  voltage\n",
              "2021.09     286541403  6               Свыше 10МВт          Алгоритм расчета: по показаниям    112200370.0                        0                   0.0                          53764016                   ВН         1\n",
              "2020.06     256568742  6               От 670 кВт до 10МВт  Алгоритм расчета: по показаниям    538330.7                           0                   0.0                          258448                     СН2        1\n",
              "            256531842  6               От 670 кВт до 10МВт  Алгоритм расчета: не производится  0.0                                914                 1022009.5                    0                          СН2        1\n",
              "                                                                                                                                  1457                1629177.0                    0                          ВН         1\n",
              "                                                            Алгоритм расчета: по показаниям    1294498.0                          0                   0.0                          648127                     СН2        1\n",
              "                                                                                                                                                                                                                        ..\n",
              "2021.03     90125730   6               От 670 кВт до 10МВт  Алгоритм расчета: по показаниям    781739.2                           0                   0.0                          325371                     СН2        1\n",
              "            90132030   6               От 670 кВт до 10МВт  Алгоритм расчета: не производится  0.0                                661                 673977.4                     0                          СН2        1\n",
              "                                                            Алгоритм расчета: по показаниям    1078283.0                          0                   0.0                          456715                     СН2        1\n",
              "            105242103  6               Свыше 10МВт          Алгоритм расчета: не производится  0.0                                21841               22269802.0                   0                          ВН         1\n",
              "2019.09     30012891   6               От 670 кВт до 10МВт  Алгоритм расчета: не производится  0.0                                811                 774605.5                     0                          СН2        1\n",
              "Length: 5051, dtype: int64"
            ]
          },
          "metadata": {},
          "execution_count": 46
        }
      ]
    },
    {
      "cell_type": "code",
      "metadata": {
        "colab": {
          "base_uri": "https://localhost:8080/",
          "height": 294
        },
        "id": "VUkwEW5h1O-_",
        "outputId": "993fff8d-f6eb-42c2-b004-bc7de5dcd8f4"
      },
      "source": [
        "# распределение max_power_range по категориям\n",
        "data_5_preEDA['max_power_range'].hist(bins=5)"
      ],
      "execution_count": 47,
      "outputs": [
        {
          "output_type": "execute_result",
          "data": {
            "text/plain": [
              "<matplotlib.axes._subplots.AxesSubplot at 0x7efe69ce0310>"
            ]
          },
          "metadata": {},
          "execution_count": 47
        },
        {
          "output_type": "display_data",
          "data": {
            "image/png": "[encoded data removed]",
            "text/plain": [
              "<Figure size 432x288 with 1 Axes>"
            ]
          },
          "metadata": {
            "needs_background": "light"
          }
        }
      ]
    },
    {
      "cell_type": "code",
      "metadata": {
        "id": "WUtW52OPA8QQ"
      },
      "source": [
        ""
      ],
      "execution_count": null,
      "outputs": []
    },
    {
      "cell_type": "code",
      "metadata": {
        "colab": {
          "base_uri": "https://localhost:8080/"
        },
        "id": "bkVZNSOOm4jZ",
        "outputId": "a351a841-c837-4d81-9f3b-006e9e315a4a"
      },
      "source": [
        "# распределение признака max_power_range\n",
        "data_5_preEDA.max_power_range.value_counts()"
      ],
      "execution_count": 48,
      "outputs": [
        {
          "output_type": "execute_result",
          "data": {
            "text/plain": [
              "Менее 150 кВт          2953341\n",
              "От 150 до 670 кВт       717020\n",
              "От 670 кВт до 10МВт     287699\n",
              "Свыше 10МВт              14214\n",
              "не определено               32\n",
              "Name: max_power_range, dtype: int64"
            ]
          },
          "metadata": {},
          "execution_count": 48
        }
      ]
    },
    {
      "cell_type": "code",
      "metadata": {
        "colab": {
          "base_uri": "https://localhost:8080/",
          "height": 295
        },
        "id": "zx_jWq-unM95",
        "outputId": "1882b1b1-7158-40d6-88fb-4101bbdf2d3d"
      },
      "source": [
        "# распределение признака max_power_range\n",
        "data_5_preEDA['max_power_range'].value_counts(ascending=True).plot(kind='barh')"
      ],
      "execution_count": 49,
      "outputs": [
        {
          "output_type": "execute_result",
          "data": {
            "text/plain": [
              "<matplotlib.axes._subplots.AxesSubplot at 0x7efe69c4e510>"
            ]
          },
          "metadata": {},
          "execution_count": 49
        },
        {
          "output_type": "display_data",
          "data": {
            "image/png": "[encoded data removed]",
            "text/plain": [
              "<Figure size 432x288 with 1 Axes>"
            ]
          },
          "metadata": {
            "needs_background": "light"
          }
        }
      ]
    },
    {
      "cell_type": "code",
      "metadata": {
        "colab": {
          "base_uri": "https://localhost:8080/",
          "height": 765
        },
        "id": "xr-99bkxQKb-",
        "outputId": "6bf8f17f-cc08-4281-bcd6-401bd7631578"
      },
      "source": [
        "# тепловая карта\n",
        "sns.heatmap(data_5_preEDA.corr(), annot=True, cmap='ocean')\n",
        "fig = plt.gcf()\n",
        "fig.set_size_inches(15, 10)"
      ],
      "execution_count": 50,
      "outputs": [
        {
          "output_type": "display_data",
          "data": {
            "image/png": "[encoded data removed]",
            "text/plain": [
              "<Figure size 1080x720 with 2 Axes>"
            ]
          },
          "metadata": {
            "needs_background": "light"
          }
        }
      ]
    },
    {
      "cell_type": "markdown",
      "metadata": {
        "id": "8W97UFyNjqEr"
      },
      "source": [
        "**ЗДЕСЬ ВЫГРУЖАЕТСЯ ДАТАСЕТ**\n",
        "\n",
        "**po_yur_litsa_nachisleniya_2019_2021**"
      ]
    },
    {
      "cell_type": "code",
      "metadata": {
        "id": "iT0Rg8MGfvJY"
      },
      "source": [
        "# Запись датасета 5_po_yur_litsa_nachisleniya_2019_2021.csv:\n",
        "\n",
        "data_5_preEDA.to_csv('preEDA_po_yur_litsa_nachisleniya_2019_2021', sep='\\t')"
      ],
      "execution_count": 51,
      "outputs": []
    },
    {
      "cell_type": "markdown",
      "metadata": {
        "id": "-d87W4UV7JmF"
      },
      "source": [
        "# **ЗАГРУЗКА датасета \"Юрлица полезный отпуск 2019-2021\"**"
      ]
    },
    {
      "cell_type": "code",
      "metadata": {
        "id": "Yd0FnqBjGocs",
        "colab": {
          "base_uri": "https://localhost:8080/"
        },
        "outputId": "93bf7b88-f7e0-47f2-c533-8fa2145e22c0"
      },
      "source": [
        "# Загрузка датасета po_yur_poleznii_otpusk_2019_2021:\n",
        "\n",
        "data_6 = pd.read_csv('/content/drive/MyDrive/DS ninjas/ch.xackaton_po_yur_poleznii_otpusk_2019_2021.csv',nrows=5000000)\n",
        "data_6.info()"
      ],
      "execution_count": 52,
      "outputs": [
        {
          "output_type": "stream",
          "name": "stdout",
          "text": [
            "<class 'pandas.core.frame.DataFrame'>\n",
            "RangeIndex: 5000000 entries, 0 to 4999999\n",
            "Data columns (total 9 columns):\n",
            " #   Column                             Dtype  \n",
            "---  ------                             -----  \n",
            " 0   month_year                         float64\n",
            " 1   registration_date                  object \n",
            " 2   hour                               int64  \n",
            " 3   id                                 int64  \n",
            " 4   price_category                     int64  \n",
            " 5   calc_algorithm                     object \n",
            " 6   voltage                            object \n",
            " 7   energy_taken_kVth                  float64\n",
            " 8   cost_of_taken_energy_with_nds_rub  float64\n",
            "dtypes: float64(3), int64(3), object(3)\n",
            "memory usage: 343.3+ MB\n"
          ]
        }
      ]
    },
    {
      "cell_type": "code",
      "metadata": {
        "id": "Pu79a6qwG1kn",
        "colab": {
          "base_uri": "https://localhost:8080/",
          "height": 765
        },
        "outputId": "9c4d1034-e072-49a1-91aa-21318d54d651"
      },
      "source": [
        "# тепловая карта\n",
        "sns.heatmap(data_6.corr(), annot=True, cmap='ocean')\n",
        "fig = plt.gcf()\n",
        "fig.set_size_inches(15, 10)"
      ],
      "execution_count": 53,
      "outputs": [
        {
          "output_type": "display_data",
          "data": {
            "image/png": "[encoded data removed]",
            "text/plain": [
              "<Figure size 1080x720 with 2 Axes>"
            ]
          },
          "metadata": {
            "needs_background": "light"
          }
        }
      ]
    },
    {
      "cell_type": "code",
      "metadata": {
        "id": "kprzX3OnG1nm"
      },
      "source": [
        "data_6.sample(4)"
      ],
      "execution_count": null,
      "outputs": []
    },
    {
      "cell_type": "code",
      "metadata": {
        "id": "hT-G1rsqG1s2"
      },
      "source": [
        "data_6.price_category.value_counts()"
      ],
      "execution_count": null,
      "outputs": []
    },
    {
      "cell_type": "code",
      "metadata": {
        "id": "8uqasoKDG1v6"
      },
      "source": [
        "data_6.price_category.value_counts()"
      ],
      "execution_count": null,
      "outputs": []
    },
    {
      "cell_type": "code",
      "metadata": {
        "id": "l62gKxgMyc8e"
      },
      "source": [
        "data_6.calc_algorithm.value_counts()"
      ],
      "execution_count": null,
      "outputs": []
    },
    {
      "cell_type": "code",
      "metadata": {
        "id": "xnKOLCKeydFs"
      },
      "source": [
        "data_6.voltage.value_counts()"
      ],
      "execution_count": null,
      "outputs": []
    },
    {
      "cell_type": "code",
      "metadata": {
        "id": "JU33AKlAG1y_"
      },
      "source": [
        "data_6.energy_taken_kVth.sort_values(ascending=True).value_counts()"
      ],
      "execution_count": null,
      "outputs": []
    },
    {
      "cell_type": "code",
      "metadata": {
        "id": "QFzpr2Z3AwZi"
      },
      "source": [
        "data_6.cost_of_taken_energy_with_nds_rub.value_counts()"
      ],
      "execution_count": null,
      "outputs": []
    },
    {
      "cell_type": "code",
      "metadata": {
        "id": "-oQUswr-AwdM"
      },
      "source": [
        "# распределение cost_of_taken_energy_with_nds_rub по категориям\n",
        "fig, ax = plt.subplots(figsize = (10, 8))\n",
        "bar_plot = sns.barplot(x='energy_taken_kVth', y='cost_of_taken_energy_with_nds_rub', data=data_6, alpha=0.8, ci=None)\n",
        "for ytick in bar_plot.get_yticks():\n",
        "        bar_plot.text(data_6.iloc[ytick][1]+0.005, ytick+0.2, str(round(data_6.iloc[ytick][1]*100,2))+' %', \n",
        "                    horizontalalignment='center',size=10, color='black',weight='semibold')\n",
        "plt.title('Относительное количество пропусков')\n",
        "plt.ylabel('')\n",
        "plt.xlabel('Percent', fontsize=12)\n",
        "plt.show()"
      ],
      "execution_count": null,
      "outputs": []
    },
    {
      "cell_type": "code",
      "metadata": {
        "id": "D9SqP4wYAwg_"
      },
      "source": [
        ""
      ],
      "execution_count": null,
      "outputs": []
    },
    {
      "cell_type": "markdown",
      "metadata": {
        "id": "QdjX7lkKj5wg"
      },
      "source": [
        "**ЗДЕСЬ ВЫГРУЖАЕТСЯ ДАТАСЕТ**\n",
        "\n",
        "**po_yur_poleznii_otpusk_2019_2021**"
      ]
    },
    {
      "cell_type": "code",
      "metadata": {
        "id": "GALjygc5Do_W"
      },
      "source": [
        "# копия датасета data_6\n",
        "data_6_red=data_6.copy(deep=True)"
      ],
      "execution_count": 55,
      "outputs": []
    },
    {
      "cell_type": "markdown",
      "metadata": {
        "id": "EvQ7MYINafGS"
      },
      "source": [
        "**УДАЛЯЕМ признаки:**\n",
        "- registration_date\n",
        "- hour"
      ]
    },
    {
      "cell_type": "code",
      "metadata": {
        "id": "OGAQN2A1DpCf"
      },
      "source": [
        "data_6_preEDA=data_6_red[[\"month_year\",\"id\",\"price_category\",\n",
        "               \"calc_algorithm\",\"voltage\",\n",
        "               \"energy_taken_kVth\",\"cost_of_taken_energy_with_nds_rub\"]]"
      ],
      "execution_count": 56,
      "outputs": []
    },
    {
      "cell_type": "code",
      "metadata": {
        "id": "MuicGdjuDpFZ"
      },
      "source": [
        "# Запись датасета 6_po_yur_poleznii_otpusk_2019_2021.csv:\n",
        "\n",
        "data_6_preEDA.to_csv('preEDA_po_yur_poleznii_otpusk_2019_2021', sep='\\t')"
      ],
      "execution_count": 57,
      "outputs": []
    },
    {
      "cell_type": "markdown",
      "metadata": {
        "id": "j52GWLAu7grD"
      },
      "source": [
        "# **EDA для датасета** \"Юрлица данные по договорам\" preEDA_po_yur_dannie_po_dogovoru"
      ]
    },
    {
      "cell_type": "code",
      "metadata": {
        "id": "Ww6Tn3eBDpIp",
        "colab": {
          "base_uri": "https://localhost:8080/"
        },
        "outputId": "fc03237a-8638-48e8-f0cd-377747811076"
      },
      "source": [
        "df_preEDA.info()"
      ],
      "execution_count": 58,
      "outputs": [
        {
          "output_type": "stream",
          "name": "stdout",
          "text": [
            "<class 'pandas.core.frame.DataFrame'>\n",
            "RangeIndex: 208347 entries, 0 to 208346\n",
            "Data columns (total 6 columns):\n",
            " #   Column               Non-Null Count   Dtype \n",
            "---  ------               --------------   ----- \n",
            " 0   id                   208347 non-null  int64 \n",
            " 1   finance_source_name  208347 non-null  object\n",
            " 2   msfo_group_name      208343 non-null  object\n",
            " 3   okved_name           202669 non-null  object\n",
            " 4   voltage              198749 non-null  object\n",
            " 5   user_subgroup        198749 non-null  object\n",
            "dtypes: int64(1), object(5)\n",
            "memory usage: 9.5+ MB\n"
          ]
        }
      ]
    },
    {
      "cell_type": "code",
      "metadata": {
        "colab": {
          "base_uri": "https://localhost:8080/"
        },
        "id": "q28IZojGcQrh",
        "outputId": "4529d814-2a53-4ef1-e3a8-aa8d5363bebc"
      },
      "source": [
        "df_preEDA.voltage.sort_values(ascending=True)"
      ],
      "execution_count": 59,
      "outputs": [
        {
          "output_type": "execute_result",
          "data": {
            "text/plain": [
              "2915      (не определено)\n",
              "2869      (не определено)\n",
              "3388      (не определено)\n",
              "149363    (не определено)\n",
              "3203      (не определено)\n",
              "               ...       \n",
              "207964                NaN\n",
              "208012                NaN\n",
              "208021                NaN\n",
              "208060                NaN\n",
              "208154                NaN\n",
              "Name: voltage, Length: 208347, dtype: object"
            ]
          },
          "metadata": {},
          "execution_count": 59
        }
      ]
    },
    {
      "cell_type": "code",
      "metadata": {
        "id": "Wd-mFEDYanLc"
      },
      "source": [
        "df_preEDA.voltage.fillna(value='(не определено)', inplace=True)"
      ],
      "execution_count": 60,
      "outputs": []
    },
    {
      "cell_type": "code",
      "metadata": {
        "colab": {
          "base_uri": "https://localhost:8080/"
        },
        "id": "YibCjy31dCm3",
        "outputId": "d29aaaa5-38f3-4669-bcee-8ec8f8e2d31b"
      },
      "source": [
        "df_preEDA.voltage.sort_values(ascending=True)"
      ],
      "execution_count": 61,
      "outputs": [
        {
          "output_type": "execute_result",
          "data": {
            "text/plain": [
              "181092    (не определено)\n",
              "29189     (не определено)\n",
              "163090    (не определено)\n",
              "85228     (не определено)\n",
              "85229     (не определено)\n",
              "               ...       \n",
              "106084                СН2\n",
              "106082                СН2\n",
              "106081                СН2\n",
              "106074                СН2\n",
              "208346                СН2\n",
              "Name: voltage, Length: 208347, dtype: object"
            ]
          },
          "metadata": {},
          "execution_count": 61
        }
      ]
    },
    {
      "cell_type": "code",
      "metadata": {
        "colab": {
          "base_uri": "https://localhost:8080/",
          "height": 282
        },
        "id": "P3p7dMRvdRjD",
        "outputId": "485af992-a7f8-4432-e759-d010df79b3cb"
      },
      "source": [
        "df_preEDA['voltage'].value_counts(ascending=True).plot(kind='barh')"
      ],
      "execution_count": 62,
      "outputs": [
        {
          "output_type": "execute_result",
          "data": {
            "text/plain": [
              "<matplotlib.axes._subplots.AxesSubplot at 0x7efe5c00e350>"
            ]
          },
          "metadata": {},
          "execution_count": 62
        },
        {
          "output_type": "display_data",
          "data": {
            "image/png": "[encoded data removed]",
            "text/plain": [
              "<Figure size 432x288 with 1 Axes>"
            ]
          },
          "metadata": {
            "needs_background": "light"
          }
        }
      ]
    },
    {
      "cell_type": "code",
      "metadata": {
        "colab": {
          "base_uri": "https://localhost:8080/"
        },
        "id": "D64zv2QeddDg",
        "outputId": "44badda4-1c9c-4a0e-f5f7-415bfdcc5674"
      },
      "source": [
        "df_preEDA['voltage'].value_counts().head(7)"
      ],
      "execution_count": 63,
      "outputs": [
        {
          "output_type": "execute_result",
          "data": {
            "text/plain": [
              "НН                 127709\n",
              "СН2                 65451\n",
              "(не определено)      9609\n",
              "ВН                   5114\n",
              "СН1                   461\n",
              "ГН,ВН                   3\n",
              "Name: voltage, dtype: int64"
            ]
          },
          "metadata": {},
          "execution_count": 63
        }
      ]
    },
    {
      "cell_type": "code",
      "metadata": {
        "id": "S0SVaRpdeo1I"
      },
      "source": [
        "# справочник уровня напряжения\n",
        "\n",
        "df_preEDA[\"voltage\"]=df_preEDA[\"voltage\"].astype('category')\n",
        "ClassDcn={\"НН\":1, \"СН2\":2, \"ВН\":3, \"СН1\":4, \"ГН,ВН\":5, \"(не определено)\":6}\n",
        "df_preEDA[\"Class_Voltage\"]=df_preEDA[\"voltage\"].map(ClassDcn)\n",
        "df_preEDA[\"Class_Voltage\"]=df_preEDA[\"Class_Voltage\"].astype(\"int64\")"
      ],
      "execution_count": 65,
      "outputs": []
    },
    {
      "cell_type": "markdown",
      "metadata": {
        "id": "vs_m6T9XB52a"
      },
      "source": [
        "- (1) низкое напряжение (НН) - объекты электросетевого хозяйства (ниже 1 кВ)\n",
        "- (2) высокое напряжение (ВН) - объекты электросетевого хозяйства (110 кВ и выше);\n",
        "- (3) среднее первое напряжение (СН1) - объекты электросетевого хозяйства (35 кВ);\n",
        "- (4) среднее второе напряжение (СН2) - объекты электросетевого хозяйства (20 - 1 кВ);\n",
        "- (5) генераторное напряжение (ГН) - для потребителей, присоединенных к шинам производителей электрической энергии и мощности (генераторов); потребитель при расчетах с поставщиком электроэнергии имеет право выбора только 4 ценовой категории или 6 ценовой категории"
      ]
    },
    {
      "cell_type": "code",
      "metadata": {
        "colab": {
          "base_uri": "https://localhost:8080/"
        },
        "id": "J04fNIzIhI5e",
        "outputId": "de64b481-d6c4-47d8-cde9-c9813e634774"
      },
      "source": [
        "df_preEDA['msfo_group_name'].value_counts().head(11)"
      ],
      "execution_count": 66,
      "outputs": [
        {
          "output_type": "execute_result",
          "data": {
            "text/plain": [
              "Прочие потребители                          165901\n",
              "Управляющие организации, ТСЖ, ЖСК,ЖК         13100\n",
              "Городской/ Местный бюджет                    12298\n",
              "Промышленность                                5599\n",
              "Федеральный бюджет                            4722\n",
              "Сельское  хозяйство                           2309\n",
              "Прочее (котельные, водоканалы и др.)          1922\n",
              "Областной/ Краевой бюджет                     1587\n",
              "Энергосбытовые компании (ЭСК, ГП 2, ОПП)       878\n",
              "РЖД                                             22\n",
              "Население (на прямых расчетах)                   5\n",
              "Name: msfo_group_name, dtype: int64"
            ]
          },
          "metadata": {},
          "execution_count": 66
        }
      ]
    },
    {
      "cell_type": "code",
      "metadata": {
        "id": "VsRzVSIAwmQj"
      },
      "source": [
        "df_preEDA.user_subgroup.fillna(value='(не определено)', inplace=True)"
      ],
      "execution_count": 67,
      "outputs": []
    },
    {
      "cell_type": "code",
      "metadata": {
        "colab": {
          "base_uri": "https://localhost:8080/"
        },
        "id": "tkoOT9OZhyXn",
        "outputId": "0375c2ac-63af-469a-a94d-0c4a2466959a"
      },
      "source": [
        "df_preEDA.loc[df_preEDA['msfo_group_name']=='РЖД'].value_counts()"
      ],
      "execution_count": 68,
      "outputs": [
        {
          "output_type": "execute_result",
          "data": {
            "text/plain": [
              "id         finance_source_name             msfo_group_name  okved_name                                                                                      voltage          user_subgroup                                          Class_Voltage\n",
              "271236870  самостоятельное финансирование  РЖД              Деятельность железнодорожного транспорта: междугородные и международные пассажирские перевозки  ВН               Населенные пункты                                      3                1\n",
              "105282453  самостоятельное финансирование  РЖД              Передача электроэнергии и технологическое присоединение к распределительным электросетям        СН2              Пром.предприятия с установленной мощностью до 750 кВА  2                1\n",
              "105000327  самостоятельное финансирование  РЖД              Деятельность железнодорожного транспорта: междугородные и международные пассажирские перевозки  ВН               Непромышленные потребители                             3                1\n",
              "                                                                                                                                                            НН               Непромышленные потребители                             1                1\n",
              "                                                                                                                                                                             Пром.предприятия с установленной мощностью до 750 кВА  1                1\n",
              "                                                                                                                                                            СН1              Непромышленные потребители                             4                1\n",
              "                                                                                                                                                            СН2              Непромышленные потребители                             2                1\n",
              "                                                                                                                                                                             Пром.предприятия с установленной мощностью до 750 кВА  2                1\n",
              "105002097  самостоятельное финансирование  РЖД              Производство прочих строительно-монтажных работ                                                 СН2              Непромышленные потребители                             2                1\n",
              "105002397  самостоятельное финансирование  РЖД              Перевозка пассажиров железнодорожным транспортом в пригородном сообщении                        НН               Непромышленные потребители                             1                1\n",
              "105007527  самостоятельное финансирование  РЖД              Деятельность вспомогательная, связанная с железнодорожным транспортом                           НН               Непромышленные потребители                             1                1\n",
              "                                                                                                                                                            СН2              Непромышленные потребители                             2                1\n",
              "105008427  самостоятельное финансирование  РЖД              Предоставление железнодорожных маневровых или буксировочных услуг                               ВН               Непромышленные потребители                             3                1\n",
              "                                                                                                                                                            НН               Непромышленные потребители                             1                1\n",
              "105090345  самостоятельное финансирование  РЖД              Передача электроэнергии и технологическое присоединение к распределительным электросетям        НН               Населенные пункты                                      1                1\n",
              "                                                                                                                                                                             Непромышленные потребители                             1                1\n",
              "                                                                                                                                                                             Пром.предприятия с установленной мощностью до 750 кВА  1                1\n",
              "                                                                                                                                                            СН2              Населенные пункты                                      2                1\n",
              "                                                                                                                                                                             Непромышленные потребители                             2                1\n",
              "                                                                                                                                                                             Пром.предприятия с установленной мощностью до 750 кВА  2                1\n",
              "105282453  самостоятельное финансирование  РЖД              Передача электроэнергии и технологическое присоединение к распределительным электросетям        (не определено)  (не определено)                                        6                1\n",
              "105000327  самостоятельное финансирование  РЖД              Деятельность железнодорожного транспорта: междугородные и международные пассажирские перевозки  (не определено)  (не определено)                                        6                1\n",
              "dtype: int64"
            ]
          },
          "metadata": {},
          "execution_count": 68
        }
      ]
    },
    {
      "cell_type": "code",
      "metadata": {
        "id": "0DTYwjJghQ3G"
      },
      "source": [
        "df_preEDA.msfo_group_name.fillna(value='(не определено)', inplace=True)"
      ],
      "execution_count": 80,
      "outputs": []
    },
    {
      "cell_type": "code",
      "metadata": {
        "colab": {
          "base_uri": "https://localhost:8080/",
          "height": 282
        },
        "id": "D37-QtSp9rOC",
        "outputId": "5f049ca2-5cbe-43f0-a840-0930842879f1"
      },
      "source": [
        "# распределение признака price_category\n",
        "df_preEDA['msfo_group_name'].value_counts(ascending=True).plot(kind='barh')"
      ],
      "execution_count": 81,
      "outputs": [
        {
          "output_type": "execute_result",
          "data": {
            "text/plain": [
              "<matplotlib.axes._subplots.AxesSubplot at 0x7efe577a3c50>"
            ]
          },
          "metadata": {},
          "execution_count": 81
        },
        {
          "output_type": "display_data",
          "data": {
            "image/png": "[encoded data removed]",
            "text/plain": [
              "<Figure size 432x288 with 1 Axes>"
            ]
          },
          "metadata": {
            "needs_background": "light"
          }
        }
      ]
    },
    {
      "cell_type": "code",
      "metadata": {
        "colab": {
          "base_uri": "https://localhost:8080/"
        },
        "id": "L831B_E2kUpa",
        "outputId": "aba9c80a-ea6f-4b3f-d3cc-2514489e09ae"
      },
      "source": [
        "df_preEDA['msfo_group_name'].value_counts().head(12)"
      ],
      "execution_count": 84,
      "outputs": [
        {
          "output_type": "execute_result",
          "data": {
            "text/plain": [
              "Прочие потребители                          165901\n",
              "Управляющие организации, ТСЖ, ЖСК,ЖК         13100\n",
              "Городской/ Местный бюджет                    12298\n",
              "Промышленность                                5599\n",
              "Федеральный бюджет                            4722\n",
              "Сельское  хозяйство                           2309\n",
              "Прочее (котельные, водоканалы и др.)          1922\n",
              "Областной/ Краевой бюджет                     1587\n",
              "Энергосбытовые компании (ЭСК, ГП 2, ОПП)       878\n",
              "РЖД                                             22\n",
              "Население (на прямых расчетах)                   5\n",
              "(не определено)                                  4\n",
              "Name: msfo_group_name, dtype: int64"
            ]
          },
          "metadata": {},
          "execution_count": 84
        }
      ]
    },
    {
      "cell_type": "code",
      "metadata": {
        "id": "BPPF_moHmQjq"
      },
      "source": [
        "df_preEDA.okved_name.fillna(value='(не определено)', inplace=True)"
      ],
      "execution_count": 95,
      "outputs": []
    },
    {
      "cell_type": "code",
      "metadata": {
        "colab": {
          "base_uri": "https://localhost:8080/"
        },
        "id": "qiMfU3NXkbIR",
        "outputId": "91152d9b-4925-440d-c66a-a8a7bbf3f6ba"
      },
      "source": [
        "df_preEDA['okved_name'].value_counts().head()\n"
      ],
      "execution_count": 105,
      "outputs": [
        {
          "output_type": "execute_result",
          "data": {
            "text/plain": [
              "Аренда и управление собственным или арендованным недвижимым имуществом                39687\n",
              "Аренда и управление собственным или арендованным нежилым недвижимым имуществом        13441\n",
              "Управление эксплуатацией жилого фонда за вознаграждение или на договорной основе      11255\n",
              "Управление эксплуатацией нежилого фонда за вознаграждение или на договорной основе    10450\n",
              "Управление недвижимым имуществом за вознаграждение или на договорной основе            8802\n",
              "Name: okved_name, dtype: int64"
            ]
          },
          "metadata": {},
          "execution_count": 105
        }
      ]
    },
    {
      "cell_type": "code",
      "metadata": {
        "id": "j4wxq_bZoiuh"
      },
      "source": [
        "# для One-Hot Encoding в pandas есть готовая функция - get_dummies. Особенно радует параметр dummy_na\n",
        "df_preEDA = pd.get_dummies(df_preEDA, columns=['voltage',], dummy_na=True)"
      ],
      "execution_count": 106,
      "outputs": []
    },
    {
      "cell_type": "code",
      "metadata": {
        "colab": {
          "base_uri": "https://localhost:8080/",
          "height": 714
        },
        "id": "zn9YYNbRpHTR",
        "outputId": "f1a75ad9-c8b4-4e75-ef1f-571c815a3fc9"
      },
      "source": [
        "# тепловая карта\n",
        "sns.heatmap(df_preEDA.corr(), annot=True, cmap='cividis')\n",
        "fig = plt.gcf()\n",
        "fig.set_size_inches(15, 10)"
      ],
      "execution_count": 115,
      "outputs": [
        {
          "output_type": "display_data",
          "data": {
            "image/png": "[encoded data removed]",
            "text/plain": [
              "<Figure size 1080x720 with 2 Axes>"
            ]
          },
          "metadata": {
            "needs_background": "light"
          }
        }
      ]
    },
    {
      "cell_type": "code",
      "metadata": {
        "colab": {
          "base_uri": "https://localhost:8080/"
        },
        "id": "2fbI0IPfanQF",
        "outputId": "5931a95b-8a3e-4e35-819f-4ac27cea1f5d"
      },
      "source": [
        "df_preEDA.info()"
      ],
      "execution_count": 107,
      "outputs": [
        {
          "output_type": "stream",
          "name": "stdout",
          "text": [
            "<class 'pandas.core.frame.DataFrame'>\n",
            "RangeIndex: 208347 entries, 0 to 208346\n",
            "Data columns (total 13 columns):\n",
            " #   Column                   Non-Null Count   Dtype \n",
            "---  ------                   --------------   ----- \n",
            " 0   id                       208347 non-null  int64 \n",
            " 1   finance_source_name      208347 non-null  object\n",
            " 2   msfo_group_name          208347 non-null  object\n",
            " 3   okved_name               208347 non-null  object\n",
            " 4   user_subgroup            208347 non-null  object\n",
            " 5   Class_Voltage            208347 non-null  int64 \n",
            " 6   voltage_(не определено)  208347 non-null  uint8 \n",
            " 7   voltage_ВН               208347 non-null  uint8 \n",
            " 8   voltage_ГН,ВН            208347 non-null  uint8 \n",
            " 9   voltage_НН               208347 non-null  uint8 \n",
            " 10  voltage_СН1              208347 non-null  uint8 \n",
            " 11  voltage_СН2              208347 non-null  uint8 \n",
            " 12  voltage_nan              208347 non-null  uint8 \n",
            "dtypes: int64(2), object(4), uint8(7)\n",
            "memory usage: 10.9+ MB\n"
          ]
        }
      ]
    },
    {
      "cell_type": "code",
      "metadata": {
        "id": "Jc-FcwNdanVC"
      },
      "source": [
        "#сохраняем датасет без признаков:\n",
        "## finance_source_name\n",
        "## user_subgroup\n",
        "## voltage_(не определено)\n",
        "## voltage_nan\n",
        "## \n",
        "\n",
        "df_preEDA_final=df_preEDA[[\"id\",\"msfo_group_name\",\"okved_name\",\n",
        "               \"Class_Voltage\",\"voltage_ВН\", \"voltage_ГН,ВН\", \"voltage_НН\",\n",
        "               \"voltage_СН1\",\"voltage_СН2\"]]"
      ],
      "execution_count": 118,
      "outputs": []
    },
    {
      "cell_type": "code",
      "metadata": {
        "id": "JAsRvQrmqVsh"
      },
      "source": [
        "# Запись датасета 4_po_yur_dannie_po_dogovoru.csv:\n",
        "\n",
        "df_preEDA_final.to_csv('preEDA_final_po_yur_dannie_po_dogovoru', sep='\\t')"
      ],
      "execution_count": 119,
      "outputs": []
    },
    {
      "cell_type": "code",
      "metadata": {
        "id": "tzpPMg6ZqVvz"
      },
      "source": [
        ""
      ],
      "execution_count": null,
      "outputs": []
    },
    {
      "cell_type": "code",
      "metadata": {
        "id": "udhrzH_6qVzE"
      },
      "source": [
        ""
      ],
      "execution_count": null,
      "outputs": []
    },
    {
      "cell_type": "markdown",
      "metadata": {
        "id": "kRF_8QkHs0Cq"
      },
      "source": [
        "# **EDA для датасета** \"Юрлица начисления 2019-2021\" data_5_preEDA_po_yur_litsa_nachisleniya_2019_2021"
      ]
    },
    {
      "cell_type": "code",
      "metadata": {
        "colab": {
          "base_uri": "https://localhost:8080/"
        },
        "id": "wNheQK1hqV2W",
        "outputId": "d0d23c1a-5356-4c16-aa19-1ed24f2cc5c8"
      },
      "source": [
        "data_5_preEDA.info()"
      ],
      "execution_count": 120,
      "outputs": [
        {
          "output_type": "stream",
          "name": "stdout",
          "text": [
            "<class 'pandas.core.frame.DataFrame'>\n",
            "Int64Index: 3972306 entries, 4 to 5153126\n",
            "Data columns (total 10 columns):\n",
            " #   Column                             Dtype  \n",
            "---  ------                             -----  \n",
            " 0   month_year                         float64\n",
            " 1   id                                 int64  \n",
            " 2   price_category                     int64  \n",
            " 3   max_power_range                    object \n",
            " 4   calc_algorithm                     object \n",
            " 5   cost_of_taken_energy_with_nds_rub  float64\n",
            " 6   power_capacity_kVt                 int64  \n",
            " 7   power_capacity_with_nds_rub        float64\n",
            " 8   used_energy_capacity_kVth          int64  \n",
            " 9   voltage                            object \n",
            "dtypes: float64(3), int64(4), object(3)\n",
            "memory usage: 333.4+ MB\n"
          ]
        }
      ]
    },
    {
      "cell_type": "code",
      "metadata": {
        "colab": {
          "base_uri": "https://localhost:8080/"
        },
        "id": "kXtzsKhItMqY",
        "outputId": "174b3b75-20ee-4e3f-d199-11207a9d7156"
      },
      "source": [
        "data_5_preEDA.voltage.sort_values(ascending=True)"
      ],
      "execution_count": 122,
      "outputs": [
        {
          "output_type": "execute_result",
          "data": {
            "text/plain": [
              "2893792     ВН\n",
              "1184565     ВН\n",
              "4809626     ВН\n",
              "250046      ВН\n",
              "989001      ВН\n",
              "          ... \n",
              "1699634    СН2\n",
              "3801652    СН2\n",
              "3801651    СН2\n",
              "3801649    СН2\n",
              "5153126    СН2\n",
              "Name: voltage, Length: 3972306, dtype: object"
            ]
          },
          "metadata": {},
          "execution_count": 122
        }
      ]
    },
    {
      "cell_type": "code",
      "metadata": {
        "colab": {
          "base_uri": "https://localhost:8080/"
        },
        "id": "HuYjVVNFtMtk",
        "outputId": "438ccc3b-9ff7-451e-b445-b3705de4316c"
      },
      "source": [
        "data_5_preEDA['voltage'].value_counts().head(7)"
      ],
      "execution_count": 125,
      "outputs": [
        {
          "output_type": "execute_result",
          "data": {
            "text/plain": [
              "НН       2536856\n",
              "СН2      1332158\n",
              "ВН         95136\n",
              "СН1         8151\n",
              "ГН,ВН          5\n",
              "Name: voltage, dtype: int64"
            ]
          },
          "metadata": {},
          "execution_count": 125
        }
      ]
    },
    {
      "cell_type": "code",
      "metadata": {
        "id": "j7LfUfdNtMwp"
      },
      "source": [
        "# справочник уровня напряжения\n",
        "\n",
        "data_5_preEDA[\"voltage\"]=data_5_preEDA[\"voltage\"].astype('category')\n",
        "ClassDcn={\"НН\":1, \"СН2\":2, \"ВН\":3, \"СН1\":4, \"ГН,ВН\":5}\n",
        "data_5_preEDA[\"Class_Voltage\"]=data_5_preEDA[\"voltage\"].map(ClassDcn)\n",
        "data_5_preEDA[\"Class_Voltage\"]=data_5_preEDA[\"Class_Voltage\"].astype(\"int64\")"
      ],
      "execution_count": 127,
      "outputs": []
    },
    {
      "cell_type": "code",
      "metadata": {
        "id": "O7_UMchMvA1N"
      },
      "source": [
        "# для One-Hot Encoding в pandas есть готовая функция - get_dummies. Особенно радует параметр dummy_na\n",
        "data_5_preEDA = pd.get_dummies(data_5_preEDA, columns=['voltage',], dummy_na=True)"
      ],
      "execution_count": 129,
      "outputs": []
    },
    {
      "cell_type": "markdown",
      "metadata": {
        "id": "585rKX3V9xIZ"
      },
      "source": [
        "# отбор по id записей, относящихся к РЖД.\n",
        "(устанавливали соответствие по id из датасета \"ch.xackaton_po_yur_dannie_po_dogovoru.csv\" и \"ch.xackaton_po_yur_litsa_nachisleniya_2019_2021.csv\""
      ]
    },
    {
      "cell_type": "code",
      "metadata": {
        "colab": {
          "base_uri": "https://localhost:8080/"
        },
        "id": "kYPQN-pdtM0C",
        "outputId": "0eec512e-7949-4512-b48f-79d4aa12ef71"
      },
      "source": [
        "data_5_preEDA.loc[data_5_preEDA['id']==105002397].value_counts()"
      ],
      "execution_count": 138,
      "outputs": [
        {
          "output_type": "execute_result",
          "data": {
            "text/plain": [
              "month_year  id         price_category  max_power_range  calc_algorithm                   cost_of_taken_energy_with_nds_rub  power_capacity_kVt  power_capacity_with_nds_rub  used_energy_capacity_kVth  Class_Voltage  voltage_ВН  voltage_ГН,ВН  voltage_НН  voltage_СН1  voltage_СН2  voltage_nan\n",
              "2021.09     105002397  1               Менее 150 кВт    Алгоритм расчета: по показаниям  24196.39                           0                   0.0                          3398                       1              0           0              1           0            0            0              1\n",
              "2020.08     105002397  1               Менее 150 кВт    Алгоритм расчета: по показаниям  17701.34                           0                   0.0                          2651                       1              0           0              1           0            0            0              1\n",
              "2019.10     105002397  1               Менее 150 кВт    Алгоритм расчета: по показаниям  3362.96                            0                   0.0                          531                        1              0           0              1           0            0            0              1\n",
              "2019.11     105002397  1               Менее 150 кВт    Алгоритм расчета: по показаниям  4242.28                            0                   0.0                          695                        1              0           0              1           0            0            0              1\n",
              "2019.12     105002397  1               Менее 150 кВт    Алгоритм расчета: по показаниям  17854.81                           0                   0.0                          2877                       1              0           0              1           0            0            0              1\n",
              "2020.01     105002397  1               Менее 150 кВт    Алгоритм расчета: по показаниям  35296.46                           0                   0.0                          5831                       1              0           0              1           0            0            0              1\n",
              "2020.02     105002397  1               Менее 150 кВт    Алгоритм расчета: по показаниям  43218.04                           0                   0.0                          6755                       1              0           0              1           0            0            0              1\n",
              "2020.03     105002397  1               Менее 150 кВт    Алгоритм расчета: по показаниям  28656.55                           0                   0.0                          4665                       1              0           0              1           0            0            0              1\n",
              "2020.04     105002397  1               Менее 150 кВт    Алгоритм расчета: по показаниям  28498.38                           0                   0.0                          4634                       1              0           0              1           0            0            0              1\n",
              "2020.05     105002397  1               Менее 150 кВт    Алгоритм расчета: по показаниям  13168.24                           0                   0.0                          2206                       1              0           0              1           0            0            0              1\n",
              "2020.06     105002397  1               Менее 150 кВт    Алгоритм расчета: по показаниям  20565.18                           0                   0.0                          3316                       1              0           0              1           0            0            0              1\n",
              "2020.07     105002397  1               Менее 150 кВт    Алгоритм расчета: по показаниям  12949.33                           0                   0.0                          1990                       1              0           0              1           0            0            0              1\n",
              "2020.09     105002397  1               Менее 150 кВт    Алгоритм расчета: по показаниям  19891.76                           0                   0.0                          2875                       1              0           0              1           0            0            0              1\n",
              "2021.08     105002397  1               Менее 150 кВт    Алгоритм расчета: по показаниям  19478.89                           0                   0.0                          2828                       1              0           0              1           0            0            0              1\n",
              "2020.10     105002397  1               Менее 150 кВт    Алгоритм расчета: по показаниям  23493.72                           0                   0.0                          3525                       1              0           0              1           0            0            0              1\n",
              "2020.11     105002397  1               Менее 150 кВт    Алгоритм расчета: по показаниям  39308.94                           0                   0.0                          5931                       1              0           0              1           0            0            0              1\n",
              "2020.12     105002397  1               Менее 150 кВт    Алгоритм расчета: по показаниям  46002.62                           0                   0.0                          7192                       1              0           0              1           0            0            0              1\n",
              "2021.01     105002397  1               Менее 150 кВт    Алгоритм расчета: по показаниям  54292.93                           0                   0.0                          8247                       1              0           0              1           0            0            0              1\n",
              "2021.02     105002397  1               Менее 150 кВт    Алгоритм расчета: по показаниям  58961.90                           0                   0.0                          8725                       1              0           0              1           0            0            0              1\n",
              "2021.03     105002397  1               Менее 150 кВт    Алгоритм расчета: по показаниям  38221.69                           0                   0.0                          5821                       1              0           0              1           0            0            0              1\n",
              "2021.04     105002397  1               Менее 150 кВт    Алгоритм расчета: по показаниям  25808.12                           0                   0.0                          3858                       1              0           0              1           0            0            0              1\n",
              "2021.05     105002397  1               Менее 150 кВт    Алгоритм расчета: по показаниям  17759.14                           0                   0.0                          2833                       1              0           0              1           0            0            0              1\n",
              "2021.06     105002397  1               Менее 150 кВт    Алгоритм расчета: по показаниям  19902.25                           0                   0.0                          3006                       1              0           0              1           0            0            0              1\n",
              "2021.07     105002397  1               Менее 150 кВт    Алгоритм расчета: по показаниям  16748.00                           0                   0.0                          2478                       1              0           0              1           0            0            0              1\n",
              "2019.09     105002397  1               Менее 150 кВт    Алгоритм расчета: по показаниям  1900.87                            0                   0.0                          295                        1              0           0              1           0            0            0              1\n",
              "dtype: int64"
            ]
          },
          "metadata": {},
          "execution_count": 138
        }
      ]
    },
    {
      "cell_type": "code",
      "metadata": {
        "colab": {
          "base_uri": "https://localhost:8080/"
        },
        "id": "Wh8UatPmuuq4",
        "outputId": "ba0df861-87ef-492b-9f24-45d99a1d2a5a"
      },
      "source": [
        "data_5_preEDA.loc[data_5_preEDA['id']==105002397].cost_of_taken_energy_with_nds_rub.sum()"
      ],
      "execution_count": 139,
      "outputs": [
        {
          "output_type": "execute_result",
          "data": {
            "text/plain": [
              "631480.79"
            ]
          },
          "metadata": {},
          "execution_count": 139
        }
      ]
    },
    {
      "cell_type": "code",
      "metadata": {
        "colab": {
          "base_uri": "https://localhost:8080/"
        },
        "id": "EXVGABue8AHr",
        "outputId": "3d19801a-87eb-487b-b3b9-fee1e013f57b"
      },
      "source": [
        "data_5_preEDA.loc[data_5_preEDA['id']==271236870].cost_of_taken_energy_with_nds_rub.sum()"
      ],
      "execution_count": 140,
      "outputs": [
        {
          "output_type": "execute_result",
          "data": {
            "text/plain": [
              "344836.38999999996"
            ]
          },
          "metadata": {},
          "execution_count": 140
        }
      ]
    },
    {
      "cell_type": "code",
      "metadata": {
        "colab": {
          "base_uri": "https://localhost:8080/"
        },
        "id": "F5e1kB4i8ARk",
        "outputId": "fa5dc61b-f658-4d31-8ece-7486350886e9"
      },
      "source": [
        "data_5_preEDA.loc[data_5_preEDA['id']==105282453].cost_of_taken_energy_with_nds_rub.sum()"
      ],
      "execution_count": 141,
      "outputs": [
        {
          "output_type": "execute_result",
          "data": {
            "text/plain": [
              "1218679.41"
            ]
          },
          "metadata": {},
          "execution_count": 141
        }
      ]
    },
    {
      "cell_type": "code",
      "metadata": {
        "colab": {
          "base_uri": "https://localhost:8080/"
        },
        "id": "U6ogexwZ8RPT",
        "outputId": "04450f28-7623-4fbf-f7c7-826543d7f08f"
      },
      "source": [
        "data_5_preEDA.loc[data_5_preEDA['id']==105000327].cost_of_taken_energy_with_nds_rub.sum()"
      ],
      "execution_count": 149,
      "outputs": [
        {
          "output_type": "execute_result",
          "data": {
            "text/plain": [
              "22111250.05"
            ]
          },
          "metadata": {},
          "execution_count": 149
        }
      ]
    },
    {
      "cell_type": "code",
      "metadata": {
        "colab": {
          "base_uri": "https://localhost:8080/"
        },
        "id": "om2SBvWE8RS2",
        "outputId": "009ab086-f28d-44fa-c02f-83ec42ef5564"
      },
      "source": [
        "data_5_preEDA.loc[data_5_preEDA['id']==105002097].cost_of_taken_energy_with_nds_rub.sum()"
      ],
      "execution_count": 148,
      "outputs": [
        {
          "output_type": "execute_result",
          "data": {
            "text/plain": [
              "4526359.38"
            ]
          },
          "metadata": {},
          "execution_count": 148
        }
      ]
    },
    {
      "cell_type": "code",
      "metadata": {
        "colab": {
          "base_uri": "https://localhost:8080/"
        },
        "id": "kO96Ial48RW1",
        "outputId": "8070b79c-d947-478d-e872-aaa9cd408937"
      },
      "source": [
        "data_5_preEDA.loc[data_5_preEDA['id']==105002397].cost_of_taken_energy_with_nds_rub.sum()"
      ],
      "execution_count": 147,
      "outputs": [
        {
          "output_type": "execute_result",
          "data": {
            "text/plain": [
              "631480.79"
            ]
          },
          "metadata": {},
          "execution_count": 147
        }
      ]
    },
    {
      "cell_type": "code",
      "metadata": {
        "colab": {
          "base_uri": "https://localhost:8080/"
        },
        "id": "UR5UtKRl8jUR",
        "outputId": "8a58aaa2-7130-473d-9d20-85690e394357"
      },
      "source": [
        "data_5_preEDA.loc[data_5_preEDA['id']==105007527].cost_of_taken_energy_with_nds_rub.sum()"
      ],
      "execution_count": 146,
      "outputs": [
        {
          "output_type": "execute_result",
          "data": {
            "text/plain": [
              "58109.23"
            ]
          },
          "metadata": {},
          "execution_count": 146
        }
      ]
    },
    {
      "cell_type": "code",
      "metadata": {
        "colab": {
          "base_uri": "https://localhost:8080/"
        },
        "id": "ux0RCF-W8jfT",
        "outputId": "1780bc88-8dc2-4873-f36d-1198290a641d"
      },
      "source": [
        "data_5_preEDA.loc[data_5_preEDA['id']==105008427].cost_of_taken_energy_with_nds_rub.sum()"
      ],
      "execution_count": 145,
      "outputs": [
        {
          "output_type": "execute_result",
          "data": {
            "text/plain": [
              "23486.930000000004"
            ]
          },
          "metadata": {},
          "execution_count": 145
        }
      ]
    },
    {
      "cell_type": "code",
      "metadata": {
        "colab": {
          "base_uri": "https://localhost:8080/"
        },
        "id": "M7e6nETp8jpN",
        "outputId": "bdcc2013-9305-4d53-f78c-84610300be71"
      },
      "source": [
        "data_5_preEDA.loc[data_5_preEDA['id']==105090345].cost_of_taken_energy_with_nds_rub.sum()"
      ],
      "execution_count": 144,
      "outputs": [
        {
          "output_type": "execute_result",
          "data": {
            "text/plain": [
              "48902595.36"
            ]
          },
          "metadata": {},
          "execution_count": 144
        }
      ]
    },
    {
      "cell_type": "code",
      "metadata": {
        "colab": {
          "base_uri": "https://localhost:8080/"
        },
        "id": "WD1yk1Go8jwx",
        "outputId": "b609874b-a80d-46af-c0b9-0b384bb08c75"
      },
      "source": [
        "data_5_preEDA.loc[data_5_preEDA['id']==105282453].cost_of_taken_energy_with_nds_rub.sum()"
      ],
      "execution_count": 143,
      "outputs": [
        {
          "output_type": "execute_result",
          "data": {
            "text/plain": [
              "1218679.41"
            ]
          },
          "metadata": {},
          "execution_count": 143
        }
      ]
    },
    {
      "cell_type": "code",
      "metadata": {
        "colab": {
          "base_uri": "https://localhost:8080/"
        },
        "id": "WmjcLKrH8j3-",
        "outputId": "0570d19e-cb84-4ab1-c7ec-b6e7141b896f"
      },
      "source": [
        "data_5_preEDA.loc[data_5_preEDA['id']==105000327].cost_of_taken_energy_with_nds_rub.sum()"
      ],
      "execution_count": 142,
      "outputs": [
        {
          "output_type": "execute_result",
          "data": {
            "text/plain": [
              "22111250.05"
            ]
          },
          "metadata": {},
          "execution_count": 142
        }
      ]
    },
    {
      "cell_type": "code",
      "metadata": {
        "id": "R4-TMXG78RaC"
      },
      "source": [
        ""
      ],
      "execution_count": null,
      "outputs": []
    },
    {
      "cell_type": "code",
      "metadata": {
        "id": "q9to2CII8AZe"
      },
      "source": [
        ""
      ],
      "execution_count": null,
      "outputs": []
    },
    {
      "cell_type": "code",
      "metadata": {
        "colab": {
          "base_uri": "https://localhost:8080/"
        },
        "id": "NCVWU_BDuu0D",
        "outputId": "87273292-63dc-4c65-b452-f6c7873c62e9"
      },
      "source": [
        "data_5_preEDA.info()"
      ],
      "execution_count": 150,
      "outputs": [
        {
          "output_type": "stream",
          "name": "stdout",
          "text": [
            "<class 'pandas.core.frame.DataFrame'>\n",
            "Int64Index: 3972306 entries, 4 to 5153126\n",
            "Data columns (total 16 columns):\n",
            " #   Column                             Dtype  \n",
            "---  ------                             -----  \n",
            " 0   month_year                         float64\n",
            " 1   id                                 int64  \n",
            " 2   price_category                     int64  \n",
            " 3   max_power_range                    object \n",
            " 4   calc_algorithm                     object \n",
            " 5   cost_of_taken_energy_with_nds_rub  float64\n",
            " 6   power_capacity_kVt                 int64  \n",
            " 7   power_capacity_with_nds_rub        float64\n",
            " 8   used_energy_capacity_kVth          int64  \n",
            " 9   Class_Voltage                      int64  \n",
            " 10  voltage_ВН                         uint8  \n",
            " 11  voltage_ГН,ВН                      uint8  \n",
            " 12  voltage_НН                         uint8  \n",
            " 13  voltage_СН1                        uint8  \n",
            " 14  voltage_СН2                        uint8  \n",
            " 15  voltage_nan                        uint8  \n",
            "dtypes: float64(3), int64(5), object(2), uint8(6)\n",
            "memory usage: 356.1+ MB\n"
          ]
        }
      ]
    },
    {
      "cell_type": "markdown",
      "metadata": {
        "id": "6h-au36b-FHk"
      },
      "source": [
        "# **ВЫВОД по таблицам 4,5,6**\n",
        "\n",
        "- по таблице 4 \"ch.xackaton_po_yur_dannie_po_dogovoru.csv\" - можно установить закупки РЖД, связанные, по всей видимости как с электрофицированным транспортом, так и с потребностями, не связанными с электрофицированным транспортом\n",
        "\n",
        "- по таблице 4 \"ch.xackaton_po_yur_dannie_po_dogovoru.csv\" определены id записей, относящихся к РЖД\n",
        "- по таблице 5 \"ch.xackaton_po_yur_litsa_nachisleniya_2019_2021.csv\" определена суммарная стоимость закупок за период с 2019 по 2021.\n",
        "\n",
        "- **стоимость закупок: 101 778 207,79 руб.**\n",
        "\n",
        "- таблица 6 \"ch.xackaton_po_yur_poleznii_otpusk_2019_2021.csv\", не является достаточно информативной."
      ]
    },
    {
      "cell_type": "code",
      "metadata": {
        "id": "PyUMfJnauuvA"
      },
      "source": [
        ""
      ],
      "execution_count": null,
      "outputs": []
    },
    {
      "cell_type": "code",
      "metadata": {
        "id": "KDZBk04-vqJb"
      },
      "source": [
        ""
      ],
      "execution_count": null,
      "outputs": []
    },
    {
      "cell_type": "code",
      "metadata": {
        "id": "x9pMl32tvphI"
      },
      "source": [
        ""
      ],
      "execution_count": null,
      "outputs": []
    },
    {
      "cell_type": "code",
      "metadata": {
        "id": "19XK4DL4vplR"
      },
      "source": [
        ""
      ],
      "execution_count": null,
      "outputs": []
    },
    {
      "cell_type": "markdown",
      "metadata": {
        "id": "cXeRcbTIDjcd"
      },
      "source": [
        "# РАЗНЫЕ ЗАГОТОВКИ от старых шаблонов"
      ]
    },
    {
      "cell_type": "markdown",
      "metadata": {
        "id": "xqYMFPFIXy5T"
      },
      "source": [
        "# EDA датасета\n",
        "preEDA_po_yur_dannie_po_dogovoru\n"
      ]
    },
    {
      "cell_type": "code",
      "metadata": {
        "id": "XTK3J2DwdCxY",
        "colab": {
          "base_uri": "https://localhost:8080/",
          "height": 285
        },
        "outputId": "9b22f264-9a09-466c-f1e9-dee599ab1222"
      },
      "source": [
        "# распределение оленей по фотографиям\n",
        "bboxes_df['filename'][bboxes_df['class_label_reindeer'] ==1].hist(bins=50)"
      ],
      "execution_count": null,
      "outputs": [
        {
          "output_type": "execute_result",
          "data": {
            "text/plain": [
              "<matplotlib.axes._subplots.AxesSubplot at 0x7fea6c2b8810>"
            ]
          },
          "metadata": {},
          "execution_count": 69
        },
        {
          "output_type": "display_data",
          "data": {
            "image/png": "[encoded data removed]",
            "text/plain": [
              "<Figure size 432x288 with 1 Axes>"
            ]
          },
          "metadata": {
            "needs_background": "light"
          }
        }
      ]
    },
    {
      "cell_type": "code",
      "metadata": {
        "colab": {
          "base_uri": "https://localhost:8080/",
          "height": 282
        },
        "id": "CjUk3qIhdmyB",
        "outputId": "987496dc-ce48-47a0-f4a2-ae3d9cdc7498"
      },
      "source": [
        "# распределение оленят по фотографиям\n",
        "bboxes_df['filename'][bboxes_df['class_label_fawn'] ==1].hist(bins=50)"
      ],
      "execution_count": null,
      "outputs": [
        {
          "output_type": "execute_result",
          "data": {
            "text/plain": [
              "<matplotlib.axes._subplots.AxesSubplot at 0x7fea6bed3f10>"
            ]
          },
          "metadata": {},
          "execution_count": 70
        },
        {
          "output_type": "display_data",
          "data": {
            "image/png": "[encoded data removed]",
            "text/plain": [
              "<Figure size 432x288 with 1 Axes>"
            ]
          },
          "metadata": {
            "needs_background": "light"
          }
        }
      ]
    }
  ]
}