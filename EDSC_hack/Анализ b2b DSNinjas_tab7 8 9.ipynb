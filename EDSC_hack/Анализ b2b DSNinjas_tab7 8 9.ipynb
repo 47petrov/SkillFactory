{
  "nbformat": 4,
  "nbformat_minor": 0,
  "metadata": {
    "colab": {
      "name": "Предварительный анализ таблиц №№7, 8, 9",
      "provenance": []
    },
    "kernelspec": {
      "name": "python3",
      "display_name": "Python 3"
    },
    "language_info": {
      "name": "python"
    }
  },
  "cells": [
    {
      "cell_type": "code",
      "metadata": {
        "id": "TjzepO06Km7T"
      },
      "source": [
        "# Импортируем библиотеки\n",
        "import numpy as np\n",
        "import pandas as pd\n",
        "import matplotlib.pyplot as plt\n",
        "import seaborn as sns\n",
        "%matplotlib inline"
      ],
      "execution_count": null,
      "outputs": []
    },
    {
      "cell_type": "code",
      "metadata": {
        "colab": {
          "base_uri": "https://localhost:8080/"
        },
        "id": "DZ5SCTW-WNBZ",
        "outputId": "a9ddab58-19d4-48bc-8298-422eefb2508c"
      },
      "source": [
        "# Подключаем гугл-диск\n",
        "from google.colab import drive\n",
        "drive.mount('/content/drive')"
      ],
      "execution_count": null,
      "outputs": [
        {
          "output_type": "stream",
          "name": "stdout",
          "text": [
            "Mounted at /content/drive\n"
          ]
        }
      ]
    },
    {
      "cell_type": "code",
      "metadata": {
        "id": "zXkIou0ZE3IZ"
      },
      "source": [
        "def resumetable(df):\n",
        "    print(f\"Dataset Shape: {df.shape}\")\n",
        "    summary = pd.DataFrame(df.dtypes,columns=['dtypes'])\n",
        "    summary = summary.reset_index()\n",
        "    summary['Name'] = summary['index']\n",
        "    summary = summary[['Name','dtypes']]\n",
        "    summary['Missing'] = df.isna().sum().values    \n",
        "    summary['Uniques'] = df.nunique().values\n",
        "    summary['First Value'] = df.loc[0].values\n",
        "    \n",
        "    return summary"
      ],
      "execution_count": null,
      "outputs": []
    },
    {
      "cell_type": "code",
      "metadata": {
        "id": "K3MGMxvETuUn"
      },
      "source": [
        "yur_nachisleniya_prom_ee_df = pd.read_csv('/content/drive/MyDrive/DS ninjas/ch.xackaton_fuv2_yur_nachisleniya_prom_ee.csv') # Создаем df по таблице №7"
      ],
      "execution_count": null,
      "outputs": []
    },
    {
      "cell_type": "code",
      "metadata": {
        "colab": {
          "base_uri": "https://localhost:8080/",
          "height": 206
        },
        "id": "fEEVySCCW_vd",
        "outputId": "e46bf4aa-8728-4358-ec33-ef757e157670"
      },
      "source": [
        "yur_nachisleniya_prom_ee_df.head()"
      ],
      "execution_count": null,
      "outputs": [
        {
          "output_type": "execute_result",
          "data": {
            "text/html": [
              "<div>\n",
              "<style scoped>\n",
              "    .dataframe tbody tr th:only-of-type {\n",
              "        vertical-align: middle;\n",
              "    }\n",
              "\n",
              "    .dataframe tbody tr th {\n",
              "        vertical-align: top;\n",
              "    }\n",
              "\n",
              "    .dataframe thead th {\n",
              "        text-align: right;\n",
              "    }\n",
              "</style>\n",
              "<table border=\"1\" class=\"dataframe\">\n",
              "  <thead>\n",
              "    <tr style=\"text-align: right;\">\n",
              "      <th></th>\n",
              "      <th>month_year</th>\n",
              "      <th>id</th>\n",
              "      <th>price_category</th>\n",
              "      <th>useful_vacation_kVt</th>\n",
              "      <th>useful_vacation_with_nds_rub</th>\n",
              "      <th>charged_by_acts_ex_usage_with_nds_rub</th>\n",
              "      <th>product_type</th>\n",
              "      <th>power_range</th>\n",
              "      <th>calc_and_charging_algorithm</th>\n",
              "      <th>prom_charging_type</th>\n",
              "    </tr>\n",
              "  </thead>\n",
              "  <tbody>\n",
              "    <tr>\n",
              "      <th>0</th>\n",
              "      <td>2021.04</td>\n",
              "      <td>30000375</td>\n",
              "      <td>Первая ценовая категория</td>\n",
              "      <td>27</td>\n",
              "      <td>108.27</td>\n",
              "      <td>0.0</td>\n",
              "      <td>Электроэнергия</td>\n",
              "      <td>Менее 150 кВт</td>\n",
              "      <td>По среднему</td>\n",
              "      <td>полезный отпуск</td>\n",
              "    </tr>\n",
              "    <tr>\n",
              "      <th>1</th>\n",
              "      <td>2021.04</td>\n",
              "      <td>30000375</td>\n",
              "      <td>Первая ценовая категория</td>\n",
              "      <td>1870</td>\n",
              "      <td>12509.39</td>\n",
              "      <td>0.0</td>\n",
              "      <td>Электроэнергия</td>\n",
              "      <td>Менее 150 кВт</td>\n",
              "      <td>по показаниям</td>\n",
              "      <td>полезный отпуск</td>\n",
              "    </tr>\n",
              "    <tr>\n",
              "      <th>2</th>\n",
              "      <td>2021.04</td>\n",
              "      <td>30000375</td>\n",
              "      <td>Первая ценовая категория</td>\n",
              "      <td>36948</td>\n",
              "      <td>227936.94</td>\n",
              "      <td>0.0</td>\n",
              "      <td>Электроэнергия</td>\n",
              "      <td>От 150 до 670 кВт</td>\n",
              "      <td>по показаниям</td>\n",
              "      <td>полезный отпуск</td>\n",
              "    </tr>\n",
              "    <tr>\n",
              "      <th>3</th>\n",
              "      <td>2021.04</td>\n",
              "      <td>30000531</td>\n",
              "      <td>Первая ценовая категория</td>\n",
              "      <td>2839</td>\n",
              "      <td>17514.16</td>\n",
              "      <td>0.0</td>\n",
              "      <td>Электроэнергия</td>\n",
              "      <td>Менее 150 кВт</td>\n",
              "      <td>по показаниям</td>\n",
              "      <td>полезный отпуск</td>\n",
              "    </tr>\n",
              "    <tr>\n",
              "      <th>4</th>\n",
              "      <td>2021.04</td>\n",
              "      <td>30000807</td>\n",
              "      <td>Первая ценовая категория</td>\n",
              "      <td>686711</td>\n",
              "      <td>4846215.00</td>\n",
              "      <td>0.0</td>\n",
              "      <td>Электроэнергия</td>\n",
              "      <td>Менее 150 кВт</td>\n",
              "      <td>по показаниям</td>\n",
              "      <td>полезный отпуск</td>\n",
              "    </tr>\n",
              "  </tbody>\n",
              "</table>\n",
              "</div>"
            ],
            "text/plain": [
              "   month_year        id  ... calc_and_charging_algorithm  prom_charging_type\n",
              "0     2021.04  30000375  ...                 По среднему     полезный отпуск\n",
              "1     2021.04  30000375  ...               по показаниям     полезный отпуск\n",
              "2     2021.04  30000375  ...               по показаниям     полезный отпуск\n",
              "3     2021.04  30000531  ...               по показаниям     полезный отпуск\n",
              "4     2021.04  30000807  ...               по показаниям     полезный отпуск\n",
              "\n",
              "[5 rows x 10 columns]"
            ]
          },
          "metadata": {},
          "execution_count": 6
        }
      ]
    },
    {
      "cell_type": "code",
      "metadata": {
        "colab": {
          "base_uri": "https://localhost:8080/",
          "height": 380
        },
        "id": "Z4GpHqOTGP9_",
        "outputId": "175fb586-ff26-45cc-c1c9-04d946399709"
      },
      "source": [
        "resumetable(yur_nachisleniya_prom_ee_df)"
      ],
      "execution_count": null,
      "outputs": [
        {
          "output_type": "stream",
          "name": "stdout",
          "text": [
            "Dataset Shape: (4131588, 10)\n"
          ]
        },
        {
          "output_type": "execute_result",
          "data": {
            "text/html": [
              "<div>\n",
              "<style scoped>\n",
              "    .dataframe tbody tr th:only-of-type {\n",
              "        vertical-align: middle;\n",
              "    }\n",
              "\n",
              "    .dataframe tbody tr th {\n",
              "        vertical-align: top;\n",
              "    }\n",
              "\n",
              "    .dataframe thead th {\n",
              "        text-align: right;\n",
              "    }\n",
              "</style>\n",
              "<table border=\"1\" class=\"dataframe\">\n",
              "  <thead>\n",
              "    <tr style=\"text-align: right;\">\n",
              "      <th></th>\n",
              "      <th>Name</th>\n",
              "      <th>dtypes</th>\n",
              "      <th>Missing</th>\n",
              "      <th>Uniques</th>\n",
              "      <th>First Value</th>\n",
              "    </tr>\n",
              "  </thead>\n",
              "  <tbody>\n",
              "    <tr>\n",
              "      <th>0</th>\n",
              "      <td>month_year</td>\n",
              "      <td>float64</td>\n",
              "      <td>0</td>\n",
              "      <td>25</td>\n",
              "      <td>2021.04</td>\n",
              "    </tr>\n",
              "    <tr>\n",
              "      <th>1</th>\n",
              "      <td>id</td>\n",
              "      <td>int64</td>\n",
              "      <td>0</td>\n",
              "      <td>160979</td>\n",
              "      <td>30000375</td>\n",
              "    </tr>\n",
              "    <tr>\n",
              "      <th>2</th>\n",
              "      <td>price_category</td>\n",
              "      <td>object</td>\n",
              "      <td>0</td>\n",
              "      <td>7</td>\n",
              "      <td>Первая ценовая категория</td>\n",
              "    </tr>\n",
              "    <tr>\n",
              "      <th>3</th>\n",
              "      <td>useful_vacation_kVt</td>\n",
              "      <td>int64</td>\n",
              "      <td>0</td>\n",
              "      <td>233066</td>\n",
              "      <td>27</td>\n",
              "    </tr>\n",
              "    <tr>\n",
              "      <th>4</th>\n",
              "      <td>useful_vacation_with_nds_rub</td>\n",
              "      <td>float64</td>\n",
              "      <td>0</td>\n",
              "      <td>1852468</td>\n",
              "      <td>108.27</td>\n",
              "    </tr>\n",
              "    <tr>\n",
              "      <th>5</th>\n",
              "      <td>charged_by_acts_ex_usage_with_nds_rub</td>\n",
              "      <td>float64</td>\n",
              "      <td>0</td>\n",
              "      <td>693</td>\n",
              "      <td>0</td>\n",
              "    </tr>\n",
              "    <tr>\n",
              "      <th>6</th>\n",
              "      <td>product_type</td>\n",
              "      <td>object</td>\n",
              "      <td>0</td>\n",
              "      <td>2</td>\n",
              "      <td>Электроэнергия</td>\n",
              "    </tr>\n",
              "    <tr>\n",
              "      <th>7</th>\n",
              "      <td>power_range</td>\n",
              "      <td>object</td>\n",
              "      <td>111</td>\n",
              "      <td>5</td>\n",
              "      <td>Менее 150 кВт</td>\n",
              "    </tr>\n",
              "    <tr>\n",
              "      <th>8</th>\n",
              "      <td>calc_and_charging_algorithm</td>\n",
              "      <td>object</td>\n",
              "      <td>0</td>\n",
              "      <td>8</td>\n",
              "      <td>По среднему</td>\n",
              "    </tr>\n",
              "    <tr>\n",
              "      <th>9</th>\n",
              "      <td>prom_charging_type</td>\n",
              "      <td>object</td>\n",
              "      <td>0</td>\n",
              "      <td>10</td>\n",
              "      <td>полезный отпуск</td>\n",
              "    </tr>\n",
              "  </tbody>\n",
              "</table>\n",
              "</div>"
            ],
            "text/plain": [
              "                                    Name  ...               First Value\n",
              "0                             month_year  ...                   2021.04\n",
              "1                                     id  ...                  30000375\n",
              "2                         price_category  ...  Первая ценовая категория\n",
              "3                    useful_vacation_kVt  ...                        27\n",
              "4           useful_vacation_with_nds_rub  ...                    108.27\n",
              "5  charged_by_acts_ex_usage_with_nds_rub  ...                         0\n",
              "6                           product_type  ...            Электроэнергия\n",
              "7                            power_range  ...             Менее 150 кВт\n",
              "8            calc_and_charging_algorithm  ...               По среднему\n",
              "9                     prom_charging_type  ...           полезный отпуск\n",
              "\n",
              "[10 rows x 5 columns]"
            ]
          },
          "metadata": {},
          "execution_count": 7
        }
      ]
    },
    {
      "cell_type": "code",
      "metadata": {
        "id": "JohsseYXswJR"
      },
      "source": [
        "# Заменим все NaN-ы на 0\n",
        "yur_nachisleniya_prom_ee_df = yur_nachisleniya_prom_ee_df.fillna(0)"
      ],
      "execution_count": null,
      "outputs": []
    },
    {
      "cell_type": "code",
      "metadata": {
        "colab": {
          "base_uri": "https://localhost:8080/",
          "height": 380
        },
        "id": "UOhcj3x-tEpz",
        "outputId": "a7f6fafc-bc8c-40d4-d084-923a20f3c6a7"
      },
      "source": [
        "# Проверим, что NaN-ы исчезли\n",
        "resumetable(yur_nachisleniya_prom_ee_df)"
      ],
      "execution_count": null,
      "outputs": [
        {
          "output_type": "stream",
          "name": "stdout",
          "text": [
            "Dataset Shape: (4131588, 10)\n"
          ]
        },
        {
          "output_type": "execute_result",
          "data": {
            "text/html": [
              "<div>\n",
              "<style scoped>\n",
              "    .dataframe tbody tr th:only-of-type {\n",
              "        vertical-align: middle;\n",
              "    }\n",
              "\n",
              "    .dataframe tbody tr th {\n",
              "        vertical-align: top;\n",
              "    }\n",
              "\n",
              "    .dataframe thead th {\n",
              "        text-align: right;\n",
              "    }\n",
              "</style>\n",
              "<table border=\"1\" class=\"dataframe\">\n",
              "  <thead>\n",
              "    <tr style=\"text-align: right;\">\n",
              "      <th></th>\n",
              "      <th>Name</th>\n",
              "      <th>dtypes</th>\n",
              "      <th>Missing</th>\n",
              "      <th>Uniques</th>\n",
              "      <th>First Value</th>\n",
              "    </tr>\n",
              "  </thead>\n",
              "  <tbody>\n",
              "    <tr>\n",
              "      <th>0</th>\n",
              "      <td>month_year</td>\n",
              "      <td>float64</td>\n",
              "      <td>0</td>\n",
              "      <td>25</td>\n",
              "      <td>2021.04</td>\n",
              "    </tr>\n",
              "    <tr>\n",
              "      <th>1</th>\n",
              "      <td>id</td>\n",
              "      <td>int64</td>\n",
              "      <td>0</td>\n",
              "      <td>160979</td>\n",
              "      <td>30000375</td>\n",
              "    </tr>\n",
              "    <tr>\n",
              "      <th>2</th>\n",
              "      <td>price_category</td>\n",
              "      <td>object</td>\n",
              "      <td>0</td>\n",
              "      <td>7</td>\n",
              "      <td>Первая ценовая категория</td>\n",
              "    </tr>\n",
              "    <tr>\n",
              "      <th>3</th>\n",
              "      <td>useful_vacation_kVt</td>\n",
              "      <td>int64</td>\n",
              "      <td>0</td>\n",
              "      <td>233066</td>\n",
              "      <td>27</td>\n",
              "    </tr>\n",
              "    <tr>\n",
              "      <th>4</th>\n",
              "      <td>useful_vacation_with_nds_rub</td>\n",
              "      <td>float64</td>\n",
              "      <td>0</td>\n",
              "      <td>1852468</td>\n",
              "      <td>108.27</td>\n",
              "    </tr>\n",
              "    <tr>\n",
              "      <th>5</th>\n",
              "      <td>charged_by_acts_ex_usage_with_nds_rub</td>\n",
              "      <td>float64</td>\n",
              "      <td>0</td>\n",
              "      <td>693</td>\n",
              "      <td>0</td>\n",
              "    </tr>\n",
              "    <tr>\n",
              "      <th>6</th>\n",
              "      <td>product_type</td>\n",
              "      <td>object</td>\n",
              "      <td>0</td>\n",
              "      <td>2</td>\n",
              "      <td>Электроэнергия</td>\n",
              "    </tr>\n",
              "    <tr>\n",
              "      <th>7</th>\n",
              "      <td>power_range</td>\n",
              "      <td>object</td>\n",
              "      <td>0</td>\n",
              "      <td>6</td>\n",
              "      <td>Менее 150 кВт</td>\n",
              "    </tr>\n",
              "    <tr>\n",
              "      <th>8</th>\n",
              "      <td>calc_and_charging_algorithm</td>\n",
              "      <td>object</td>\n",
              "      <td>0</td>\n",
              "      <td>8</td>\n",
              "      <td>По среднему</td>\n",
              "    </tr>\n",
              "    <tr>\n",
              "      <th>9</th>\n",
              "      <td>prom_charging_type</td>\n",
              "      <td>object</td>\n",
              "      <td>0</td>\n",
              "      <td>10</td>\n",
              "      <td>полезный отпуск</td>\n",
              "    </tr>\n",
              "  </tbody>\n",
              "</table>\n",
              "</div>"
            ],
            "text/plain": [
              "                                    Name  ...               First Value\n",
              "0                             month_year  ...                   2021.04\n",
              "1                                     id  ...                  30000375\n",
              "2                         price_category  ...  Первая ценовая категория\n",
              "3                    useful_vacation_kVt  ...                        27\n",
              "4           useful_vacation_with_nds_rub  ...                    108.27\n",
              "5  charged_by_acts_ex_usage_with_nds_rub  ...                         0\n",
              "6                           product_type  ...            Электроэнергия\n",
              "7                            power_range  ...             Менее 150 кВт\n",
              "8            calc_and_charging_algorithm  ...               По среднему\n",
              "9                     prom_charging_type  ...           полезный отпуск\n",
              "\n",
              "[10 rows x 5 columns]"
            ]
          },
          "metadata": {},
          "execution_count": 9
        }
      ]
    },
    {
      "cell_type": "code",
      "metadata": {
        "colab": {
          "base_uri": "https://localhost:8080/",
          "height": 206
        },
        "id": "iquYncMv0TxX",
        "outputId": "c235a85f-c5f8-4835-d1ee-3b166945642b"
      },
      "source": [
        "# Выведем таблицу корреляции\n",
        "corr_1 = yur_nachisleniya_prom_ee_df.corr()\n",
        "corr_1.head()"
      ],
      "execution_count": null,
      "outputs": [
        {
          "output_type": "execute_result",
          "data": {
            "text/html": [
              "<div>\n",
              "<style scoped>\n",
              "    .dataframe tbody tr th:only-of-type {\n",
              "        vertical-align: middle;\n",
              "    }\n",
              "\n",
              "    .dataframe tbody tr th {\n",
              "        vertical-align: top;\n",
              "    }\n",
              "\n",
              "    .dataframe thead th {\n",
              "        text-align: right;\n",
              "    }\n",
              "</style>\n",
              "<table border=\"1\" class=\"dataframe\">\n",
              "  <thead>\n",
              "    <tr style=\"text-align: right;\">\n",
              "      <th></th>\n",
              "      <th>month_year</th>\n",
              "      <th>id</th>\n",
              "      <th>useful_vacation_kVt</th>\n",
              "      <th>useful_vacation_with_nds_rub</th>\n",
              "      <th>charged_by_acts_ex_usage_with_nds_rub</th>\n",
              "    </tr>\n",
              "  </thead>\n",
              "  <tbody>\n",
              "    <tr>\n",
              "      <th>month_year</th>\n",
              "      <td>1.000000</td>\n",
              "      <td>0.001897</td>\n",
              "      <td>-0.001026</td>\n",
              "      <td>0.000266</td>\n",
              "      <td>-0.001024</td>\n",
              "    </tr>\n",
              "    <tr>\n",
              "      <th>id</th>\n",
              "      <td>0.001897</td>\n",
              "      <td>1.000000</td>\n",
              "      <td>-0.015899</td>\n",
              "      <td>-0.020990</td>\n",
              "      <td>0.000408</td>\n",
              "    </tr>\n",
              "    <tr>\n",
              "      <th>useful_vacation_kVt</th>\n",
              "      <td>-0.001026</td>\n",
              "      <td>-0.015899</td>\n",
              "      <td>1.000000</td>\n",
              "      <td>0.792755</td>\n",
              "      <td>0.006209</td>\n",
              "    </tr>\n",
              "    <tr>\n",
              "      <th>useful_vacation_with_nds_rub</th>\n",
              "      <td>0.000266</td>\n",
              "      <td>-0.020990</td>\n",
              "      <td>0.792755</td>\n",
              "      <td>1.000000</td>\n",
              "      <td>0.007503</td>\n",
              "    </tr>\n",
              "    <tr>\n",
              "      <th>charged_by_acts_ex_usage_with_nds_rub</th>\n",
              "      <td>-0.001024</td>\n",
              "      <td>0.000408</td>\n",
              "      <td>0.006209</td>\n",
              "      <td>0.007503</td>\n",
              "      <td>1.000000</td>\n",
              "    </tr>\n",
              "  </tbody>\n",
              "</table>\n",
              "</div>"
            ],
            "text/plain": [
              "                                       month_year  ...  charged_by_acts_ex_usage_with_nds_rub\n",
              "month_year                               1.000000  ...                              -0.001024\n",
              "id                                       0.001897  ...                               0.000408\n",
              "useful_vacation_kVt                     -0.001026  ...                               0.006209\n",
              "useful_vacation_with_nds_rub             0.000266  ...                               0.007503\n",
              "charged_by_acts_ex_usage_with_nds_rub   -0.001024  ...                               1.000000\n",
              "\n",
              "[5 rows x 5 columns]"
            ]
          },
          "metadata": {},
          "execution_count": 10
        }
      ]
    },
    {
      "cell_type": "code",
      "metadata": {
        "colab": {
          "base_uri": "https://localhost:8080/",
          "height": 574
        },
        "id": "ABYYlBab0lX6",
        "outputId": "33905666-5c98-4a60-8afd-dd926a7e889b"
      },
      "source": [
        "# Визуализируем таблицу корреляции\n",
        "plt.figure(figsize=(7,6))\n",
        "sns.heatmap(corr_1, cmap=sns.color_palette(\"RdBu_r\", 1000), vmin=-1, center=0, annot=True) \n",
        "plt.show()"
      ],
      "execution_count": null,
      "outputs": [
        {
          "output_type": "display_data",
          "data": {
            "image/png": "[encoded data removed]",
            "text/plain": [
              "<Figure size 504x432 with 2 Axes>"
            ]
          },
          "metadata": {
            "needs_background": "light"
          }
        }
      ]
    },
    {
      "cell_type": "code",
      "metadata": {
        "colab": {
          "base_uri": "https://localhost:8080/"
        },
        "id": "IddAmhs_IgOb",
        "outputId": "66237832-dbb3-40b1-e277-66fc436e19f8"
      },
      "source": [
        "# Проведем количественный анализ по признаку prom_charging_type\n",
        "yur_nachisleniya_prom_ee_df['prom_charging_type'].value_counts()"
      ],
      "execution_count": null,
      "outputs": [
        {
          "output_type": "execute_result",
          "data": {
            "text/plain": [
              "полезный отпуск                   3979833\n",
              "мощность                           145700\n",
              "корр-ка полезного отпуска            4597\n",
              "добор/возврат по мощности             741\n",
              "плата за э/э по юр. акту              372\n",
              "корр-ка по юр. акту                   291\n",
              "кор. мощн. по акту неуч. потр.         27\n",
              "добор/возврат мощности 1               17\n",
              "мощность по акту о неуч. потр.          9\n",
              "добор/возврат мощности 2                1\n",
              "Name: prom_charging_type, dtype: int64"
            ]
          },
          "metadata": {},
          "execution_count": 23
        }
      ]
    },
    {
      "cell_type": "code",
      "metadata": {
        "colab": {
          "base_uri": "https://localhost:8080/"
        },
        "id": "Ras11BEfKR8F",
        "outputId": "8077982d-382a-4710-a426-30aa1d5369b8"
      },
      "source": [
        "# Проведем количественный анализ по признаку calc_and_charging_algorithm\n",
        "yur_nachisleniya_prom_ee_df['calc_and_charging_algorithm'].value_counts()"
      ],
      "execution_count": null,
      "outputs": [
        {
          "output_type": "execute_result",
          "data": {
            "text/plain": [
              "по показаниям                    3830650\n",
              "не производится                   151751\n",
              "по факту прошлого месяца          118498\n",
              "По среднему                        26213\n",
              "по максимальной мощности            4420\n",
              "по интегральным данным                54\n",
              "% от начисления пред. периода          1\n",
              "По нормативу                           1\n",
              "Name: calc_and_charging_algorithm, dtype: int64"
            ]
          },
          "metadata": {},
          "execution_count": 24
        }
      ]
    },
    {
      "cell_type": "code",
      "metadata": {
        "colab": {
          "base_uri": "https://localhost:8080/"
        },
        "id": "jAwzdkgSKkEk",
        "outputId": "42bcf826-be3e-4219-c8f2-2cb71df96173"
      },
      "source": [
        "# Проведем количественный анализ по признаку power_range\t\n",
        "yur_nachisleniya_prom_ee_df['power_range'].value_counts()"
      ],
      "execution_count": null,
      "outputs": [
        {
          "output_type": "execute_result",
          "data": {
            "text/plain": [
              "Менее 150 кВт          3109582\n",
              "От 150 до 670 кВт       722854\n",
              "От 670 кВт до 10МВт     284317\n",
              "Свыше 10МВт              13436\n",
              "не определено             1288\n",
              "0                          111\n",
              "Name: power_range, dtype: int64"
            ]
          },
          "metadata": {},
          "execution_count": 25
        }
      ]
    },
    {
      "cell_type": "code",
      "metadata": {
        "colab": {
          "base_uri": "https://localhost:8080/"
        },
        "id": "vEOYtT2ALCYr",
        "outputId": "223eb372-c205-439c-f91c-a74a22c3b1af"
      },
      "source": [
        "# Проведем количественный анализ по признаку price_category\t\n",
        "yur_nachisleniya_prom_ee_df['price_category'].value_counts()"
      ],
      "execution_count": null,
      "outputs": [
        {
          "output_type": "execute_result",
          "data": {
            "text/plain": [
              "Первая ценовая категория       3503093\n",
              "Вторая ценовая категория        330528\n",
              "Третья ценовая категория        216693\n",
              "Четвертая ценовая категория      76402\n",
              "Шестая ценовая категория          4514\n",
              "Пятая ценовая категория            247\n",
              "Не определено                      111\n",
              "Name: price_category, dtype: int64"
            ]
          },
          "metadata": {},
          "execution_count": 26
        }
      ]
    },
    {
      "cell_type": "code",
      "metadata": {
        "colab": {
          "base_uri": "https://localhost:8080/"
        },
        "id": "8knPzLPULWMw",
        "outputId": "f3c8c287-c64e-4dfa-f10d-e6e066594043"
      },
      "source": [
        "# Проведем количественный анализ по признаку id\t\n",
        "yur_nachisleniya_prom_ee_df['id'].value_counts()"
      ],
      "execution_count": null,
      "outputs": [
        {
          "output_type": "execute_result",
          "data": {
            "text/plain": [
              "31201842     408\n",
              "105242103    370\n",
              "122466246    348\n",
              "34694130     317\n",
              "44310276     304\n",
              "            ... \n",
              "243448092      1\n",
              "176651304      1\n",
              "30244200       1\n",
              "241167570      1\n",
              "260831499      1\n",
              "Name: id, Length: 160979, dtype: int64"
            ]
          },
          "metadata": {},
          "execution_count": 27
        }
      ]
    },
    {
      "cell_type": "code",
      "metadata": {
        "colab": {
          "base_uri": "https://localhost:8080/"
        },
        "id": "4eSx3y1VL57v",
        "outputId": "4bc54086-1b7e-4b56-98df-20a6e5fc6553"
      },
      "source": [
        "# Проведем количественный анализ по признаку month_year\t\n",
        "yur_nachisleniya_prom_ee_df['month_year'].value_counts()"
      ],
      "execution_count": null,
      "outputs": [
        {
          "output_type": "execute_result",
          "data": {
            "text/plain": [
              "2021.09    180735\n",
              "2021.08    179372\n",
              "2021.07    177753\n",
              "2021.06    176048\n",
              "2021.05    174352\n",
              "2021.04    173197\n",
              "2021.03    171561\n",
              "2021.02    170014\n",
              "2021.01    168529\n",
              "2020.12    168039\n",
              "2020.11    166136\n",
              "2020.10    164889\n",
              "2020.09    163586\n",
              "2020.08    162651\n",
              "2020.07    161689\n",
              "2020.06    160964\n",
              "2020.05    160294\n",
              "2020.04    159873\n",
              "2020.03    159628\n",
              "2020.02    158570\n",
              "2020.01    156997\n",
              "2019.12    156245\n",
              "2019.11    154655\n",
              "2019.10    153438\n",
              "2019.09    152373\n",
              "Name: month_year, dtype: int64"
            ]
          },
          "metadata": {},
          "execution_count": 28
        }
      ]
    },
    {
      "cell_type": "code",
      "metadata": {
        "colab": {
          "base_uri": "https://localhost:8080/"
        },
        "id": "dSMdgJzuMN8x",
        "outputId": "6d6feefa-1e5e-4129-87f2-539231a6651e"
      },
      "source": [
        "# Проведем количественный анализ по признаку useful_vacation_kVt\t\t\n",
        "yur_nachisleniya_prom_ee_df['useful_vacation_kVt'].value_counts()"
      ],
      "execution_count": null,
      "outputs": [
        {
          "output_type": "execute_result",
          "data": {
            "text/plain": [
              "0         437394\n",
              "1          14183\n",
              "100         9706\n",
              "90          9080\n",
              "200         7842\n",
              "           ...  \n",
              "146394         1\n",
              "134108         1\n",
              "250855         1\n",
              "244714         1\n",
              "125888         1\n",
              "Name: useful_vacation_kVt, Length: 233066, dtype: int64"
            ]
          },
          "metadata": {},
          "execution_count": 29
        }
      ]
    },
    {
      "cell_type": "code",
      "metadata": {
        "colab": {
          "base_uri": "https://localhost:8080/"
        },
        "id": "tLFtisBKMcSP",
        "outputId": "2f5e51c6-6837-4b38-98c0-b6c34d905135"
      },
      "source": [
        "# Проведем количественный анализ по признаку useful_vacation_with_nds_rub\t\t\t\n",
        "yur_nachisleniya_prom_ee_df['useful_vacation_with_nds_rub'].value_counts()"
      ],
      "execution_count": null,
      "outputs": [
        {
          "output_type": "execute_result",
          "data": {
            "text/plain": [
              "0.00         290823\n",
              "438.30         2534\n",
              "418.50         2111\n",
              "876.60         1689\n",
              "837.00         1294\n",
              "              ...  \n",
              "296796.44         1\n",
              "22199.27          1\n",
              "10205.37          1\n",
              "448723.30         1\n",
              "32335.79          1\n",
              "Name: useful_vacation_with_nds_rub, Length: 1852468, dtype: int64"
            ]
          },
          "metadata": {},
          "execution_count": 31
        }
      ]
    },
    {
      "cell_type": "code",
      "metadata": {
        "id": "sGI2iwYzXSpY"
      },
      "source": [
        "yur_nachisleniya_oplati_dz_kz_2019_2021_df = pd.read_csv('/content/drive/MyDrive/DS ninjas/ch.xackaton_fuv2_yur_nachisleniya_oplati_dz_kz_2019_2021.csv') # Формируем df по таблице №8"
      ],
      "execution_count": null,
      "outputs": []
    },
    {
      "cell_type": "code",
      "metadata": {
        "colab": {
          "base_uri": "https://localhost:8080/",
          "height": 241
        },
        "id": "SQm7BfDeX4Jn",
        "outputId": "40327eda-8eb3-4463-be31-b16e741b820b"
      },
      "source": [
        "yur_nachisleniya_oplati_dz_kz_2019_2021_df.head()"
      ],
      "execution_count": null,
      "outputs": [
        {
          "output_type": "execute_result",
          "data": {
            "text/html": [
              "<div>\n",
              "<style scoped>\n",
              "    .dataframe tbody tr th:only-of-type {\n",
              "        vertical-align: middle;\n",
              "    }\n",
              "\n",
              "    .dataframe tbody tr th {\n",
              "        vertical-align: top;\n",
              "    }\n",
              "\n",
              "    .dataframe thead th {\n",
              "        text-align: right;\n",
              "    }\n",
              "</style>\n",
              "<table border=\"1\" class=\"dataframe\">\n",
              "  <thead>\n",
              "    <tr style=\"text-align: right;\">\n",
              "      <th></th>\n",
              "      <th>month_year</th>\n",
              "      <th>id</th>\n",
              "      <th>contract_kind</th>\n",
              "      <th>contract_type</th>\n",
              "      <th>msfo_group_name</th>\n",
              "      <th>useful_vacation_kVth</th>\n",
              "      <th>useful_vacation_total_rub</th>\n",
              "      <th>charge_cost_total_rub</th>\n",
              "      <th>realization_total_rub</th>\n",
              "      <th>dz_for_period_end_with_nds_rub</th>\n",
              "      <th>kz_for_period_end_with_nds_rub</th>\n",
              "      <th>total_kz_for_period_end_nds_rub</th>\n",
              "    </tr>\n",
              "  </thead>\n",
              "  <tbody>\n",
              "    <tr>\n",
              "      <th>0</th>\n",
              "      <td>2020.01</td>\n",
              "      <td>30000375</td>\n",
              "      <td>одноставочный</td>\n",
              "      <td>Государственный контракт</td>\n",
              "      <td>Федеральный бюджет</td>\n",
              "      <td>69609</td>\n",
              "      <td>389254.22</td>\n",
              "      <td>214086.60</td>\n",
              "      <td>520339.66</td>\n",
              "      <td>83001.16</td>\n",
              "      <td>0</td>\n",
              "      <td>0.00</td>\n",
              "    </tr>\n",
              "    <tr>\n",
              "      <th>1</th>\n",
              "      <td>2020.01</td>\n",
              "      <td>30000531</td>\n",
              "      <td>одноставочный</td>\n",
              "      <td>Договор энергоснабжения</td>\n",
              "      <td>Сельское  хозяйство</td>\n",
              "      <td>1907</td>\n",
              "      <td>10640.12</td>\n",
              "      <td>1405.59</td>\n",
              "      <td>12045.71</td>\n",
              "      <td>0</td>\n",
              "      <td>1843.87</td>\n",
              "      <td>1843.87</td>\n",
              "    </tr>\n",
              "    <tr>\n",
              "      <th>2</th>\n",
              "      <td>2020.01</td>\n",
              "      <td>30000807</td>\n",
              "      <td>двуставочный</td>\n",
              "      <td>Договор энергоснабжения с ЭСО</td>\n",
              "      <td>Энергосбытовые компании (ЭСК, ГП 2, ОПП)</td>\n",
              "      <td>1638521</td>\n",
              "      <td>10549541</td>\n",
              "      <td>2863794.00</td>\n",
              "      <td>10916151.00</td>\n",
              "      <td>2497184.2</td>\n",
              "      <td>0</td>\n",
              "      <td>0.00</td>\n",
              "    </tr>\n",
              "    <tr>\n",
              "      <th>3</th>\n",
              "      <td>2020.01</td>\n",
              "      <td>30000831</td>\n",
              "      <td>одноставочный</td>\n",
              "      <td>Договор энергоснабжения</td>\n",
              "      <td>Промышленность</td>\n",
              "      <td>14293</td>\n",
              "      <td>86519.03</td>\n",
              "      <td>0.00</td>\n",
              "      <td>0.00</td>\n",
              "      <td>99565.5</td>\n",
              "      <td>\\N</td>\n",
              "      <td>0.00</td>\n",
              "    </tr>\n",
              "    <tr>\n",
              "      <th>4</th>\n",
              "      <td>2020.01</td>\n",
              "      <td>30000891</td>\n",
              "      <td>одноставочный</td>\n",
              "      <td>Договор энергоснабжения</td>\n",
              "      <td>Прочие потребители</td>\n",
              "      <td>18386</td>\n",
              "      <td>102584.83</td>\n",
              "      <td>16338.12</td>\n",
              "      <td>94490.23</td>\n",
              "      <td>24432.72</td>\n",
              "      <td>0</td>\n",
              "      <td>0.00</td>\n",
              "    </tr>\n",
              "  </tbody>\n",
              "</table>\n",
              "</div>"
            ],
            "text/plain": [
              "   month_year  ...  total_kz_for_period_end_nds_rub\n",
              "0     2020.01  ...                             0.00\n",
              "1     2020.01  ...                          1843.87\n",
              "2     2020.01  ...                             0.00\n",
              "3     2020.01  ...                             0.00\n",
              "4     2020.01  ...                             0.00\n",
              "\n",
              "[5 rows x 12 columns]"
            ]
          },
          "metadata": {},
          "execution_count": 13
        }
      ]
    },
    {
      "cell_type": "code",
      "metadata": {
        "colab": {
          "base_uri": "https://localhost:8080/",
          "height": 442
        },
        "id": "J_B_OV1gHSDi",
        "outputId": "db58cdab-1106-4d57-be7b-2b07fbcf3c5b"
      },
      "source": [
        "resumetable(yur_nachisleniya_oplati_dz_kz_2019_2021_df)"
      ],
      "execution_count": null,
      "outputs": [
        {
          "output_type": "stream",
          "name": "stdout",
          "text": [
            "Dataset Shape: (3697793, 12)\n"
          ]
        },
        {
          "output_type": "execute_result",
          "data": {
            "text/html": [
              "<div>\n",
              "<style scoped>\n",
              "    .dataframe tbody tr th:only-of-type {\n",
              "        vertical-align: middle;\n",
              "    }\n",
              "\n",
              "    .dataframe tbody tr th {\n",
              "        vertical-align: top;\n",
              "    }\n",
              "\n",
              "    .dataframe thead th {\n",
              "        text-align: right;\n",
              "    }\n",
              "</style>\n",
              "<table border=\"1\" class=\"dataframe\">\n",
              "  <thead>\n",
              "    <tr style=\"text-align: right;\">\n",
              "      <th></th>\n",
              "      <th>Name</th>\n",
              "      <th>dtypes</th>\n",
              "      <th>Missing</th>\n",
              "      <th>Uniques</th>\n",
              "      <th>First Value</th>\n",
              "    </tr>\n",
              "  </thead>\n",
              "  <tbody>\n",
              "    <tr>\n",
              "      <th>0</th>\n",
              "      <td>month_year</td>\n",
              "      <td>float64</td>\n",
              "      <td>0</td>\n",
              "      <td>25</td>\n",
              "      <td>2020.01</td>\n",
              "    </tr>\n",
              "    <tr>\n",
              "      <th>1</th>\n",
              "      <td>id</td>\n",
              "      <td>int64</td>\n",
              "      <td>0</td>\n",
              "      <td>161812</td>\n",
              "      <td>30000375</td>\n",
              "    </tr>\n",
              "    <tr>\n",
              "      <th>2</th>\n",
              "      <td>contract_kind</td>\n",
              "      <td>object</td>\n",
              "      <td>0</td>\n",
              "      <td>3</td>\n",
              "      <td>одноставочный</td>\n",
              "    </tr>\n",
              "    <tr>\n",
              "      <th>3</th>\n",
              "      <td>contract_type</td>\n",
              "      <td>object</td>\n",
              "      <td>0</td>\n",
              "      <td>19</td>\n",
              "      <td>Государственный контракт</td>\n",
              "    </tr>\n",
              "    <tr>\n",
              "      <th>4</th>\n",
              "      <td>msfo_group_name</td>\n",
              "      <td>object</td>\n",
              "      <td>0</td>\n",
              "      <td>12</td>\n",
              "      <td>Федеральный бюджет</td>\n",
              "    </tr>\n",
              "    <tr>\n",
              "      <th>5</th>\n",
              "      <td>useful_vacation_kVth</td>\n",
              "      <td>object</td>\n",
              "      <td>0</td>\n",
              "      <td>226068</td>\n",
              "      <td>69609</td>\n",
              "    </tr>\n",
              "    <tr>\n",
              "      <th>6</th>\n",
              "      <td>useful_vacation_total_rub</td>\n",
              "      <td>object</td>\n",
              "      <td>0</td>\n",
              "      <td>1636693</td>\n",
              "      <td>389254.22</td>\n",
              "    </tr>\n",
              "    <tr>\n",
              "      <th>7</th>\n",
              "      <td>charge_cost_total_rub</td>\n",
              "      <td>float64</td>\n",
              "      <td>0</td>\n",
              "      <td>1598280</td>\n",
              "      <td>214087</td>\n",
              "    </tr>\n",
              "    <tr>\n",
              "      <th>8</th>\n",
              "      <td>realization_total_rub</td>\n",
              "      <td>float64</td>\n",
              "      <td>0</td>\n",
              "      <td>2189887</td>\n",
              "      <td>520340</td>\n",
              "    </tr>\n",
              "    <tr>\n",
              "      <th>9</th>\n",
              "      <td>dz_for_period_end_with_nds_rub</td>\n",
              "      <td>object</td>\n",
              "      <td>0</td>\n",
              "      <td>1465917</td>\n",
              "      <td>83001.16</td>\n",
              "    </tr>\n",
              "    <tr>\n",
              "      <th>10</th>\n",
              "      <td>kz_for_period_end_with_nds_rub</td>\n",
              "      <td>object</td>\n",
              "      <td>0</td>\n",
              "      <td>1030132</td>\n",
              "      <td>0</td>\n",
              "    </tr>\n",
              "    <tr>\n",
              "      <th>11</th>\n",
              "      <td>total_kz_for_period_end_nds_rub</td>\n",
              "      <td>float64</td>\n",
              "      <td>0</td>\n",
              "      <td>1030130</td>\n",
              "      <td>0</td>\n",
              "    </tr>\n",
              "  </tbody>\n",
              "</table>\n",
              "</div>"
            ],
            "text/plain": [
              "                               Name   dtypes  ...  Uniques               First Value\n",
              "0                        month_year  float64  ...       25                   2020.01\n",
              "1                                id    int64  ...   161812                  30000375\n",
              "2                     contract_kind   object  ...        3             одноставочный\n",
              "3                     contract_type   object  ...       19  Государственный контракт\n",
              "4                   msfo_group_name   object  ...       12        Федеральный бюджет\n",
              "5              useful_vacation_kVth   object  ...   226068                     69609\n",
              "6         useful_vacation_total_rub   object  ...  1636693                 389254.22\n",
              "7             charge_cost_total_rub  float64  ...  1598280                    214087\n",
              "8             realization_total_rub  float64  ...  2189887                    520340\n",
              "9    dz_for_period_end_with_nds_rub   object  ...  1465917                  83001.16\n",
              "10   kz_for_period_end_with_nds_rub   object  ...  1030132                         0\n",
              "11  total_kz_for_period_end_nds_rub  float64  ...  1030130                         0\n",
              "\n",
              "[12 rows x 5 columns]"
            ]
          },
          "metadata": {},
          "execution_count": 14
        }
      ]
    },
    {
      "cell_type": "code",
      "metadata": {
        "colab": {
          "base_uri": "https://localhost:8080/",
          "height": 206
        },
        "id": "LyZ4X8ZE1nEj",
        "outputId": "78a2f22c-640a-47bd-9940-293b5d670e95"
      },
      "source": [
        "# Выведем таблицу корреляции\n",
        "corr_2 = yur_nachisleniya_oplati_dz_kz_2019_2021_df.corr()\n",
        "corr_2.head()"
      ],
      "execution_count": null,
      "outputs": [
        {
          "output_type": "execute_result",
          "data": {
            "text/html": [
              "<div>\n",
              "<style scoped>\n",
              "    .dataframe tbody tr th:only-of-type {\n",
              "        vertical-align: middle;\n",
              "    }\n",
              "\n",
              "    .dataframe tbody tr th {\n",
              "        vertical-align: top;\n",
              "    }\n",
              "\n",
              "    .dataframe thead th {\n",
              "        text-align: right;\n",
              "    }\n",
              "</style>\n",
              "<table border=\"1\" class=\"dataframe\">\n",
              "  <thead>\n",
              "    <tr style=\"text-align: right;\">\n",
              "      <th></th>\n",
              "      <th>month_year</th>\n",
              "      <th>id</th>\n",
              "      <th>charge_cost_total_rub</th>\n",
              "      <th>realization_total_rub</th>\n",
              "      <th>total_kz_for_period_end_nds_rub</th>\n",
              "    </tr>\n",
              "  </thead>\n",
              "  <tbody>\n",
              "    <tr>\n",
              "      <th>month_year</th>\n",
              "      <td>1.000000</td>\n",
              "      <td>0.001263</td>\n",
              "      <td>-0.000291</td>\n",
              "      <td>0.000038</td>\n",
              "      <td>0.001326</td>\n",
              "    </tr>\n",
              "    <tr>\n",
              "      <th>id</th>\n",
              "      <td>0.001263</td>\n",
              "      <td>1.000000</td>\n",
              "      <td>-0.010577</td>\n",
              "      <td>-0.014681</td>\n",
              "      <td>-0.007592</td>\n",
              "    </tr>\n",
              "    <tr>\n",
              "      <th>charge_cost_total_rub</th>\n",
              "      <td>-0.000291</td>\n",
              "      <td>-0.010577</td>\n",
              "      <td>1.000000</td>\n",
              "      <td>0.864146</td>\n",
              "      <td>0.120784</td>\n",
              "    </tr>\n",
              "    <tr>\n",
              "      <th>realization_total_rub</th>\n",
              "      <td>0.000038</td>\n",
              "      <td>-0.014681</td>\n",
              "      <td>0.864146</td>\n",
              "      <td>1.000000</td>\n",
              "      <td>0.220582</td>\n",
              "    </tr>\n",
              "    <tr>\n",
              "      <th>total_kz_for_period_end_nds_rub</th>\n",
              "      <td>0.001326</td>\n",
              "      <td>-0.007592</td>\n",
              "      <td>0.120784</td>\n",
              "      <td>0.220582</td>\n",
              "      <td>1.000000</td>\n",
              "    </tr>\n",
              "  </tbody>\n",
              "</table>\n",
              "</div>"
            ],
            "text/plain": [
              "                                 month_year  ...  total_kz_for_period_end_nds_rub\n",
              "month_year                         1.000000  ...                         0.001326\n",
              "id                                 0.001263  ...                        -0.007592\n",
              "charge_cost_total_rub             -0.000291  ...                         0.120784\n",
              "realization_total_rub              0.000038  ...                         0.220582\n",
              "total_kz_for_period_end_nds_rub    0.001326  ...                         1.000000\n",
              "\n",
              "[5 rows x 5 columns]"
            ]
          },
          "metadata": {},
          "execution_count": 15
        }
      ]
    },
    {
      "cell_type": "code",
      "metadata": {
        "colab": {
          "base_uri": "https://localhost:8080/",
          "height": 530
        },
        "id": "zqu_48cb1xzW",
        "outputId": "3ba43580-d486-44e2-fb69-766e457378b1"
      },
      "source": [
        "# Визуализируем таблицу корреляции\n",
        "plt.figure(figsize=(7,6))\n",
        "sns.heatmap(corr_2, cmap=sns.color_palette(\"RdBu_r\", 1000), vmin=-1, center=0, annot=True) \n",
        "plt.show()"
      ],
      "execution_count": null,
      "outputs": [
        {
          "output_type": "display_data",
          "data": {
            "image/png": "[encoded data removed]",
            "text/plain": [
              "<Figure size 504x432 with 2 Axes>"
            ]
          },
          "metadata": {
            "needs_background": "light"
          }
        }
      ]
    },
    {
      "cell_type": "code",
      "metadata": {
        "colab": {
          "base_uri": "https://localhost:8080/"
        },
        "id": "SdH4YAfDNNR0",
        "outputId": "b825702d-d667-4b0f-b955-ade7e8155855"
      },
      "source": [
        "# Проведем количественный анализ по признаку month_year\t\t\t\t\n",
        "yur_nachisleniya_oplati_dz_kz_2019_2021_df['month_year'].value_counts()"
      ],
      "execution_count": null,
      "outputs": [
        {
          "output_type": "execute_result",
          "data": {
            "text/plain": [
              "2021.09    161779\n",
              "2021.08    160501\n",
              "2021.07    159149\n",
              "2021.06    157859\n",
              "2021.05    156400\n",
              "2021.04    155257\n",
              "2021.03    153740\n",
              "2021.02    152276\n",
              "2021.01    151222\n",
              "2020.12    150290\n",
              "2020.11    148947\n",
              "2020.10    147891\n",
              "2020.09    146745\n",
              "2020.08    145814\n",
              "2020.07    144925\n",
              "2020.06    144237\n",
              "2020.05    143733\n",
              "2020.04    143328\n",
              "2020.03    142868\n",
              "2020.02    141926\n",
              "2020.01    140824\n",
              "2019.12    139531\n",
              "2019.11    137201\n",
              "2019.10    136160\n",
              "2019.09    135190\n",
              "Name: month_year, dtype: int64"
            ]
          },
          "metadata": {},
          "execution_count": 33
        }
      ]
    },
    {
      "cell_type": "code",
      "metadata": {
        "colab": {
          "base_uri": "https://localhost:8080/"
        },
        "id": "Bzn8lC0GNjWE",
        "outputId": "a0d6986b-b235-4bfe-9336-f02a17fa9b98"
      },
      "source": [
        "# Проведем количественный анализ по признаку id\t\t\t\t\n",
        "yur_nachisleniya_oplati_dz_kz_2019_2021_df['id'].value_counts()"
      ],
      "execution_count": null,
      "outputs": [
        {
          "output_type": "execute_result",
          "data": {
            "text/plain": [
              "114009039    50\n",
              "141005112    50\n",
              "30020931     25\n",
              "116131686    25\n",
              "60246030     25\n",
              "             ..\n",
              "296806395     1\n",
              "296787495     1\n",
              "115481124     1\n",
              "215691918     1\n",
              "296798295     1\n",
              "Name: id, Length: 161812, dtype: int64"
            ]
          },
          "metadata": {},
          "execution_count": 34
        }
      ]
    },
    {
      "cell_type": "code",
      "metadata": {
        "colab": {
          "base_uri": "https://localhost:8080/"
        },
        "id": "GJmovsOjNuFp",
        "outputId": "a4b76220-ed43-4f45-efbd-5e09df93c4a6"
      },
      "source": [
        "# Проведем количественный анализ по признаку contract_kind\t\t\t\t\t\n",
        "yur_nachisleniya_oplati_dz_kz_2019_2021_df['contract_kind'].value_counts()"
      ],
      "execution_count": null,
      "outputs": [
        {
          "output_type": "execute_result",
          "data": {
            "text/plain": [
              "одноставочный      3545712\n",
              "двуставочный        151998\n",
              "(не определено)         83\n",
              "Name: contract_kind, dtype: int64"
            ]
          },
          "metadata": {},
          "execution_count": 36
        }
      ]
    },
    {
      "cell_type": "code",
      "metadata": {
        "colab": {
          "base_uri": "https://localhost:8080/"
        },
        "id": "1ZKhvcMXN4Q9",
        "outputId": "6584e8d7-d117-46e5-e313-894af8432c8e"
      },
      "source": [
        "# Проведем количественный анализ по признаку contract_type\t\t\t\t\t\n",
        "yur_nachisleniya_oplati_dz_kz_2019_2021_df['contract_type'].value_counts()"
      ],
      "execution_count": null,
      "outputs": [
        {
          "output_type": "execute_result",
          "data": {
            "text/plain": [
              "Договор энергоснабжения                                                                         3156092\n",
              "Договор энергоснабжения с ТГ Население                                                           135828\n",
              "Договор энергоснабжения с бюджетным учреждением                                                  118633\n",
              "Государственный контракт                                                                         108306\n",
              "Муниципальный контракт                                                                            86770\n",
              "Договор с ИКУ                                                                                     74922\n",
              "Договор с исполнителем коммунальных услуг и (или) обязанности по содержанию общего имущества       6110\n",
              "Договор энергоснабжения с ЭСО                                                                      3783\n",
              "Договор купли-продажи с ЭСО                                                                        3125\n",
              "Договор энергоснабжения по установленной мощ.                                                      1978\n",
              "Контракт                                                                                            877\n",
              "Договор купли-продажи                                                                               520\n",
              "Срочный дог. энергоснаб. с ТГ Население                                                             406\n",
              "Мун. контракт уст.м                                                                                 125\n",
              "\"ДЭ с ФЛ- владельцем апартаментов\"                                                                   92\n",
              "(Не определено)                                                                                      75\n",
              "Срочный договор энергоснабжения                                                                      75\n",
              "Гражданско-правовой договор                                                                          50\n",
              "Гос. контракт уст.м                                                                                  26\n",
              "Name: contract_type, dtype: int64"
            ]
          },
          "metadata": {},
          "execution_count": 37
        }
      ]
    },
    {
      "cell_type": "code",
      "metadata": {
        "colab": {
          "base_uri": "https://localhost:8080/"
        },
        "id": "IZLzpPfIPP50",
        "outputId": "5f38426e-b73e-41f7-c7e5-aecaa6a3df0f"
      },
      "source": [
        "# Проведем количественный анализ по признаку msfo_group_name\t\t\t\t\t\t\n",
        "yur_nachisleniya_oplati_dz_kz_2019_2021_df['msfo_group_name'].value_counts()"
      ],
      "execution_count": null,
      "outputs": [
        {
          "output_type": "execute_result",
          "data": {
            "text/plain": [
              "Прочие потребители                          3055959\n",
              "Городской/ Местный бюджет                    223610\n",
              "Управляющие организации, ТСЖ, ЖСК,ЖК         185818\n",
              "Федеральный бюджет                            74313\n",
              "Промышленность                                72012\n",
              "Сельское  хозяйство                           36759\n",
              "Областной/ Краевой бюджет                     23636\n",
              "Прочее (котельные, водоканалы и др.)          18824\n",
              "Энергосбытовые компании (ЭСК, ГП 2, ОПП)       6666\n",
              "РЖД                                             187\n",
              "Население (на прямых расчетах)                    7\n",
              "Код МСФО не определен                             2\n",
              "Name: msfo_group_name, dtype: int64"
            ]
          },
          "metadata": {},
          "execution_count": 39
        }
      ]
    },
    {
      "cell_type": "code",
      "metadata": {
        "colab": {
          "base_uri": "https://localhost:8080/"
        },
        "id": "ax6qor2tPa-Q",
        "outputId": "53864e0e-3308-459b-8232-fbc61e5558f6"
      },
      "source": [
        "# Проведем количественный анализ по признаку useful_vacation_kVth\t\t\t\t\t\t\t\n",
        "yur_nachisleniya_oplati_dz_kz_2019_2021_df['useful_vacation_kVth'].value_counts()"
      ],
      "execution_count": null,
      "outputs": [
        {
          "output_type": "execute_result",
          "data": {
            "text/plain": [
              "0          260114\n",
              "\\N          44811\n",
              "1           13577\n",
              "100          9323\n",
              "200          7507\n",
              "            ...  \n",
              "810120          1\n",
              "1160659         1\n",
              "194991          1\n",
              "177783          1\n",
              "1414599         1\n",
              "Name: useful_vacation_kVth, Length: 226068, dtype: int64"
            ]
          },
          "metadata": {},
          "execution_count": 41
        }
      ]
    },
    {
      "cell_type": "code",
      "metadata": {
        "colab": {
          "base_uri": "https://localhost:8080/"
        },
        "id": "PqkVz5MGPofD",
        "outputId": "bde32300-5acc-4337-ee2d-29afb4b830f9"
      },
      "source": [
        "# Проведем количественный анализ по признаку useful_vacation_total_rub\t\t\t\t\t\t\t\t\n",
        "yur_nachisleniya_oplati_dz_kz_2019_2021_df['useful_vacation_total_rub'].value_counts()"
      ],
      "execution_count": null,
      "outputs": [
        {
          "output_type": "execute_result",
          "data": {
            "text/plain": [
              "0            259756\n",
              "\\N            44811\n",
              "6.88            836\n",
              "6.92            659\n",
              "7.37            554\n",
              "              ...  \n",
              "77845.85          1\n",
              "615110.1          1\n",
              "177796.55         1\n",
              "2421402.2         1\n",
              "19781.83          1\n",
              "Name: useful_vacation_total_rub, Length: 1636693, dtype: int64"
            ]
          },
          "metadata": {},
          "execution_count": 43
        }
      ]
    },
    {
      "cell_type": "code",
      "metadata": {
        "colab": {
          "base_uri": "https://localhost:8080/"
        },
        "id": "8PjmLsbUP17r",
        "outputId": "a82988e6-6a64-429c-febc-410f94d80864"
      },
      "source": [
        "# Проведем количественный анализ по признаку charge_cost_total_rub\t\t\t\t\t\t\t\t\n",
        "yur_nachisleniya_oplati_dz_kz_2019_2021_df['charge_cost_total_rub'].value_counts()"
      ],
      "execution_count": null,
      "outputs": [
        {
          "output_type": "execute_result",
          "data": {
            "text/plain": [
              "0.00         1523593\n",
              "10000.00        1101\n",
              "5000.00          941\n",
              "20000.00         811\n",
              "100000.00        661\n",
              "              ...   \n",
              "30391.23           1\n",
              "143137.11          1\n",
              "14306.62           1\n",
              "70066.41           1\n",
              "155919.77          1\n",
              "Name: charge_cost_total_rub, Length: 1598280, dtype: int64"
            ]
          },
          "metadata": {},
          "execution_count": 44
        }
      ]
    },
    {
      "cell_type": "code",
      "metadata": {
        "colab": {
          "base_uri": "https://localhost:8080/"
        },
        "id": "YFendcVUQCwt",
        "outputId": "a9789e56-1450-41ec-ad2b-5bbbce073fd8"
      },
      "source": [
        "# Проведем количественный анализ по признаку realization_total_rub\t\t\t\t\t\t\t\t\n",
        "yur_nachisleniya_oplati_dz_kz_2019_2021_df['realization_total_rub'].value_counts()"
      ],
      "execution_count": null,
      "outputs": [
        {
          "output_type": "execute_result",
          "data": {
            "text/plain": [
              "0.00          400898\n",
              "10000.00        5322\n",
              "5000.00         5274\n",
              "3000.00         3731\n",
              "20000.00        3611\n",
              "               ...  \n",
              "4196.68            1\n",
              "4495638.00         1\n",
              "45245.33           1\n",
              "178055.22          1\n",
              "11411.44           1\n",
              "Name: realization_total_rub, Length: 2189887, dtype: int64"
            ]
          },
          "metadata": {},
          "execution_count": 50
        }
      ]
    },
    {
      "cell_type": "code",
      "metadata": {
        "colab": {
          "base_uri": "https://localhost:8080/"
        },
        "id": "vfLw13bRQlJl",
        "outputId": "83be3055-16d0-48c1-a04e-03ebbad9a53d"
      },
      "source": [
        "# Проведем количественный анализ по признаку dz_for_period_end_with_nds_rub\t\t\t\t\t\t\t\t\n",
        "yur_nachisleniya_oplati_dz_kz_2019_2021_df['dz_for_period_end_with_nds_rub'].value_counts()"
      ],
      "execution_count": null,
      "outputs": [
        {
          "output_type": "execute_result",
          "data": {
            "text/plain": [
              "0            1313342\n",
              "\\N            447094\n",
              "0.01             195\n",
              "1146              82\n",
              "6.4               79\n",
              "              ...   \n",
              "15764.35           1\n",
              "449993.38          1\n",
              "448392.5           1\n",
              "1867.93            1\n",
              "171112.94          1\n",
              "Name: dz_for_period_end_with_nds_rub, Length: 1465917, dtype: int64"
            ]
          },
          "metadata": {},
          "execution_count": 51
        }
      ]
    },
    {
      "cell_type": "code",
      "metadata": {
        "colab": {
          "base_uri": "https://localhost:8080/"
        },
        "id": "uUDwBCbCQ0O-",
        "outputId": "ba380d32-8d4c-4d3a-901d-e7bfd26197db"
      },
      "source": [
        "# Проведем количественный анализ по признаку kz_for_period_end_with_nds_rub\t\t\t\t\t\t\t\t\n",
        "yur_nachisleniya_oplati_dz_kz_2019_2021_df['kz_for_period_end_with_nds_rub'].value_counts()"
      ],
      "execution_count": null,
      "outputs": [
        {
          "output_type": "execute_result",
          "data": {
            "text/plain": [
              "\\N           1257619\n",
              "0             902614\n",
              "10000            473\n",
              "5000             370\n",
              "1000             321\n",
              "              ...   \n",
              "115693.27          1\n",
              "27915.82           1\n",
              "12711.24           1\n",
              "26273.29           1\n",
              "5236.16            1\n",
              "Name: kz_for_period_end_with_nds_rub, Length: 1030132, dtype: int64"
            ]
          },
          "metadata": {},
          "execution_count": 52
        }
      ]
    },
    {
      "cell_type": "code",
      "metadata": {
        "id": "C4r5g28GYBGZ"
      },
      "source": [
        "yur_nachisleniya_i_oplati_avansov_df = pd.read_csv('/content/drive/MyDrive/DS ninjas/ch.xackaton_fuv2_yur_nachisleniya_i_oplati_avansov.csv') # Создадим df из таблицы №9"
      ],
      "execution_count": null,
      "outputs": []
    },
    {
      "cell_type": "code",
      "metadata": {
        "colab": {
          "base_uri": "https://localhost:8080/",
          "height": 206
        },
        "id": "N_auEGrGYpcr",
        "outputId": "b13aee63-4656-464f-c0e6-0346d4d67478"
      },
      "source": [
        "yur_nachisleniya_i_oplati_avansov_df.head()"
      ],
      "execution_count": null,
      "outputs": [
        {
          "output_type": "execute_result",
          "data": {
            "text/html": [
              "<div>\n",
              "<style scoped>\n",
              "    .dataframe tbody tr th:only-of-type {\n",
              "        vertical-align: middle;\n",
              "    }\n",
              "\n",
              "    .dataframe tbody tr th {\n",
              "        vertical-align: top;\n",
              "    }\n",
              "\n",
              "    .dataframe thead th {\n",
              "        text-align: right;\n",
              "    }\n",
              "</style>\n",
              "<table border=\"1\" class=\"dataframe\">\n",
              "  <thead>\n",
              "    <tr style=\"text-align: right;\">\n",
              "      <th></th>\n",
              "      <th>month_year</th>\n",
              "      <th>id</th>\n",
              "      <th>prepayment_percent</th>\n",
              "      <th>prepayments_charged_with_nds_rub</th>\n",
              "      <th>prepayments_paid_with_nds_rub</th>\n",
              "      <th>charge_type_prom</th>\n",
              "    </tr>\n",
              "  </thead>\n",
              "  <tbody>\n",
              "    <tr>\n",
              "      <th>0</th>\n",
              "      <td>2021.03</td>\n",
              "      <td>30000375</td>\n",
              "      <td>30%</td>\n",
              "      <td>86173.07</td>\n",
              "      <td>86173.07</td>\n",
              "      <td>дополнительный аванс 1</td>\n",
              "    </tr>\n",
              "    <tr>\n",
              "      <th>1</th>\n",
              "      <td>2021.03</td>\n",
              "      <td>30000375</td>\n",
              "      <td>40%</td>\n",
              "      <td>114902.81</td>\n",
              "      <td>114902.81</td>\n",
              "      <td>дополнительный аванс 2</td>\n",
              "    </tr>\n",
              "    <tr>\n",
              "      <th>2</th>\n",
              "      <td>2021.03</td>\n",
              "      <td>30000531</td>\n",
              "      <td>30%</td>\n",
              "      <td>5377.86</td>\n",
              "      <td>5377.86</td>\n",
              "      <td>дополнительный аванс 1</td>\n",
              "    </tr>\n",
              "    <tr>\n",
              "      <th>3</th>\n",
              "      <td>2021.03</td>\n",
              "      <td>30000531</td>\n",
              "      <td>40%</td>\n",
              "      <td>7166.44</td>\n",
              "      <td>7166.44</td>\n",
              "      <td>дополнительный аванс 2</td>\n",
              "    </tr>\n",
              "    <tr>\n",
              "      <th>4</th>\n",
              "      <td>2021.03</td>\n",
              "      <td>30000807</td>\n",
              "      <td>30%</td>\n",
              "      <td>274126.44</td>\n",
              "      <td>274126.44</td>\n",
              "      <td>аванс мощности</td>\n",
              "    </tr>\n",
              "  </tbody>\n",
              "</table>\n",
              "</div>"
            ],
            "text/plain": [
              "   month_year        id  ... prepayments_paid_with_nds_rub        charge_type_prom\n",
              "0     2021.03  30000375  ...                      86173.07  дополнительный аванс 1\n",
              "1     2021.03  30000375  ...                     114902.81  дополнительный аванс 2\n",
              "2     2021.03  30000531  ...                       5377.86  дополнительный аванс 1\n",
              "3     2021.03  30000531  ...                       7166.44  дополнительный аванс 2\n",
              "4     2021.03  30000807  ...                     274126.44          аванс мощности\n",
              "\n",
              "[5 rows x 6 columns]"
            ]
          },
          "metadata": {},
          "execution_count": 18
        }
      ]
    },
    {
      "cell_type": "code",
      "metadata": {
        "colab": {
          "base_uri": "https://localhost:8080/",
          "height": 255
        },
        "id": "C87xJoU-riqy",
        "outputId": "ea15a299-d9c2-4bae-958e-f3c1585c8aee"
      },
      "source": [
        "resumetable(yur_nachisleniya_i_oplati_avansov_df)"
      ],
      "execution_count": null,
      "outputs": [
        {
          "output_type": "stream",
          "name": "stdout",
          "text": [
            "Dataset Shape: (5326519, 6)\n"
          ]
        },
        {
          "output_type": "execute_result",
          "data": {
            "text/html": [
              "<div>\n",
              "<style scoped>\n",
              "    .dataframe tbody tr th:only-of-type {\n",
              "        vertical-align: middle;\n",
              "    }\n",
              "\n",
              "    .dataframe tbody tr th {\n",
              "        vertical-align: top;\n",
              "    }\n",
              "\n",
              "    .dataframe thead th {\n",
              "        text-align: right;\n",
              "    }\n",
              "</style>\n",
              "<table border=\"1\" class=\"dataframe\">\n",
              "  <thead>\n",
              "    <tr style=\"text-align: right;\">\n",
              "      <th></th>\n",
              "      <th>Name</th>\n",
              "      <th>dtypes</th>\n",
              "      <th>Missing</th>\n",
              "      <th>Uniques</th>\n",
              "      <th>First Value</th>\n",
              "    </tr>\n",
              "  </thead>\n",
              "  <tbody>\n",
              "    <tr>\n",
              "      <th>0</th>\n",
              "      <td>month_year</td>\n",
              "      <td>float64</td>\n",
              "      <td>0</td>\n",
              "      <td>26</td>\n",
              "      <td>2021.03</td>\n",
              "    </tr>\n",
              "    <tr>\n",
              "      <th>1</th>\n",
              "      <td>id</td>\n",
              "      <td>int64</td>\n",
              "      <td>0</td>\n",
              "      <td>129231</td>\n",
              "      <td>30000375</td>\n",
              "    </tr>\n",
              "    <tr>\n",
              "      <th>2</th>\n",
              "      <td>prepayment_percent</td>\n",
              "      <td>object</td>\n",
              "      <td>0</td>\n",
              "      <td>51</td>\n",
              "      <td>30%</td>\n",
              "    </tr>\n",
              "    <tr>\n",
              "      <th>3</th>\n",
              "      <td>prepayments_charged_with_nds_rub</td>\n",
              "      <td>float64</td>\n",
              "      <td>0</td>\n",
              "      <td>1691784</td>\n",
              "      <td>86173.1</td>\n",
              "    </tr>\n",
              "    <tr>\n",
              "      <th>4</th>\n",
              "      <td>prepayments_paid_with_nds_rub</td>\n",
              "      <td>float64</td>\n",
              "      <td>0</td>\n",
              "      <td>1682504</td>\n",
              "      <td>86173.1</td>\n",
              "    </tr>\n",
              "    <tr>\n",
              "      <th>5</th>\n",
              "      <td>charge_type_prom</td>\n",
              "      <td>object</td>\n",
              "      <td>0</td>\n",
              "      <td>6</td>\n",
              "      <td>дополнительный аванс 1</td>\n",
              "    </tr>\n",
              "  </tbody>\n",
              "</table>\n",
              "</div>"
            ],
            "text/plain": [
              "                               Name   dtypes  ...  Uniques             First Value\n",
              "0                        month_year  float64  ...       26                 2021.03\n",
              "1                                id    int64  ...   129231                30000375\n",
              "2                prepayment_percent   object  ...       51                     30%\n",
              "3  prepayments_charged_with_nds_rub  float64  ...  1691784                 86173.1\n",
              "4     prepayments_paid_with_nds_rub  float64  ...  1682504                 86173.1\n",
              "5                  charge_type_prom   object  ...        6  дополнительный аванс 1\n",
              "\n",
              "[6 rows x 5 columns]"
            ]
          },
          "metadata": {},
          "execution_count": 19
        }
      ]
    },
    {
      "cell_type": "code",
      "metadata": {
        "colab": {
          "base_uri": "https://localhost:8080/",
          "height": 175
        },
        "id": "Z8o3wI3i2M0r",
        "outputId": "9394a4f1-7598-4db3-c042-75936cdf7e6f"
      },
      "source": [
        "# Выведем таблицу корреляции\n",
        "corr_3 = yur_nachisleniya_i_oplati_avansov_df.corr()\n",
        "corr_3.head()"
      ],
      "execution_count": null,
      "outputs": [
        {
          "output_type": "execute_result",
          "data": {
            "text/html": [
              "<div>\n",
              "<style scoped>\n",
              "    .dataframe tbody tr th:only-of-type {\n",
              "        vertical-align: middle;\n",
              "    }\n",
              "\n",
              "    .dataframe tbody tr th {\n",
              "        vertical-align: top;\n",
              "    }\n",
              "\n",
              "    .dataframe thead th {\n",
              "        text-align: right;\n",
              "    }\n",
              "</style>\n",
              "<table border=\"1\" class=\"dataframe\">\n",
              "  <thead>\n",
              "    <tr style=\"text-align: right;\">\n",
              "      <th></th>\n",
              "      <th>month_year</th>\n",
              "      <th>id</th>\n",
              "      <th>prepayments_charged_with_nds_rub</th>\n",
              "      <th>prepayments_paid_with_nds_rub</th>\n",
              "    </tr>\n",
              "  </thead>\n",
              "  <tbody>\n",
              "    <tr>\n",
              "      <th>month_year</th>\n",
              "      <td>1.000000</td>\n",
              "      <td>0.006954</td>\n",
              "      <td>0.001007</td>\n",
              "      <td>-0.000051</td>\n",
              "    </tr>\n",
              "    <tr>\n",
              "      <th>id</th>\n",
              "      <td>0.006954</td>\n",
              "      <td>1.000000</td>\n",
              "      <td>-0.017432</td>\n",
              "      <td>-0.015634</td>\n",
              "    </tr>\n",
              "    <tr>\n",
              "      <th>prepayments_charged_with_nds_rub</th>\n",
              "      <td>0.001007</td>\n",
              "      <td>-0.017432</td>\n",
              "      <td>1.000000</td>\n",
              "      <td>0.970864</td>\n",
              "    </tr>\n",
              "    <tr>\n",
              "      <th>prepayments_paid_with_nds_rub</th>\n",
              "      <td>-0.000051</td>\n",
              "      <td>-0.015634</td>\n",
              "      <td>0.970864</td>\n",
              "      <td>1.000000</td>\n",
              "    </tr>\n",
              "  </tbody>\n",
              "</table>\n",
              "</div>"
            ],
            "text/plain": [
              "                                  month_year  ...  prepayments_paid_with_nds_rub\n",
              "month_year                          1.000000  ...                      -0.000051\n",
              "id                                  0.006954  ...                      -0.015634\n",
              "prepayments_charged_with_nds_rub    0.001007  ...                       0.970864\n",
              "prepayments_paid_with_nds_rub      -0.000051  ...                       1.000000\n",
              "\n",
              "[4 rows x 4 columns]"
            ]
          },
          "metadata": {},
          "execution_count": 20
        }
      ]
    },
    {
      "cell_type": "code",
      "metadata": {
        "colab": {
          "base_uri": "https://localhost:8080/",
          "height": 550
        },
        "id": "i03KFrRK2Wt0",
        "outputId": "dd2e43b7-1e2c-4010-c7ce-392d62ac44d8"
      },
      "source": [
        "# Визуализируем таблицу корреляции\n",
        "plt.figure(figsize=(7,6))\n",
        "sns.heatmap(corr_3, cmap=sns.color_palette(\"RdBu_r\", 1000), vmin=-1, center=0, annot=True) \n",
        "plt.show()"
      ],
      "execution_count": null,
      "outputs": [
        {
          "output_type": "display_data",
          "data": {
            "image/png": "[encoded data removed]",
            "text/plain": [
              "<Figure size 504x432 with 2 Axes>"
            ]
          },
          "metadata": {
            "needs_background": "light"
          }
        }
      ]
    },
    {
      "cell_type": "code",
      "metadata": {
        "colab": {
          "base_uri": "https://localhost:8080/"
        },
        "id": "la0azqevRO9a",
        "outputId": "509e35b7-47a1-4ccc-c4b2-96f5563407d0"
      },
      "source": [
        "# Проведем количественный анализ по признаку month_year\t\t\t\t\t\t\t\t\n",
        "yur_nachisleniya_i_oplati_avansov_df['month_year'].value_counts()"
      ],
      "execution_count": null,
      "outputs": [
        {
          "output_type": "execute_result",
          "data": {
            "text/plain": [
              "2021.11    230684\n",
              "2021.04    224797\n",
              "2021.05    223397\n",
              "2021.10    218575\n",
              "2021.03    217764\n",
              "2021.01    216321\n",
              "2020.12    214078\n",
              "2020.11    213489\n",
              "2020.04    212117\n",
              "2021.09    212045\n",
              "2021.06    211888\n",
              "2019.12    206819\n",
              "2021.02    206526\n",
              "2020.03    205457\n",
              "2021.08    205328\n",
              "2020.01    205090\n",
              "2020.10    203672\n",
              "2019.11    202505\n",
              "2021.07    200843\n",
              "2020.02    200667\n",
              "2020.05    198528\n",
              "2020.09    198414\n",
              "2019.10    191428\n",
              "2020.08    188094\n",
              "2020.06    161362\n",
              "2020.07    156631\n",
              "Name: month_year, dtype: int64"
            ]
          },
          "metadata": {},
          "execution_count": 53
        }
      ]
    },
    {
      "cell_type": "code",
      "metadata": {
        "colab": {
          "base_uri": "https://localhost:8080/"
        },
        "id": "MMw3lgLdRosc",
        "outputId": "050340ec-a7a5-4d80-894a-b47918905efa"
      },
      "source": [
        "# Проведем количественный анализ по признаку id\t\t\t\t\t\t\t\t\n",
        "yur_nachisleniya_i_oplati_avansov_df['id'].value_counts()"
      ],
      "execution_count": null,
      "outputs": [
        {
          "output_type": "execute_result",
          "data": {
            "text/plain": [
              "181551936    156\n",
              "246623421    156\n",
              "247229121    156\n",
              "45000918     156\n",
              "246633618    156\n",
              "            ... \n",
              "210245931      1\n",
              "170728110      1\n",
              "31020903       1\n",
              "170882610      1\n",
              "233120910      1\n",
              "Name: id, Length: 129231, dtype: int64"
            ]
          },
          "metadata": {},
          "execution_count": 54
        }
      ]
    },
    {
      "cell_type": "code",
      "metadata": {
        "colab": {
          "base_uri": "https://localhost:8080/"
        },
        "id": "vhmu-rDPR0En",
        "outputId": "aad9f9ca-de99-4aa5-9ef7-82df5169d3e2"
      },
      "source": [
        "# Проведем количественный анализ по признаку prepayment_percent\t\t\t\t\t\t\t\t\n",
        "yur_nachisleniya_i_oplati_avansov_df['prepayment_percent'].value_counts()"
      ],
      "execution_count": null,
      "outputs": [
        {
          "output_type": "execute_result",
          "data": {
            "text/plain": [
              "30%     2823902\n",
              "40%     2469218\n",
              "70%       18774\n",
              "50%        5955\n",
              "100%       5328\n",
              "10%        1226\n",
              "20%         607\n",
              "15%         290\n",
              "5%          283\n",
              "90%         206\n",
              "3%          143\n",
              "4%           78\n",
              "1%           75\n",
              "2%           63\n",
              "25%          47\n",
              "8%           42\n",
              "6%           36\n",
              "7%           31\n",
              "13%          31\n",
              "60%          24\n",
              "43%          22\n",
              "89%          18\n",
              "53%          16\n",
              "35%          14\n",
              "34%           8\n",
              "9%            7\n",
              "14%           6\n",
              "62%           6\n",
              "56%           6\n",
              "12%           5\n",
              "45%           4\n",
              "68%           4\n",
              "72%           4\n",
              "63%           4\n",
              "4.5%          4\n",
              "47%           4\n",
              "37%           4\n",
              "55%           4\n",
              "11%           4\n",
              "36%           3\n",
              "29%           2\n",
              ".5%           2\n",
              "1.5%          1\n",
              "18%           1\n",
              ".9%           1\n",
              "16%           1\n",
              "22%           1\n",
              "28%           1\n",
              "23%           1\n",
              "27%           1\n",
              ".3%           1\n",
              "Name: prepayment_percent, dtype: int64"
            ]
          },
          "metadata": {},
          "execution_count": 55
        }
      ]
    },
    {
      "cell_type": "code",
      "metadata": {
        "colab": {
          "base_uri": "https://localhost:8080/"
        },
        "id": "Xrauv7DNSChx",
        "outputId": "bf5066f8-7f4f-49d4-b1c5-19ac2d03f153"
      },
      "source": [
        "# Проведем количественный анализ по признаку prepayments_charged_with_nds_rub\t\t\t\t\t\t\t\t\n",
        "yur_nachisleniya_i_oplati_avansov_df['prepayments_charged_with_nds_rub'].value_counts()"
      ],
      "execution_count": null,
      "outputs": [
        {
          "output_type": "execute_result",
          "data": {
            "text/plain": [
              "427.25        314\n",
              "2153.05       308\n",
              "1647.76       278\n",
              "813.12        276\n",
              "398.76        264\n",
              "             ... \n",
              "1068546.40      1\n",
              "53730.78        1\n",
              "1077718.10      1\n",
              "123067.20       1\n",
              "243855.83       1\n",
              "Name: prepayments_charged_with_nds_rub, Length: 1691784, dtype: int64"
            ]
          },
          "metadata": {},
          "execution_count": 56
        }
      ]
    },
    {
      "cell_type": "code",
      "metadata": {
        "colab": {
          "base_uri": "https://localhost:8080/"
        },
        "id": "ivlGfMCUSMfm",
        "outputId": "3f23caa3-b6af-4204-f651-bc34ab607ae5"
      },
      "source": [
        "# Проведем количественный анализ по признаку prepayments_paid_with_nds_rub\t\t\t\t\t\t\t\t\n",
        "yur_nachisleniya_i_oplati_avansov_df['prepayments_paid_with_nds_rub'].value_counts()"
      ],
      "execution_count": null,
      "outputs": [
        {
          "output_type": "execute_result",
          "data": {
            "text/plain": [
              "0.00          674551\n",
              "0.01             408\n",
              "1000.00          396\n",
              "10000.00         387\n",
              "5000.00          386\n",
              "               ...  \n",
              "1725118.40         1\n",
              "33529.97           1\n",
              "33025.53           1\n",
              "11089.90           1\n",
              "880722.70          1\n",
              "Name: prepayments_paid_with_nds_rub, Length: 1682504, dtype: int64"
            ]
          },
          "metadata": {},
          "execution_count": 57
        }
      ]
    },
    {
      "cell_type": "code",
      "metadata": {
        "colab": {
          "base_uri": "https://localhost:8080/"
        },
        "id": "yOq9XQPDSYpN",
        "outputId": "50813d83-6f20-4eea-fdf0-0afd1129c4b2"
      },
      "source": [
        "# Проведем количественный анализ по признаку charge_type_prom\t\t\t\t\t\t\t\t\n",
        "yur_nachisleniya_i_oplati_avansov_df['charge_type_prom'].value_counts()"
      ],
      "execution_count": null,
      "outputs": [
        {
          "output_type": "execute_result",
          "data": {
            "text/plain": [
              "дополнительный аванс 1    2367926\n",
              "дополнительный аванс 2    2339588\n",
              "дополнительный аванс 3     347547\n",
              "аванс мощности             133620\n",
              "аванс мощности 2           130894\n",
              "аванс мощности 3             6944\n",
              "Name: charge_type_prom, dtype: int64"
            ]
          },
          "metadata": {},
          "execution_count": 58
        }
      ]
    }
  ]
}