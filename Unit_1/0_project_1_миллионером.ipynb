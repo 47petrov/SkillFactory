{
  "nbformat": 4,
  "nbformat_minor": 0,
  "metadata": {
    "colab": {
      "name": "0_project_1-миллионером.ipynb",
      "provenance": [],
      "collapsed_sections": []
    },
    "kernelspec": {
      "display_name": "Python 3",
      "language": "python",
      "name": "python3"
    },
    "language_info": {
      "codemirror_mode": {
        "name": "ipython",
        "version": 3
      },
      "file_extension": ".py",
      "mimetype": "text/x-python",
      "name": "python",
      "nbconvert_exporter": "python",
      "pygments_lexer": "ipython3",
      "version": "3.7.4"
    }
  },
  "cells": [
    {
      "cell_type": "code",
      "metadata": {
        "_cell_guid": "b1076dfc-b9ad-4769-8c92-a6c4dae69d19",
        "_uuid": "8f2839f25d086af736a60e9eeb907d3b93b6e0e5",
        "id": "U2D2gTdJVp90"
      },
      "source": [
        "import numpy as np\n",
        "import pandas as pd\n",
        "import datetime as dt\n",
        "from datetime import datetime, time\n",
        "import seaborn as sns\n",
        "import matplotlib.pyplot as plt\n",
        "from collections import Counter\n",
        "from itertools import combinations"
      ],
      "execution_count": 350,
      "outputs": []
    },
    {
      "cell_type": "code",
      "metadata": {
        "_cell_guid": "79c7e3d0-c299-4dcb-8224-4455121ee9b0",
        "_uuid": "d629ff2d2480ee46fbb7e2d37f6b5fab8052498a",
        "colab": {
          "base_uri": "https://localhost:8080/",
          "height": 680
        },
        "id": "oyGfxL3eVp9-",
        "outputId": "f8f684fc-1e08-45de-a64a-efb5fd949ace"
      },
      "source": [
        "data = pd.read_csv('movie_bd_v5.csv')\n",
        "data.sample(5)"
      ],
      "execution_count": 2,
      "outputs": [
        {
          "output_type": "execute_result",
          "data": {
            "text/html": [
              "<div>\n",
              "<style scoped>\n",
              "    .dataframe tbody tr th:only-of-type {\n",
              "        vertical-align: middle;\n",
              "    }\n",
              "\n",
              "    .dataframe tbody tr th {\n",
              "        vertical-align: top;\n",
              "    }\n",
              "\n",
              "    .dataframe thead th {\n",
              "        text-align: right;\n",
              "    }\n",
              "</style>\n",
              "<table border=\"1\" class=\"dataframe\">\n",
              "  <thead>\n",
              "    <tr style=\"text-align: right;\">\n",
              "      <th></th>\n",
              "      <th>imdb_id</th>\n",
              "      <th>budget</th>\n",
              "      <th>revenue</th>\n",
              "      <th>original_title</th>\n",
              "      <th>cast</th>\n",
              "      <th>director</th>\n",
              "      <th>tagline</th>\n",
              "      <th>overview</th>\n",
              "      <th>runtime</th>\n",
              "      <th>genres</th>\n",
              "      <th>production_companies</th>\n",
              "      <th>release_date</th>\n",
              "      <th>vote_average</th>\n",
              "      <th>release_year</th>\n",
              "    </tr>\n",
              "  </thead>\n",
              "  <tbody>\n",
              "    <tr>\n",
              "      <th>919</th>\n",
              "      <td>tt0281322</td>\n",
              "      <td>20000000</td>\n",
              "      <td>12398628</td>\n",
              "      <td>Undisputed</td>\n",
              "      <td>Wesley Snipes|Ving Rhames|Peter Falk|Michael R...</td>\n",
              "      <td>Walter Hill</td>\n",
              "      <td>Two Enemies ... The Mob ... The Ultimate Showd...</td>\n",
              "      <td>Monroe Hutchens is the heavyweight champion of...</td>\n",
              "      <td>96</td>\n",
              "      <td>Action|Adventure|Drama|Thriller</td>\n",
              "      <td>Miramax Films|Amen Ra Films</td>\n",
              "      <td>8/23/2002</td>\n",
              "      <td>6.3</td>\n",
              "      <td>2002</td>\n",
              "    </tr>\n",
              "    <tr>\n",
              "      <th>28</th>\n",
              "      <td>tt1895587</td>\n",
              "      <td>20000000</td>\n",
              "      <td>88346473</td>\n",
              "      <td>Spotlight</td>\n",
              "      <td>Mark Ruffalo|Michael Keaton|Rachel McAdams|Lie...</td>\n",
              "      <td>Tom McCarthy</td>\n",
              "      <td>Break the story. Break the silence.</td>\n",
              "      <td>The true story of how The Boston Globe uncover...</td>\n",
              "      <td>128</td>\n",
              "      <td>Drama|Thriller|History</td>\n",
              "      <td>Participant Media|Open Road Films|Anonymous Co...</td>\n",
              "      <td>11/6/2015</td>\n",
              "      <td>7.8</td>\n",
              "      <td>2015</td>\n",
              "    </tr>\n",
              "    <tr>\n",
              "      <th>1055</th>\n",
              "      <td>tt1764183</td>\n",
              "      <td>12000000</td>\n",
              "      <td>35485056</td>\n",
              "      <td>Arbitrage</td>\n",
              "      <td>Richard Gere|Susan Sarandon|Tim Roth|Brit Marl...</td>\n",
              "      <td>Nicholas Jarecki</td>\n",
              "      <td>Power is the best alibi.</td>\n",
              "      <td>A troubled hedge fund magnate, desperate to co...</td>\n",
              "      <td>100</td>\n",
              "      <td>Drama|Thriller</td>\n",
              "      <td>Lionsgate|Artina Films|Lucky Monkey Pictures|G...</td>\n",
              "      <td>9/14/2012</td>\n",
              "      <td>5.9</td>\n",
              "      <td>2012</td>\n",
              "    </tr>\n",
              "    <tr>\n",
              "      <th>371</th>\n",
              "      <td>tt1228705</td>\n",
              "      <td>200000000</td>\n",
              "      <td>623933331</td>\n",
              "      <td>Iron Man 2</td>\n",
              "      <td>Robert Downey Jr.|Gwyneth Paltrow|Don Cheadle|...</td>\n",
              "      <td>Jon Favreau</td>\n",
              "      <td>It's not the armor that makes the hero, but th...</td>\n",
              "      <td>With the world now aware of his dual life as t...</td>\n",
              "      <td>124</td>\n",
              "      <td>Adventure|Action|Science Fiction</td>\n",
              "      <td>Marvel Studios</td>\n",
              "      <td>4/28/2010</td>\n",
              "      <td>6.6</td>\n",
              "      <td>2010</td>\n",
              "    </tr>\n",
              "    <tr>\n",
              "      <th>1341</th>\n",
              "      <td>tt0358082</td>\n",
              "      <td>75000000</td>\n",
              "      <td>260696994</td>\n",
              "      <td>Robots</td>\n",
              "      <td>Robin Williams|Ewan McGregor|Halle Berry|Mel B...</td>\n",
              "      <td>Chris Wedge|Carlos Saldanha</td>\n",
              "      <td>You can shine no matter what you're made of.</td>\n",
              "      <td>Rodney Copperbottom is a young robot inventor ...</td>\n",
              "      <td>91</td>\n",
              "      <td>Animation|Comedy|Family|Science Fiction</td>\n",
              "      <td>Blue Sky Studios|Twentieth Century Fox Animation</td>\n",
              "      <td>3/11/2005</td>\n",
              "      <td>5.9</td>\n",
              "      <td>2005</td>\n",
              "    </tr>\n",
              "  </tbody>\n",
              "</table>\n",
              "</div>"
            ],
            "text/plain": [
              "        imdb_id     budget    revenue  ... release_date vote_average release_year\n",
              "919   tt0281322   20000000   12398628  ...    8/23/2002          6.3         2002\n",
              "28    tt1895587   20000000   88346473  ...    11/6/2015          7.8         2015\n",
              "1055  tt1764183   12000000   35485056  ...    9/14/2012          5.9         2012\n",
              "371   tt1228705  200000000  623933331  ...    4/28/2010          6.6         2010\n",
              "1341  tt0358082   75000000  260696994  ...    3/11/2005          5.9         2005\n",
              "\n",
              "[5 rows x 14 columns]"
            ]
          },
          "metadata": {},
          "execution_count": 2
        }
      ]
    },
    {
      "cell_type": "code",
      "metadata": {
        "id": "CoYUnagMVp-C",
        "colab": {
          "base_uri": "https://localhost:8080/",
          "height": 296
        },
        "outputId": "0e58e72a-afe1-4643-e11b-e56d5a0cc929"
      },
      "source": [
        "data.describe()"
      ],
      "execution_count": 3,
      "outputs": [
        {
          "output_type": "execute_result",
          "data": {
            "text/html": [
              "<div>\n",
              "<style scoped>\n",
              "    .dataframe tbody tr th:only-of-type {\n",
              "        vertical-align: middle;\n",
              "    }\n",
              "\n",
              "    .dataframe tbody tr th {\n",
              "        vertical-align: top;\n",
              "    }\n",
              "\n",
              "    .dataframe thead th {\n",
              "        text-align: right;\n",
              "    }\n",
              "</style>\n",
              "<table border=\"1\" class=\"dataframe\">\n",
              "  <thead>\n",
              "    <tr style=\"text-align: right;\">\n",
              "      <th></th>\n",
              "      <th>budget</th>\n",
              "      <th>revenue</th>\n",
              "      <th>runtime</th>\n",
              "      <th>vote_average</th>\n",
              "      <th>release_year</th>\n",
              "    </tr>\n",
              "  </thead>\n",
              "  <tbody>\n",
              "    <tr>\n",
              "      <th>count</th>\n",
              "      <td>1.889000e+03</td>\n",
              "      <td>1.889000e+03</td>\n",
              "      <td>1889.000000</td>\n",
              "      <td>1889.000000</td>\n",
              "      <td>1889.000000</td>\n",
              "    </tr>\n",
              "    <tr>\n",
              "      <th>mean</th>\n",
              "      <td>5.431083e+07</td>\n",
              "      <td>1.553653e+08</td>\n",
              "      <td>109.658549</td>\n",
              "      <td>6.140762</td>\n",
              "      <td>2007.860773</td>\n",
              "    </tr>\n",
              "    <tr>\n",
              "      <th>std</th>\n",
              "      <td>4.858721e+07</td>\n",
              "      <td>2.146698e+08</td>\n",
              "      <td>18.017041</td>\n",
              "      <td>0.764763</td>\n",
              "      <td>4.468841</td>\n",
              "    </tr>\n",
              "    <tr>\n",
              "      <th>min</th>\n",
              "      <td>5.000000e+06</td>\n",
              "      <td>2.033165e+06</td>\n",
              "      <td>63.000000</td>\n",
              "      <td>3.300000</td>\n",
              "      <td>2000.000000</td>\n",
              "    </tr>\n",
              "    <tr>\n",
              "      <th>25%</th>\n",
              "      <td>2.000000e+07</td>\n",
              "      <td>3.456058e+07</td>\n",
              "      <td>97.000000</td>\n",
              "      <td>5.600000</td>\n",
              "      <td>2004.000000</td>\n",
              "    </tr>\n",
              "    <tr>\n",
              "      <th>50%</th>\n",
              "      <td>3.800000e+07</td>\n",
              "      <td>8.361541e+07</td>\n",
              "      <td>107.000000</td>\n",
              "      <td>6.100000</td>\n",
              "      <td>2008.000000</td>\n",
              "    </tr>\n",
              "    <tr>\n",
              "      <th>75%</th>\n",
              "      <td>7.200000e+07</td>\n",
              "      <td>1.782626e+08</td>\n",
              "      <td>120.000000</td>\n",
              "      <td>6.600000</td>\n",
              "      <td>2012.000000</td>\n",
              "    </tr>\n",
              "    <tr>\n",
              "      <th>max</th>\n",
              "      <td>3.800000e+08</td>\n",
              "      <td>2.781506e+09</td>\n",
              "      <td>214.000000</td>\n",
              "      <td>8.100000</td>\n",
              "      <td>2015.000000</td>\n",
              "    </tr>\n",
              "  </tbody>\n",
              "</table>\n",
              "</div>"
            ],
            "text/plain": [
              "             budget       revenue      runtime  vote_average  release_year\n",
              "count  1.889000e+03  1.889000e+03  1889.000000   1889.000000   1889.000000\n",
              "mean   5.431083e+07  1.553653e+08   109.658549      6.140762   2007.860773\n",
              "std    4.858721e+07  2.146698e+08    18.017041      0.764763      4.468841\n",
              "min    5.000000e+06  2.033165e+06    63.000000      3.300000   2000.000000\n",
              "25%    2.000000e+07  3.456058e+07    97.000000      5.600000   2004.000000\n",
              "50%    3.800000e+07  8.361541e+07   107.000000      6.100000   2008.000000\n",
              "75%    7.200000e+07  1.782626e+08   120.000000      6.600000   2012.000000\n",
              "max    3.800000e+08  2.781506e+09   214.000000      8.100000   2015.000000"
            ]
          },
          "metadata": {},
          "execution_count": 3
        }
      ]
    },
    {
      "cell_type": "markdown",
      "metadata": {
        "id": "DTIt7ezGVp-G"
      },
      "source": [
        "# Предобработка"
      ]
    },
    {
      "cell_type": "code",
      "metadata": {
        "id": "jNb40DwKVp-H",
        "colab": {
          "base_uri": "https://localhost:8080/",
          "height": 35
        },
        "outputId": "c55cb151-f9b0-4be9-a969-bcaf0447ca31"
      },
      "source": [
        "answers = {} # создадим словарь для ответов\n",
        "display(answers)\n",
        "\n",
        "# тут другие ваши предобработки колонок например:\n",
        "\n",
        "#the time given in the dataset is in string format.\n",
        "#So we need to change this in datetime format\n",
        "# ..."
      ],
      "execution_count": 4,
      "outputs": [
        {
          "output_type": "display_data",
          "data": {
            "text/plain": [
              "{}"
            ]
          },
          "metadata": {}
        }
      ]
    },
    {
      "cell_type": "markdown",
      "metadata": {
        "id": "YxZaH-nPVp-L"
      },
      "source": [
        "# 1. У какого фильма из списка самый большой бюджет?"
      ]
    },
    {
      "cell_type": "markdown",
      "metadata": {
        "id": "Nd-G5gX6Vp-M"
      },
      "source": [
        "Использовать варианты ответов в коде решения запрещено.    \n",
        "Вы думаете и в жизни у вас будут варианты ответов?)"
      ]
    },
    {
      "cell_type": "code",
      "metadata": {
        "id": "uVnXAY5RVp-O",
        "colab": {
          "base_uri": "https://localhost:8080/",
          "height": 35
        },
        "outputId": "dfb40529-f39e-4da2-ac35-e9744d0ed8f7"
      },
      "source": [
        "# в словарь вставляем номер вопроса и ваш ответ на него\n",
        "# Пример: \n",
        "#answers['1'] = '2. Spider-Man 3 (tt0413300)'\n",
        "# запишите свой вариант ответа\n",
        "answers['1'] = '5. Pirates of the Caribbean: On Stranger Tides (tt1298650)'\n",
        "display(answers)\n",
        "# если ответили верно, можете добавить комментарий со значком \"+\"\n",
        "# \"+\""
      ],
      "execution_count": 5,
      "outputs": [
        {
          "output_type": "display_data",
          "data": {
            "text/plain": [
              "{'1': '5. Pirates of the Caribbean: On Stranger Tides (tt1298650)'}"
            ]
          },
          "metadata": {}
        }
      ]
    },
    {
      "cell_type": "code",
      "metadata": {
        "colab": {
          "base_uri": "https://localhost:8080/",
          "height": 124
        },
        "id": "dZwb3m28Vp-S",
        "outputId": "77bf0e6d-eac6-4b4d-bd51-4238f96a7020"
      },
      "source": [
        "# тут пишем ваш код для решения данного вопроса:\n",
        "display(data.budget.max())\n",
        "data[data.budget == data.budget.max()].original_title.describe()\n"
      ],
      "execution_count": 6,
      "outputs": [
        {
          "output_type": "display_data",
          "data": {
            "text/plain": [
              "380000000"
            ]
          },
          "metadata": {}
        },
        {
          "output_type": "execute_result",
          "data": {
            "text/plain": [
              "count                                               1\n",
              "unique                                              1\n",
              "top       Pirates of the Caribbean: On Stranger Tides\n",
              "freq                                                1\n",
              "Name: original_title, dtype: object"
            ]
          },
          "metadata": {},
          "execution_count": 6
        }
      ]
    },
    {
      "cell_type": "markdown",
      "metadata": {
        "id": "K7L3nbRXVp-X"
      },
      "source": [
        "ВАРИАНТ 2"
      ]
    },
    {
      "cell_type": "code",
      "metadata": {
        "colab": {
          "base_uri": "https://localhost:8080/"
        },
        "id": "OGaoQI7rVp-X",
        "outputId": "fdaf5a46-9f5d-4b66-b01c-4744d21e81b5"
      },
      "source": [
        "# можно добавлять разные варианты решения\n",
        "data[data.budget == data.budget.max()].original_title.unique()"
      ],
      "execution_count": 7,
      "outputs": [
        {
          "output_type": "execute_result",
          "data": {
            "text/plain": [
              "array(['Pirates of the Caribbean: On Stranger Tides'], dtype=object)"
            ]
          },
          "metadata": {},
          "execution_count": 7
        }
      ]
    },
    {
      "cell_type": "markdown",
      "metadata": {
        "id": "FNRbbI3vVp-c"
      },
      "source": [
        "# 2. Какой из фильмов самый длительный (в минутах)?"
      ]
    },
    {
      "cell_type": "code",
      "metadata": {
        "id": "vHAoEXNTVp-d",
        "colab": {
          "base_uri": "https://localhost:8080/",
          "height": 52
        },
        "outputId": "216388a5-e4dd-480f-bfad-4344b8b3eb76"
      },
      "source": [
        "answers['2'] = 'Gods and Generals (tt0279111)'\n",
        "# если ответили верно, можете добавить комментарий со значком \"+\"\n",
        "# \"+\"\n",
        "display(answers)"
      ],
      "execution_count": 8,
      "outputs": [
        {
          "output_type": "display_data",
          "data": {
            "text/plain": [
              "{'1': '5. Pirates of the Caribbean: On Stranger Tides (tt1298650)',\n",
              " '2': 'Gods and Generals (tt0279111)'}"
            ]
          },
          "metadata": {}
        }
      ]
    },
    {
      "cell_type": "code",
      "metadata": {
        "colab": {
          "base_uri": "https://localhost:8080/"
        },
        "id": "ot-VX2XrVp-g",
        "outputId": "e1d07e26-936a-4954-d117-9b1481083c76"
      },
      "source": [
        "data[data.runtime == data.runtime.max()].original_title.unique()\n"
      ],
      "execution_count": 9,
      "outputs": [
        {
          "output_type": "execute_result",
          "data": {
            "text/plain": [
              "array(['Gods and Generals'], dtype=object)"
            ]
          },
          "metadata": {},
          "execution_count": 9
        }
      ]
    },
    {
      "cell_type": "markdown",
      "metadata": {
        "id": "R6tLfRXlKfhn"
      },
      "source": [
        "ВАРИАНТ 2"
      ]
    },
    {
      "cell_type": "code",
      "metadata": {
        "colab": {
          "base_uri": "https://localhost:8080/"
        },
        "id": "iZQ-j83VKhWf",
        "outputId": "e3273380-cfe3-474b-f3ff-b80cc1e921bc"
      },
      "source": [
        "data[data.runtime == data.runtime.max()].original_title.describe()"
      ],
      "execution_count": 10,
      "outputs": [
        {
          "output_type": "execute_result",
          "data": {
            "text/plain": [
              "count                     1\n",
              "unique                    1\n",
              "top       Gods and Generals\n",
              "freq                      1\n",
              "Name: original_title, dtype: object"
            ]
          },
          "metadata": {},
          "execution_count": 10
        }
      ]
    },
    {
      "cell_type": "markdown",
      "metadata": {
        "id": "bapLlpW8Vp-k"
      },
      "source": [
        "# 3. Какой из фильмов самый короткий (в минутах)?\n",
        "\n",
        "\n",
        "\n"
      ]
    },
    {
      "cell_type": "code",
      "metadata": {
        "colab": {
          "base_uri": "https://localhost:8080/",
          "height": 70
        },
        "id": "ehlSC6S_5aVj",
        "outputId": "35a6fdb5-6bea-493c-e047-d7dc06c0bb4b"
      },
      "source": [
        "answers['3'] = 'Winnie the Pooh (tt1449283)'\n",
        "# если ответили верно, можете добавить комментарий со значком \"+\"\n",
        "# \"+\"\n",
        "display(answers)"
      ],
      "execution_count": 11,
      "outputs": [
        {
          "output_type": "display_data",
          "data": {
            "text/plain": [
              "{'1': '5. Pirates of the Caribbean: On Stranger Tides (tt1298650)',\n",
              " '2': 'Gods and Generals (tt0279111)',\n",
              " '3': 'Winnie the Pooh (tt1449283)'}"
            ]
          },
          "metadata": {}
        }
      ]
    },
    {
      "cell_type": "code",
      "metadata": {
        "colab": {
          "base_uri": "https://localhost:8080/"
        },
        "id": "YBxaSHuAVp-l",
        "outputId": "b9a60d8d-0c61-48a4-be45-10bdbfb88cff"
      },
      "source": [
        "data[data.runtime == data.runtime.min()].original_title.unique()"
      ],
      "execution_count": 12,
      "outputs": [
        {
          "output_type": "execute_result",
          "data": {
            "text/plain": [
              "array(['Winnie the Pooh'], dtype=object)"
            ]
          },
          "metadata": {},
          "execution_count": 12
        }
      ]
    },
    {
      "cell_type": "markdown",
      "metadata": {
        "id": "TfQbxbfNVp-p"
      },
      "source": [
        "# 4. Какова средняя длительность фильмов?\n"
      ]
    },
    {
      "cell_type": "code",
      "metadata": {
        "colab": {
          "base_uri": "https://localhost:8080/",
          "height": 88
        },
        "id": "SVR9Jhmd509H",
        "outputId": "7c4f3a40-4d45-4cfb-b0fa-b2d042eb61fd"
      },
      "source": [
        "answers['4'] = '110'\n",
        "# если ответили верно, можете добавить комментарий со значком \"+\"\n",
        "# \"+\"\n",
        "display(answers)"
      ],
      "execution_count": 13,
      "outputs": [
        {
          "output_type": "display_data",
          "data": {
            "text/plain": [
              "{'1': '5. Pirates of the Caribbean: On Stranger Tides (tt1298650)',\n",
              " '2': 'Gods and Generals (tt0279111)',\n",
              " '3': 'Winnie the Pooh (tt1449283)',\n",
              " '4': '110'}"
            ]
          },
          "metadata": {}
        }
      ]
    },
    {
      "cell_type": "code",
      "metadata": {
        "colab": {
          "base_uri": "https://localhost:8080/",
          "height": 52
        },
        "id": "5K6dKZYVVp-q",
        "outputId": "ec0364c2-a191-4998-fc57-ca528a3ae814"
      },
      "source": [
        "display(round(data.runtime.mean(),ndigits=False))\n",
        "display(data.runtime.mean())"
      ],
      "execution_count": 14,
      "outputs": [
        {
          "output_type": "display_data",
          "data": {
            "text/plain": [
              "110.0"
            ]
          },
          "metadata": {}
        },
        {
          "output_type": "display_data",
          "data": {
            "text/plain": [
              "109.6585494970884"
            ]
          },
          "metadata": {}
        }
      ]
    },
    {
      "cell_type": "markdown",
      "metadata": {
        "id": "r5TvbnT_Vp-u"
      },
      "source": [
        "# 5. Каково медианное значение длительности фильмов? "
      ]
    },
    {
      "cell_type": "code",
      "metadata": {
        "colab": {
          "base_uri": "https://localhost:8080/",
          "height": 106
        },
        "id": "xPb8wZDm58GL",
        "outputId": "612f5655-058a-4aeb-f6d3-102598e13f06"
      },
      "source": [
        "answers['5'] = '107'\n",
        "# если ответили верно, можете добавить комментарий со значком \"+\"\n",
        "# \"+\"\n",
        "display(answers)"
      ],
      "execution_count": 15,
      "outputs": [
        {
          "output_type": "display_data",
          "data": {
            "text/plain": [
              "{'1': '5. Pirates of the Caribbean: On Stranger Tides (tt1298650)',\n",
              " '2': 'Gods and Generals (tt0279111)',\n",
              " '3': 'Winnie the Pooh (tt1449283)',\n",
              " '4': '110',\n",
              " '5': '107'}"
            ]
          },
          "metadata": {}
        }
      ]
    },
    {
      "cell_type": "code",
      "metadata": {
        "colab": {
          "base_uri": "https://localhost:8080/"
        },
        "id": "iBROplKnVp-v",
        "outputId": "d12efd86-a494-47a4-bbd5-e8522db90875"
      },
      "source": [
        "data.runtime.median()"
      ],
      "execution_count": 16,
      "outputs": [
        {
          "output_type": "execute_result",
          "data": {
            "text/plain": [
              "107.0"
            ]
          },
          "metadata": {},
          "execution_count": 16
        }
      ]
    },
    {
      "cell_type": "markdown",
      "metadata": {
        "id": "39P-deDSVp-y"
      },
      "source": [
        "# 6. Какой самый прибыльный фильм?\n",
        "#### Внимание! Здесь и далее под «прибылью» или «убытками» понимается разность между сборами и бюджетом фильма. (прибыль = сборы - бюджет) в нашем датасете это будет (profit = revenue - budget) "
      ]
    },
    {
      "cell_type": "code",
      "metadata": {
        "colab": {
          "base_uri": "https://localhost:8080/",
          "height": 124
        },
        "id": "zspBdBmL-dFp",
        "outputId": "163546cd-4123-44db-9d93-208a72c15ec4"
      },
      "source": [
        "answers['6'] = 'Avatar (tt0499549)'\n",
        "# если ответили верно, можете добавить комментарий со значком \"+\"\n",
        "# \"+\"\n",
        "display(answers)"
      ],
      "execution_count": 17,
      "outputs": [
        {
          "output_type": "display_data",
          "data": {
            "text/plain": [
              "{'1': '5. Pirates of the Caribbean: On Stranger Tides (tt1298650)',\n",
              " '2': 'Gods and Generals (tt0279111)',\n",
              " '3': 'Winnie the Pooh (tt1449283)',\n",
              " '4': '110',\n",
              " '5': '107',\n",
              " '6': 'Avatar (tt0499549)'}"
            ]
          },
          "metadata": {}
        }
      ]
    },
    {
      "cell_type": "code",
      "metadata": {
        "colab": {
          "base_uri": "https://localhost:8080/",
          "height": 52
        },
        "id": "UYZh4T9WVp-y",
        "outputId": "b0baed0c-0bf5-4ad7-f70e-3885f4771ab5"
      },
      "source": [
        "# лучше код получения столбца profit вынести в Предобработку что в начале\n",
        "data['profit'] = data.revenue-data.budget\n",
        "display(data.profit.max())\n",
        "\n",
        "data[data.profit == data.profit.max()].original_title.unique()"
      ],
      "execution_count": 18,
      "outputs": [
        {
          "output_type": "display_data",
          "data": {
            "text/plain": [
              "2544505847"
            ]
          },
          "metadata": {}
        },
        {
          "output_type": "execute_result",
          "data": {
            "text/plain": [
              "array(['Avatar'], dtype=object)"
            ]
          },
          "metadata": {},
          "execution_count": 18
        }
      ]
    },
    {
      "cell_type": "markdown",
      "metadata": {
        "id": "M99JmIX4Vp-2"
      },
      "source": [
        "# 7. Какой фильм самый убыточный? "
      ]
    },
    {
      "cell_type": "code",
      "metadata": {
        "colab": {
          "base_uri": "https://localhost:8080/",
          "height": 141
        },
        "id": "BH1dqe_7-puL",
        "outputId": "551973bc-4f57-4099-de19-5b12e71ae033"
      },
      "source": [
        "answers['7'] = 'The Lone Ranger (tt1210819)'\n",
        "# если ответили верно, можете добавить комментарий со значком \"+\"\n",
        "# \"+\"\n",
        "display(answers)"
      ],
      "execution_count": 19,
      "outputs": [
        {
          "output_type": "display_data",
          "data": {
            "text/plain": [
              "{'1': '5. Pirates of the Caribbean: On Stranger Tides (tt1298650)',\n",
              " '2': 'Gods and Generals (tt0279111)',\n",
              " '3': 'Winnie the Pooh (tt1449283)',\n",
              " '4': '110',\n",
              " '5': '107',\n",
              " '6': 'Avatar (tt0499549)',\n",
              " '7': 'The Lone Ranger (tt1210819)'}"
            ]
          },
          "metadata": {}
        }
      ]
    },
    {
      "cell_type": "code",
      "metadata": {
        "id": "w-D2m4XPVp-3",
        "colab": {
          "base_uri": "https://localhost:8080/",
          "height": 52
        },
        "outputId": "4b869527-5160-4517-9201-f100921cf723"
      },
      "source": [
        "data['profit'] = data.revenue-data.budget\n",
        "display(data.profit.min())\n",
        "\n",
        "data[data.profit == data.profit.min()].original_title.unique()"
      ],
      "execution_count": 20,
      "outputs": [
        {
          "output_type": "display_data",
          "data": {
            "text/plain": [
              "-165710090"
            ]
          },
          "metadata": {}
        },
        {
          "output_type": "execute_result",
          "data": {
            "text/plain": [
              "array(['The Lone Ranger'], dtype=object)"
            ]
          },
          "metadata": {},
          "execution_count": 20
        }
      ]
    },
    {
      "cell_type": "markdown",
      "metadata": {
        "id": "wEOM5ERVVp-6"
      },
      "source": [
        "# 8. У скольких фильмов из датасета объем сборов оказался выше бюджета?"
      ]
    },
    {
      "cell_type": "code",
      "metadata": {
        "colab": {
          "base_uri": "https://localhost:8080/",
          "height": 159
        },
        "id": "971HNPfI--7d",
        "outputId": "825090e0-bc0f-4a3d-83d2-4b77cc5764b4"
      },
      "source": [
        "answers['8'] = '1478'\n",
        "# если ответили верно, можете добавить комментарий со значком \"+\"\n",
        "# \"+\"\n",
        "display(answers)"
      ],
      "execution_count": 21,
      "outputs": [
        {
          "output_type": "display_data",
          "data": {
            "text/plain": [
              "{'1': '5. Pirates of the Caribbean: On Stranger Tides (tt1298650)',\n",
              " '2': 'Gods and Generals (tt0279111)',\n",
              " '3': 'Winnie the Pooh (tt1449283)',\n",
              " '4': '110',\n",
              " '5': '107',\n",
              " '6': 'Avatar (tt0499549)',\n",
              " '7': 'The Lone Ranger (tt1210819)',\n",
              " '8': '1478'}"
            ]
          },
          "metadata": {}
        }
      ]
    },
    {
      "cell_type": "code",
      "metadata": {
        "id": "y00_7HD6Vp-7",
        "colab": {
          "base_uri": "https://localhost:8080/",
          "height": 248
        },
        "outputId": "3b03ace4-ffa6-4322-e699-43094731c34a"
      },
      "source": [
        "display(data[data.revenue > data.budget].original_title.count())\n",
        "\n",
        "film_similar=data[data.revenue > data.budget]\n",
        "display(film_similar.original_title)"
      ],
      "execution_count": 22,
      "outputs": [
        {
          "output_type": "display_data",
          "data": {
            "text/plain": [
              "1478"
            ]
          },
          "metadata": {}
        },
        {
          "output_type": "display_data",
          "data": {
            "text/plain": [
              "0                     Jurassic World\n",
              "1                 Mad Max: Fury Road\n",
              "2                          Insurgent\n",
              "3       Star Wars: The Force Awakens\n",
              "4                          Furious 7\n",
              "                    ...             \n",
              "1871               Keeping the Faith\n",
              "1875                         The Kid\n",
              "1877               Love & Basketball\n",
              "1883                    Return to Me\n",
              "1884                           X-Men\n",
              "Name: original_title, Length: 1478, dtype: object"
            ]
          },
          "metadata": {}
        }
      ]
    },
    {
      "cell_type": "markdown",
      "metadata": {
        "id": "xhpspA9KVp_A"
      },
      "source": [
        "# 9. Какой фильм оказался самым кассовым в 2008 году?"
      ]
    },
    {
      "cell_type": "code",
      "metadata": {
        "colab": {
          "base_uri": "https://localhost:8080/",
          "height": 177
        },
        "id": "SmSdqeujAcFE",
        "outputId": "dd673e33-5311-4d68-f953-d4c1cc2f8c44"
      },
      "source": [
        "answers['9'] = 'The Dark Knight (tt0468569)'\n",
        "# если ответили верно, можете добавить комментарий со значком \"+\"\n",
        "# \"+\"\n",
        "display(answers)"
      ],
      "execution_count": 23,
      "outputs": [
        {
          "output_type": "display_data",
          "data": {
            "text/plain": [
              "{'1': '5. Pirates of the Caribbean: On Stranger Tides (tt1298650)',\n",
              " '2': 'Gods and Generals (tt0279111)',\n",
              " '3': 'Winnie the Pooh (tt1449283)',\n",
              " '4': '110',\n",
              " '5': '107',\n",
              " '6': 'Avatar (tt0499549)',\n",
              " '7': 'The Lone Ranger (tt1210819)',\n",
              " '8': '1478',\n",
              " '9': 'The Dark Knight (tt0468569)'}"
            ]
          },
          "metadata": {}
        }
      ]
    },
    {
      "cell_type": "code",
      "metadata": {
        "id": "MoUyQr9RVp_B",
        "colab": {
          "base_uri": "https://localhost:8080/",
          "height": 202
        },
        "outputId": "852a09f6-4e61-4891-8c08-cbece1b31ba2"
      },
      "source": [
        "df_2008=data[(data['release_year'] == 2008)]\n",
        "display(df_2008.revenue.max())\n",
        "df1_2008=df_2008[(df_2008['revenue']==df_2008.revenue.max())]\n",
        "display(df1_2008)"
      ],
      "execution_count": 24,
      "outputs": [
        {
          "output_type": "display_data",
          "data": {
            "text/plain": [
              "1001921825"
            ]
          },
          "metadata": {}
        },
        {
          "output_type": "display_data",
          "data": {
            "text/html": [
              "<div>\n",
              "<style scoped>\n",
              "    .dataframe tbody tr th:only-of-type {\n",
              "        vertical-align: middle;\n",
              "    }\n",
              "\n",
              "    .dataframe tbody tr th {\n",
              "        vertical-align: top;\n",
              "    }\n",
              "\n",
              "    .dataframe thead th {\n",
              "        text-align: right;\n",
              "    }\n",
              "</style>\n",
              "<table border=\"1\" class=\"dataframe\">\n",
              "  <thead>\n",
              "    <tr style=\"text-align: right;\">\n",
              "      <th></th>\n",
              "      <th>imdb_id</th>\n",
              "      <th>budget</th>\n",
              "      <th>revenue</th>\n",
              "      <th>original_title</th>\n",
              "      <th>cast</th>\n",
              "      <th>director</th>\n",
              "      <th>tagline</th>\n",
              "      <th>overview</th>\n",
              "      <th>runtime</th>\n",
              "      <th>genres</th>\n",
              "      <th>production_companies</th>\n",
              "      <th>release_date</th>\n",
              "      <th>vote_average</th>\n",
              "      <th>release_year</th>\n",
              "      <th>profit</th>\n",
              "    </tr>\n",
              "  </thead>\n",
              "  <tbody>\n",
              "    <tr>\n",
              "      <th>599</th>\n",
              "      <td>tt0468569</td>\n",
              "      <td>185000000</td>\n",
              "      <td>1001921825</td>\n",
              "      <td>The Dark Knight</td>\n",
              "      <td>Christian Bale|Michael Caine|Heath Ledger|Aaro...</td>\n",
              "      <td>Christopher Nolan</td>\n",
              "      <td>Why So Serious?</td>\n",
              "      <td>Batman raises the stakes in his war on crime. ...</td>\n",
              "      <td>152</td>\n",
              "      <td>Drama|Action|Crime|Thriller</td>\n",
              "      <td>DC Comics|Legendary Pictures|Warner Bros.|Syncopy</td>\n",
              "      <td>7/16/2008</td>\n",
              "      <td>8.1</td>\n",
              "      <td>2008</td>\n",
              "      <td>816921825</td>\n",
              "    </tr>\n",
              "  </tbody>\n",
              "</table>\n",
              "</div>"
            ],
            "text/plain": [
              "       imdb_id     budget     revenue  ... vote_average release_year     profit\n",
              "599  tt0468569  185000000  1001921825  ...          8.1         2008  816921825\n",
              "\n",
              "[1 rows x 15 columns]"
            ]
          },
          "metadata": {}
        }
      ]
    },
    {
      "cell_type": "markdown",
      "metadata": {
        "id": "Zi4hDKidVp_F"
      },
      "source": [
        "# 10. Самый убыточный фильм за период с 2012 по 2014 г. (включительно)?\n"
      ]
    },
    {
      "cell_type": "code",
      "metadata": {
        "colab": {
          "base_uri": "https://localhost:8080/",
          "height": 195
        },
        "id": "4KLLV5YtHERz",
        "outputId": "b524dc01-b3ec-4fc5-feeb-fba9b832dc54"
      },
      "source": [
        "answers['10'] = 'The Lone Ranger (tt1210819)'\n",
        "# если ответили верно, можете добавить комментарий со значком \"+\"\n",
        "# \"+\"\n",
        "display(answers)"
      ],
      "execution_count": 25,
      "outputs": [
        {
          "output_type": "display_data",
          "data": {
            "text/plain": [
              "{'1': '5. Pirates of the Caribbean: On Stranger Tides (tt1298650)',\n",
              " '10': 'The Lone Ranger (tt1210819)',\n",
              " '2': 'Gods and Generals (tt0279111)',\n",
              " '3': 'Winnie the Pooh (tt1449283)',\n",
              " '4': '110',\n",
              " '5': '107',\n",
              " '6': 'Avatar (tt0499549)',\n",
              " '7': 'The Lone Ranger (tt1210819)',\n",
              " '8': '1478',\n",
              " '9': 'The Dark Knight (tt0468569)'}"
            ]
          },
          "metadata": {}
        }
      ]
    },
    {
      "cell_type": "code",
      "metadata": {
        "id": "XqyRmufJVp_F",
        "colab": {
          "base_uri": "https://localhost:8080/",
          "height": 52
        },
        "outputId": "7bea38ba-611f-49e9-828c-d7acba456d05"
      },
      "source": [
        "df=data.loc[(data.release_year>= 2012)&(data.release_year <=2014)].sort_values(by='profit',ascending=True)\n",
        "display(df[df.profit==df.profit.min()].original_title)\n"
      ],
      "execution_count": 26,
      "outputs": [
        {
          "output_type": "display_data",
          "data": {
            "text/plain": [
              "1245    The Lone Ranger\n",
              "Name: original_title, dtype: object"
            ]
          },
          "metadata": {}
        }
      ]
    },
    {
      "cell_type": "markdown",
      "metadata": {
        "id": "EA7Sa9dkVp_I"
      },
      "source": [
        "# 11. Какого жанра фильмов больше всего?"
      ]
    },
    {
      "cell_type": "code",
      "metadata": {
        "id": "BM7KxY8ZNQLL",
        "colab": {
          "base_uri": "https://localhost:8080/",
          "height": 212
        },
        "outputId": "9c1fddae-1b19-405e-b464-1980f2e3fd76"
      },
      "source": [
        "answers['11'] = 'Drama'\n",
        "# если ответили верно, можете добавить комментарий со значком \"+\"\n",
        "# \"+\"\n",
        "display(answers)"
      ],
      "execution_count": 27,
      "outputs": [
        {
          "output_type": "display_data",
          "data": {
            "text/plain": [
              "{'1': '5. Pirates of the Caribbean: On Stranger Tides (tt1298650)',\n",
              " '10': 'The Lone Ranger (tt1210819)',\n",
              " '11': 'Drama',\n",
              " '2': 'Gods and Generals (tt0279111)',\n",
              " '3': 'Winnie the Pooh (tt1449283)',\n",
              " '4': '110',\n",
              " '5': '107',\n",
              " '6': 'Avatar (tt0499549)',\n",
              " '7': 'The Lone Ranger (tt1210819)',\n",
              " '8': '1478',\n",
              " '9': 'The Dark Knight (tt0468569)'}"
            ]
          },
          "metadata": {}
        }
      ]
    },
    {
      "cell_type": "code",
      "metadata": {
        "id": "zsJAwJ8QVp_J",
        "colab": {
          "base_uri": "https://localhost:8080/",
          "height": 372
        },
        "outputId": "db6f3904-bb90-492b-8d73-c6d2b738e162"
      },
      "source": [
        "# эту задачу тоже можно решать разными подходами, попробуй реализовать разные варианты\n",
        "# если будешь добавлять функцию - выноси ее в предобработку что в начале\n",
        "\n",
        "# split разделяет фильмы по жанрам\n",
        "df2=data['genres'].str.split('|').explode().value_counts()\n",
        "display(df2)\n",
        "\n",
        "# split не разделяет фильмы по жанрам, поэтому данных выдаётся меньше\n",
        "#df=data['genres'].value_counts()\n",
        "#display(df)"
      ],
      "execution_count": 28,
      "outputs": [
        {
          "output_type": "display_data",
          "data": {
            "text/plain": [
              "Drama              782\n",
              "Comedy             683\n",
              "Thriller           596\n",
              "Action             582\n",
              "Adventure          415\n",
              "Crime              315\n",
              "Romance            308\n",
              "Family             260\n",
              "Science Fiction    248\n",
              "Fantasy            222\n",
              "Horror             176\n",
              "Mystery            168\n",
              "Animation          139\n",
              "Music               64\n",
              "History             62\n",
              "War                 58\n",
              "Western             19\n",
              "Documentary          8\n",
              "Foreign              2\n",
              "Name: genres, dtype: int64"
            ]
          },
          "metadata": {}
        }
      ]
    },
    {
      "cell_type": "markdown",
      "metadata": {
        "id": "Ax6g2C8SVp_M"
      },
      "source": [
        "ВАРИАНТ 2"
      ]
    },
    {
      "cell_type": "code",
      "metadata": {
        "id": "otO3SbrSVp_N",
        "colab": {
          "base_uri": "https://localhost:8080/"
        },
        "outputId": "9f9cd195-7bf7-4528-84fb-43fd0a1b3f34"
      },
      "source": [
        "df = data\n",
        "new_df=df['genres'].apply(lambda x: x.split('|'))\n",
        "\n",
        "new_df.explode('genres').value_counts()"
      ],
      "execution_count": 29,
      "outputs": [
        {
          "output_type": "execute_result",
          "data": {
            "text/plain": [
              "Drama              782\n",
              "Comedy             683\n",
              "Thriller           596\n",
              "Action             582\n",
              "Adventure          415\n",
              "Crime              315\n",
              "Romance            308\n",
              "Family             260\n",
              "Science Fiction    248\n",
              "Fantasy            222\n",
              "Horror             176\n",
              "Mystery            168\n",
              "Animation          139\n",
              "Music               64\n",
              "History             62\n",
              "War                 58\n",
              "Western             19\n",
              "Documentary          8\n",
              "Foreign              2\n",
              "Name: genres, dtype: int64"
            ]
          },
          "metadata": {},
          "execution_count": 29
        }
      ]
    },
    {
      "cell_type": "code",
      "metadata": {
        "colab": {
          "base_uri": "https://localhost:8080/"
        },
        "id": "EDEWcf5KYhts",
        "outputId": "5f959b37-51ff-4a35-cbb4-131c7a56fb5c"
      },
      "source": [
        "data.genres.str.split('|').explode().value_counts()"
      ],
      "execution_count": 30,
      "outputs": [
        {
          "output_type": "execute_result",
          "data": {
            "text/plain": [
              "Drama              782\n",
              "Comedy             683\n",
              "Thriller           596\n",
              "Action             582\n",
              "Adventure          415\n",
              "Crime              315\n",
              "Romance            308\n",
              "Family             260\n",
              "Science Fiction    248\n",
              "Fantasy            222\n",
              "Horror             176\n",
              "Mystery            168\n",
              "Animation          139\n",
              "Music               64\n",
              "History             62\n",
              "War                 58\n",
              "Western             19\n",
              "Documentary          8\n",
              "Foreign              2\n",
              "Name: genres, dtype: int64"
            ]
          },
          "metadata": {},
          "execution_count": 30
        }
      ]
    },
    {
      "cell_type": "markdown",
      "metadata": {
        "id": "T9_bPWpkVp_Q"
      },
      "source": [
        "# 12. Фильмы какого жанра чаще всего становятся прибыльными? "
      ]
    },
    {
      "cell_type": "code",
      "metadata": {
        "colab": {
          "base_uri": "https://localhost:8080/",
          "height": 230
        },
        "id": "VX-xUF1VSC8G",
        "outputId": "bccaa167-9a75-48c1-c3ee-fb86b8d74382"
      },
      "source": [
        "answers['12'] = 'Drama'\n",
        "# если ответили верно, можете добавить комментарий со значком \"+\"\n",
        "# \"+\"\n",
        "display(answers)"
      ],
      "execution_count": 31,
      "outputs": [
        {
          "output_type": "display_data",
          "data": {
            "text/plain": [
              "{'1': '5. Pirates of the Caribbean: On Stranger Tides (tt1298650)',\n",
              " '10': 'The Lone Ranger (tt1210819)',\n",
              " '11': 'Drama',\n",
              " '12': 'Drama',\n",
              " '2': 'Gods and Generals (tt0279111)',\n",
              " '3': 'Winnie the Pooh (tt1449283)',\n",
              " '4': '110',\n",
              " '5': '107',\n",
              " '6': 'Avatar (tt0499549)',\n",
              " '7': 'The Lone Ranger (tt1210819)',\n",
              " '8': '1478',\n",
              " '9': 'The Dark Knight (tt0468569)'}"
            ]
          },
          "metadata": {}
        }
      ]
    },
    {
      "cell_type": "code",
      "metadata": {
        "id": "Tmt8MaK1Vp_R",
        "colab": {
          "base_uri": "https://localhost:8080/"
        },
        "outputId": "fb53cefc-ed25-4d53-98ef-adc908dbfb52"
      },
      "source": [
        "df1= data.copy()\n",
        "df1['genres'] = df1.genres.str.split('|')\n",
        "df1 = df1.explode('genres')\n",
        "#display(df1)\n",
        "\n",
        "df1.genres[df1['profit']>0].value_counts().head(1) "
      ],
      "execution_count": 32,
      "outputs": [
        {
          "output_type": "execute_result",
          "data": {
            "text/plain": [
              "Drama    560\n",
              "Name: genres, dtype: int64"
            ]
          },
          "metadata": {},
          "execution_count": 32
        }
      ]
    },
    {
      "cell_type": "markdown",
      "metadata": {
        "id": "0F23bgsDVp_U"
      },
      "source": [
        "# 13. У какого режиссера самые большие суммарные кассовые сборы?"
      ]
    },
    {
      "cell_type": "code",
      "metadata": {
        "id": "K6Z3J8ygVp_X",
        "colab": {
          "base_uri": "https://localhost:8080/",
          "height": 248
        },
        "outputId": "0ce1fccb-3775-420a-c891-12ea1fe8a737"
      },
      "source": [
        "answers['13'] = 'Peter Jackson'\n",
        "# если ответили верно, можете добавить комментарий со значком \"+\"\n",
        "# \"+\"\n",
        "display(answers)"
      ],
      "execution_count": 33,
      "outputs": [
        {
          "output_type": "display_data",
          "data": {
            "text/plain": [
              "{'1': '5. Pirates of the Caribbean: On Stranger Tides (tt1298650)',\n",
              " '10': 'The Lone Ranger (tt1210819)',\n",
              " '11': 'Drama',\n",
              " '12': 'Drama',\n",
              " '13': 'Peter Jackson',\n",
              " '2': 'Gods and Generals (tt0279111)',\n",
              " '3': 'Winnie the Pooh (tt1449283)',\n",
              " '4': '110',\n",
              " '5': '107',\n",
              " '6': 'Avatar (tt0499549)',\n",
              " '7': 'The Lone Ranger (tt1210819)',\n",
              " '8': '1478',\n",
              " '9': 'The Dark Knight (tt0468569)'}"
            ]
          },
          "metadata": {}
        }
      ]
    },
    {
      "cell_type": "code",
      "metadata": {
        "colab": {
          "base_uri": "https://localhost:8080/",
          "height": 449
        },
        "id": "4mwbqBywc1zb",
        "outputId": "21183ec7-67ac-4de9-d9a7-5e02093b35c8"
      },
      "source": [
        "df = data.copy()\n",
        "df['director'] = df.director.str.split('|') \n",
        "#display(df)\n",
        "df = df.explode('director').groupby(['director']).sum().sort_values(by = 'revenue', ascending=False) \n",
        "df"
      ],
      "execution_count": 34,
      "outputs": [
        {
          "output_type": "execute_result",
          "data": {
            "text/html": [
              "<div>\n",
              "<style scoped>\n",
              "    .dataframe tbody tr th:only-of-type {\n",
              "        vertical-align: middle;\n",
              "    }\n",
              "\n",
              "    .dataframe tbody tr th {\n",
              "        vertical-align: top;\n",
              "    }\n",
              "\n",
              "    .dataframe thead th {\n",
              "        text-align: right;\n",
              "    }\n",
              "</style>\n",
              "<table border=\"1\" class=\"dataframe\">\n",
              "  <thead>\n",
              "    <tr style=\"text-align: right;\">\n",
              "      <th></th>\n",
              "      <th>budget</th>\n",
              "      <th>revenue</th>\n",
              "      <th>runtime</th>\n",
              "      <th>vote_average</th>\n",
              "      <th>release_year</th>\n",
              "      <th>profit</th>\n",
              "    </tr>\n",
              "    <tr>\n",
              "      <th>director</th>\n",
              "      <th></th>\n",
              "      <th></th>\n",
              "      <th></th>\n",
              "      <th></th>\n",
              "      <th></th>\n",
              "      <th></th>\n",
              "    </tr>\n",
              "  </thead>\n",
              "  <tbody>\n",
              "    <tr>\n",
              "      <th>Peter Jackson</th>\n",
              "      <td>1288000000</td>\n",
              "      <td>6490593685</td>\n",
              "      <td>1355</td>\n",
              "      <td>58.1</td>\n",
              "      <td>16059</td>\n",
              "      <td>5202593685</td>\n",
              "    </tr>\n",
              "    <tr>\n",
              "      <th>Christopher Nolan</th>\n",
              "      <td>1005000000</td>\n",
              "      <td>4167548502</td>\n",
              "      <td>1135</td>\n",
              "      <td>61.1</td>\n",
              "      <td>16057</td>\n",
              "      <td>3162548502</td>\n",
              "    </tr>\n",
              "    <tr>\n",
              "      <th>David Yates</th>\n",
              "      <td>775000000</td>\n",
              "      <td>4154295625</td>\n",
              "      <td>567</td>\n",
              "      <td>29.6</td>\n",
              "      <td>8037</td>\n",
              "      <td>3379295625</td>\n",
              "    </tr>\n",
              "    <tr>\n",
              "      <th>Michael Bay</th>\n",
              "      <td>1126000000</td>\n",
              "      <td>3886938960</td>\n",
              "      <td>1209</td>\n",
              "      <td>50.0</td>\n",
              "      <td>16063</td>\n",
              "      <td>2760938960</td>\n",
              "    </tr>\n",
              "    <tr>\n",
              "      <th>J.J. Abrams</th>\n",
              "      <td>740000000</td>\n",
              "      <td>3579169916</td>\n",
              "      <td>633</td>\n",
              "      <td>35.1</td>\n",
              "      <td>10054</td>\n",
              "      <td>2839169916</td>\n",
              "    </tr>\n",
              "    <tr>\n",
              "      <th>...</th>\n",
              "      <td>...</td>\n",
              "      <td>...</td>\n",
              "      <td>...</td>\n",
              "      <td>...</td>\n",
              "      <td>...</td>\n",
              "      <td>...</td>\n",
              "    </tr>\n",
              "    <tr>\n",
              "      <th>David MichÃ´d</th>\n",
              "      <td>12250000</td>\n",
              "      <td>2295423</td>\n",
              "      <td>100</td>\n",
              "      <td>6.0</td>\n",
              "      <td>2014</td>\n",
              "      <td>-9954577</td>\n",
              "    </tr>\n",
              "    <tr>\n",
              "      <th>Steven Shainberg</th>\n",
              "      <td>16800000</td>\n",
              "      <td>2281089</td>\n",
              "      <td>122</td>\n",
              "      <td>6.3</td>\n",
              "      <td>2006</td>\n",
              "      <td>-14518911</td>\n",
              "    </tr>\n",
              "    <tr>\n",
              "      <th>Paul Schrader</th>\n",
              "      <td>7000000</td>\n",
              "      <td>2062066</td>\n",
              "      <td>104</td>\n",
              "      <td>5.9</td>\n",
              "      <td>2002</td>\n",
              "      <td>-4937934</td>\n",
              "    </tr>\n",
              "    <tr>\n",
              "      <th>Keanu Reeves</th>\n",
              "      <td>25000000</td>\n",
              "      <td>2054941</td>\n",
              "      <td>105</td>\n",
              "      <td>5.6</td>\n",
              "      <td>2013</td>\n",
              "      <td>-22945059</td>\n",
              "    </tr>\n",
              "    <tr>\n",
              "      <th>Simon Hunter</th>\n",
              "      <td>8000000</td>\n",
              "      <td>2033165</td>\n",
              "      <td>111</td>\n",
              "      <td>5.1</td>\n",
              "      <td>2008</td>\n",
              "      <td>-5966835</td>\n",
              "    </tr>\n",
              "  </tbody>\n",
              "</table>\n",
              "<p>997 rows × 6 columns</p>\n",
              "</div>"
            ],
            "text/plain": [
              "                       budget     revenue  ...  release_year      profit\n",
              "director                                   ...                          \n",
              "Peter Jackson      1288000000  6490593685  ...         16059  5202593685\n",
              "Christopher Nolan  1005000000  4167548502  ...         16057  3162548502\n",
              "David Yates         775000000  4154295625  ...          8037  3379295625\n",
              "Michael Bay        1126000000  3886938960  ...         16063  2760938960\n",
              "J.J. Abrams         740000000  3579169916  ...         10054  2839169916\n",
              "...                       ...         ...  ...           ...         ...\n",
              "David MichÃ´d        12250000     2295423  ...          2014    -9954577\n",
              "Steven Shainberg     16800000     2281089  ...          2006   -14518911\n",
              "Paul Schrader         7000000     2062066  ...          2002    -4937934\n",
              "Keanu Reeves         25000000     2054941  ...          2013   -22945059\n",
              "Simon Hunter          8000000     2033165  ...          2008    -5966835\n",
              "\n",
              "[997 rows x 6 columns]"
            ]
          },
          "metadata": {},
          "execution_count": 34
        }
      ]
    },
    {
      "cell_type": "markdown",
      "metadata": {
        "id": "GsJQ6Cg4eH_5"
      },
      "source": [
        "ВАРИАНТ 2"
      ]
    },
    {
      "cell_type": "code",
      "metadata": {
        "id": "t3j9Cr37eIby"
      },
      "source": [
        ""
      ],
      "execution_count": null,
      "outputs": []
    },
    {
      "cell_type": "markdown",
      "metadata": {
        "id": "PsYC9FgRVp_a"
      },
      "source": [
        "# 14. Какой режисер снял больше всего фильмов в стиле Action?"
      ]
    },
    {
      "cell_type": "code",
      "metadata": {
        "colab": {
          "base_uri": "https://localhost:8080/",
          "height": 266
        },
        "id": "ABIYIKiJh9At",
        "outputId": "cdf15f08-9e2c-40e3-b030-fa436fb209ad"
      },
      "source": [
        "answers['14'] = 'Robert Rodriguez'\n",
        "# если ответили верно, можете добавить комментарий со значком \"+\"\n",
        "# \"+\"\n",
        "display(answers)"
      ],
      "execution_count": 35,
      "outputs": [
        {
          "output_type": "display_data",
          "data": {
            "text/plain": [
              "{'1': '5. Pirates of the Caribbean: On Stranger Tides (tt1298650)',\n",
              " '10': 'The Lone Ranger (tt1210819)',\n",
              " '11': 'Drama',\n",
              " '12': 'Drama',\n",
              " '13': 'Peter Jackson',\n",
              " '14': 'Robert Rodriguez',\n",
              " '2': 'Gods and Generals (tt0279111)',\n",
              " '3': 'Winnie the Pooh (tt1449283)',\n",
              " '4': '110',\n",
              " '5': '107',\n",
              " '6': 'Avatar (tt0499549)',\n",
              " '7': 'The Lone Ranger (tt1210819)',\n",
              " '8': '1478',\n",
              " '9': 'The Dark Knight (tt0468569)'}"
            ]
          },
          "metadata": {}
        }
      ]
    },
    {
      "cell_type": "code",
      "metadata": {
        "id": "wd2M-wHeVp_b",
        "colab": {
          "base_uri": "https://localhost:8080/"
        },
        "outputId": "41c21c18-dc41-498e-a31d-884d68ae7216"
      },
      "source": [
        "df = data.copy()\n",
        "df['genres'] = df.genres.str.split('|') \n",
        "df['director'] = df.director.str.split('|') \n",
        "df=df.explode('genres')\n",
        "#display(df)\n",
        "\n",
        "df.sort_values(by='genres')\n",
        "df = df[df.genres.str.contains('Action',na=False)]\n",
        "df1 = df.explode('director').groupby(['director'])['imdb_id'].count().sort_values(ascending=False) \n",
        "df1"
      ],
      "execution_count": 36,
      "outputs": [
        {
          "output_type": "execute_result",
          "data": {
            "text/plain": [
              "director\n",
              "Robert Rodriguez      9\n",
              "Paul W.S. Anderson    7\n",
              "Michael Bay           7\n",
              "Ridley Scott          6\n",
              "Antoine Fuqua         6\n",
              "                     ..\n",
              "Joe Cornish           1\n",
              "Roger Spottiswoode    1\n",
              "Jimmy Hayward         1\n",
              "Jim Gillespie         1\n",
              "Jon Avnet             1\n",
              "Name: imdb_id, Length: 364, dtype: int64"
            ]
          },
          "metadata": {},
          "execution_count": 36
        }
      ]
    },
    {
      "cell_type": "markdown",
      "metadata": {
        "id": "PQ0KciD7Vp_f"
      },
      "source": [
        "# 15. Фильмы с каким актером принесли самые высокие кассовые сборы в 2012 году? "
      ]
    },
    {
      "cell_type": "code",
      "metadata": {
        "colab": {
          "base_uri": "https://localhost:8080/",
          "height": 284
        },
        "id": "TfZqGZWOomkh",
        "outputId": "16cc8f7c-9de5-410b-f515-5f56fd48ea56"
      },
      "source": [
        "answers['15'] = 'Chris Hemsworth'\n",
        "# если ответили верно, можете добавить комментарий со значком \"+\"\n",
        "# \"+\"\n",
        "display(answers)"
      ],
      "execution_count": 37,
      "outputs": [
        {
          "output_type": "display_data",
          "data": {
            "text/plain": [
              "{'1': '5. Pirates of the Caribbean: On Stranger Tides (tt1298650)',\n",
              " '10': 'The Lone Ranger (tt1210819)',\n",
              " '11': 'Drama',\n",
              " '12': 'Drama',\n",
              " '13': 'Peter Jackson',\n",
              " '14': 'Robert Rodriguez',\n",
              " '15': 'Chris Hemsworth',\n",
              " '2': 'Gods and Generals (tt0279111)',\n",
              " '3': 'Winnie the Pooh (tt1449283)',\n",
              " '4': '110',\n",
              " '5': '107',\n",
              " '6': 'Avatar (tt0499549)',\n",
              " '7': 'The Lone Ranger (tt1210819)',\n",
              " '8': '1478',\n",
              " '9': 'The Dark Knight (tt0468569)'}"
            ]
          },
          "metadata": {}
        }
      ]
    },
    {
      "cell_type": "code",
      "metadata": {
        "id": "aga62oeKVp_g",
        "colab": {
          "base_uri": "https://localhost:8080/"
        },
        "outputId": "e400300b-529c-435e-f1ac-d0e938c58cd4"
      },
      "source": [
        "df = data.copy() #создаём копию Датасета\n",
        "df['cast'] = df.cast.str.split('|') #разделяет актеров и переносим их в отдельные строки\n",
        "df=df.explode('cast')\n",
        "#display(df)\n",
        "\n",
        "df1=df[df.release_year==2012] #отбираем только фильмы 2012 года\n",
        "#display(df1)\n",
        "df1.sort_values(by='revenue', ascending=False) #сортируем по кассовому сбору: самый высокий в первой строчке\n",
        "\n",
        "#определяем суммарный кассовый сбор для каждого фильма и ставим на первую строку искомый фильм\n",
        "df2 = df1.groupby(['cast']).revenue.sum().sort_values(ascending=False).head(1) \n",
        "df2"
      ],
      "execution_count": 38,
      "outputs": [
        {
          "output_type": "execute_result",
          "data": {
            "text/plain": [
              "cast\n",
              "Chris Hemsworth    2027450773\n",
              "Name: revenue, dtype: int64"
            ]
          },
          "metadata": {},
          "execution_count": 38
        }
      ]
    },
    {
      "cell_type": "markdown",
      "metadata": {
        "id": "mWHyyL7QVp_j"
      },
      "source": [
        "# 16. Какой актер снялся в большем количестве высокобюджетных фильмов?"
      ]
    },
    {
      "cell_type": "code",
      "metadata": {
        "colab": {
          "base_uri": "https://localhost:8080/",
          "height": 301
        },
        "id": "L56anXZ4or6w",
        "outputId": "164bfa61-bec6-474d-e6c2-b0a9680806cd"
      },
      "source": [
        "answers['16'] = 'Matt Damon'\n",
        "# если ответили верно, можете добавить комментарий со значком \"+\"\n",
        "# \"+\"\n",
        "display(answers)"
      ],
      "execution_count": 39,
      "outputs": [
        {
          "output_type": "display_data",
          "data": {
            "text/plain": [
              "{'1': '5. Pirates of the Caribbean: On Stranger Tides (tt1298650)',\n",
              " '10': 'The Lone Ranger (tt1210819)',\n",
              " '11': 'Drama',\n",
              " '12': 'Drama',\n",
              " '13': 'Peter Jackson',\n",
              " '14': 'Robert Rodriguez',\n",
              " '15': 'Chris Hemsworth',\n",
              " '16': 'Matt Damon',\n",
              " '2': 'Gods and Generals (tt0279111)',\n",
              " '3': 'Winnie the Pooh (tt1449283)',\n",
              " '4': '110',\n",
              " '5': '107',\n",
              " '6': 'Avatar (tt0499549)',\n",
              " '7': 'The Lone Ranger (tt1210819)',\n",
              " '8': '1478',\n",
              " '9': 'The Dark Knight (tt0468569)'}"
            ]
          },
          "metadata": {}
        }
      ]
    },
    {
      "cell_type": "code",
      "metadata": {
        "id": "qQtmHKTFVp_k",
        "colab": {
          "base_uri": "https://localhost:8080/",
          "height": 36
        },
        "outputId": "89ac0913-44cd-4834-e7d6-bcad922fff91"
      },
      "source": [
        "df = data.copy() #создаём копию Датасета\n",
        "df=df[df.budget > df.budget.mean()] #отбираем записи с бюджетом выше среднего\n",
        "\n",
        "df1=pd.Series(df.cast.str.split('|').sum()).value_counts().index[0]\n",
        "df1"
      ],
      "execution_count": 40,
      "outputs": [
        {
          "output_type": "execute_result",
          "data": {
            "application/vnd.google.colaboratory.intrinsic+json": {
              "type": "string"
            },
            "text/plain": [
              "'Matt Damon'"
            ]
          },
          "metadata": {},
          "execution_count": 40
        }
      ]
    },
    {
      "cell_type": "markdown",
      "metadata": {
        "id": "NIh6AaW5Vp_n"
      },
      "source": [
        "# 17. В фильмах какого жанра больше всего снимался Nicolas Cage? "
      ]
    },
    {
      "cell_type": "code",
      "metadata": {
        "colab": {
          "base_uri": "https://localhost:8080/",
          "height": 319
        },
        "id": "tvFSd4h7ouHg",
        "outputId": "6bddd994-1f23-4580-f705-006666f9820f"
      },
      "source": [
        "answers['17'] = 'Action'\n",
        "# если ответили верно, можете добавить комментарий со значком \"+\"\n",
        "# \"+\"\n",
        "display(answers)"
      ],
      "execution_count": 41,
      "outputs": [
        {
          "output_type": "display_data",
          "data": {
            "text/plain": [
              "{'1': '5. Pirates of the Caribbean: On Stranger Tides (tt1298650)',\n",
              " '10': 'The Lone Ranger (tt1210819)',\n",
              " '11': 'Drama',\n",
              " '12': 'Drama',\n",
              " '13': 'Peter Jackson',\n",
              " '14': 'Robert Rodriguez',\n",
              " '15': 'Chris Hemsworth',\n",
              " '16': 'Matt Damon',\n",
              " '17': 'Action',\n",
              " '2': 'Gods and Generals (tt0279111)',\n",
              " '3': 'Winnie the Pooh (tt1449283)',\n",
              " '4': '110',\n",
              " '5': '107',\n",
              " '6': 'Avatar (tt0499549)',\n",
              " '7': 'The Lone Ranger (tt1210819)',\n",
              " '8': '1478',\n",
              " '9': 'The Dark Knight (tt0468569)'}"
            ]
          },
          "metadata": {}
        }
      ]
    },
    {
      "cell_type": "code",
      "metadata": {
        "id": "H74SJDIBVp_n",
        "colab": {
          "base_uri": "https://localhost:8080/"
        },
        "outputId": "231f42cc-08f0-4e83-d694-5afb9fadf23b"
      },
      "source": [
        "df = data.copy()\n",
        "df['genres'] = df.genres.str.split('|') \n",
        "df['cast'] = df.cast.str.split('|') \n",
        "df=df.explode('cast')\n",
        "#display(df)\n",
        "#display(df1)\n",
        "\n",
        "df1=df[df.cast=='Nicolas Cage'] #отбираем только фильмы с Nicolas Cage\n",
        "df1=df1.genres.explode().value_counts().head(1)\n",
        "df1"
      ],
      "execution_count": 42,
      "outputs": [
        {
          "output_type": "execute_result",
          "data": {
            "text/plain": [
              "Action    17\n",
              "Name: genres, dtype: int64"
            ]
          },
          "metadata": {},
          "execution_count": 42
        }
      ]
    },
    {
      "cell_type": "markdown",
      "metadata": {
        "id": "RqOmPRfWVp_q"
      },
      "source": [
        "# 18. Самый убыточный фильм от Paramount Pictures"
      ]
    },
    {
      "cell_type": "code",
      "metadata": {
        "colab": {
          "base_uri": "https://localhost:8080/",
          "height": 337
        },
        "id": "U6jvAbT3nnSW",
        "outputId": "a6b2b33c-6c84-4cf4-a701-1278f0ef5b4d"
      },
      "source": [
        "answers['18'] = 'K-19: The Widowmaker'\n",
        "# если ответили верно, можете добавить комментарий со значком \"+\"\n",
        "# \"+\"\n",
        "display(answers)"
      ],
      "execution_count": 43,
      "outputs": [
        {
          "output_type": "display_data",
          "data": {
            "text/plain": [
              "{'1': '5. Pirates of the Caribbean: On Stranger Tides (tt1298650)',\n",
              " '10': 'The Lone Ranger (tt1210819)',\n",
              " '11': 'Drama',\n",
              " '12': 'Drama',\n",
              " '13': 'Peter Jackson',\n",
              " '14': 'Robert Rodriguez',\n",
              " '15': 'Chris Hemsworth',\n",
              " '16': 'Matt Damon',\n",
              " '17': 'Action',\n",
              " '18': 'K-19: The Widowmaker',\n",
              " '2': 'Gods and Generals (tt0279111)',\n",
              " '3': 'Winnie the Pooh (tt1449283)',\n",
              " '4': '110',\n",
              " '5': '107',\n",
              " '6': 'Avatar (tt0499549)',\n",
              " '7': 'The Lone Ranger (tt1210819)',\n",
              " '8': '1478',\n",
              " '9': 'The Dark Knight (tt0468569)'}"
            ]
          },
          "metadata": {}
        }
      ]
    },
    {
      "cell_type": "code",
      "metadata": {
        "id": "9E_B0Y96Vp_r",
        "colab": {
          "base_uri": "https://localhost:8080/",
          "height": 111
        },
        "outputId": "b94b4651-8903-485f-8a35-aa4f18bf8626"
      },
      "source": [
        "df = data.copy()\n",
        "df['production_companies'] = df.production_companies.str.split('|') #помещаем название компании в отдельную строку\n",
        "df=df.explode('production_companies')\n",
        "#display(df)\n",
        "\n",
        "df1=df[df.production_companies=='Paramount Pictures'] #отбираем самый убыточный фильм\n",
        "df1\n",
        "\n",
        "df2 = df1.groupby(['original_title']).sum().sort_values(by='profit',ascending=True).head(1)\n",
        "df2\n"
      ],
      "execution_count": 44,
      "outputs": [
        {
          "output_type": "execute_result",
          "data": {
            "text/html": [
              "<div>\n",
              "<style scoped>\n",
              "    .dataframe tbody tr th:only-of-type {\n",
              "        vertical-align: middle;\n",
              "    }\n",
              "\n",
              "    .dataframe tbody tr th {\n",
              "        vertical-align: top;\n",
              "    }\n",
              "\n",
              "    .dataframe thead th {\n",
              "        text-align: right;\n",
              "    }\n",
              "</style>\n",
              "<table border=\"1\" class=\"dataframe\">\n",
              "  <thead>\n",
              "    <tr style=\"text-align: right;\">\n",
              "      <th></th>\n",
              "      <th>budget</th>\n",
              "      <th>revenue</th>\n",
              "      <th>runtime</th>\n",
              "      <th>vote_average</th>\n",
              "      <th>release_year</th>\n",
              "      <th>profit</th>\n",
              "    </tr>\n",
              "    <tr>\n",
              "      <th>original_title</th>\n",
              "      <th></th>\n",
              "      <th></th>\n",
              "      <th></th>\n",
              "      <th></th>\n",
              "      <th></th>\n",
              "      <th></th>\n",
              "    </tr>\n",
              "  </thead>\n",
              "  <tbody>\n",
              "    <tr>\n",
              "      <th>K-19: The Widowmaker</th>\n",
              "      <td>100000000</td>\n",
              "      <td>35168966</td>\n",
              "      <td>138</td>\n",
              "      <td>6.0</td>\n",
              "      <td>2002</td>\n",
              "      <td>-64831034</td>\n",
              "    </tr>\n",
              "  </tbody>\n",
              "</table>\n",
              "</div>"
            ],
            "text/plain": [
              "                         budget   revenue  ...  release_year    profit\n",
              "original_title                             ...                        \n",
              "K-19: The Widowmaker  100000000  35168966  ...          2002 -64831034\n",
              "\n",
              "[1 rows x 6 columns]"
            ]
          },
          "metadata": {},
          "execution_count": 44
        }
      ]
    },
    {
      "cell_type": "markdown",
      "metadata": {
        "id": "vS8Ur6ddVp_u"
      },
      "source": [
        "# 19. Какой год стал самым успешным по суммарным кассовым сборам?"
      ]
    },
    {
      "cell_type": "code",
      "metadata": {
        "colab": {
          "base_uri": "https://localhost:8080/",
          "height": 355
        },
        "id": "8BwcFKcYnwDV",
        "outputId": "335c2575-25ee-4784-9567-f52d18890b3f"
      },
      "source": [
        "answers['19'] = '2015'\n",
        "# если ответили верно, можете добавить комментарий со значком \"+\"\n",
        "# \"+\"\n",
        "display(answers)"
      ],
      "execution_count": 45,
      "outputs": [
        {
          "output_type": "display_data",
          "data": {
            "text/plain": [
              "{'1': '5. Pirates of the Caribbean: On Stranger Tides (tt1298650)',\n",
              " '10': 'The Lone Ranger (tt1210819)',\n",
              " '11': 'Drama',\n",
              " '12': 'Drama',\n",
              " '13': 'Peter Jackson',\n",
              " '14': 'Robert Rodriguez',\n",
              " '15': 'Chris Hemsworth',\n",
              " '16': 'Matt Damon',\n",
              " '17': 'Action',\n",
              " '18': 'K-19: The Widowmaker',\n",
              " '19': '2015',\n",
              " '2': 'Gods and Generals (tt0279111)',\n",
              " '3': 'Winnie the Pooh (tt1449283)',\n",
              " '4': '110',\n",
              " '5': '107',\n",
              " '6': 'Avatar (tt0499549)',\n",
              " '7': 'The Lone Ranger (tt1210819)',\n",
              " '8': '1478',\n",
              " '9': 'The Dark Knight (tt0468569)'}"
            ]
          },
          "metadata": {}
        }
      ]
    },
    {
      "cell_type": "code",
      "metadata": {
        "id": "Dnbt4GdIVp_v",
        "colab": {
          "base_uri": "https://localhost:8080/",
          "height": 390
        },
        "outputId": "994f7527-5300-48af-92e2-f2285f81e0ec"
      },
      "source": [
        "df=data.copy() #копия датасета\n",
        "\n",
        "display(df.groupby(by='release_year')['revenue'].sum()) #группировка кассовых сборов по годам; при группировке выполняется суммирование\n",
        "display(df.groupby(by='release_year')['revenue'].sum().sort_values(ascending=True).tail(1)) #тоже, но выводится последняя строка с максимальными кассовыми сборами\n"
      ],
      "execution_count": 46,
      "outputs": [
        {
          "output_type": "display_data",
          "data": {
            "text/plain": [
              "release_year\n",
              "2000    10664099805\n",
              "2001    13017764865\n",
              "2002    14136361487\n",
              "2003    14346123312\n",
              "2004    15663430720\n",
              "2005    15309425558\n",
              "2006    14775042320\n",
              "2007    18162406801\n",
              "2008    18252781990\n",
              "2009    20261791024\n",
              "2010    21071204961\n",
              "2011    22676791872\n",
              "2012    23079001687\n",
              "2013    23213799791\n",
              "2014    23405862953\n",
              "2015    25449202382\n",
              "Name: revenue, dtype: int64"
            ]
          },
          "metadata": {}
        },
        {
          "output_type": "display_data",
          "data": {
            "text/plain": [
              "release_year\n",
              "2015    25449202382\n",
              "Name: revenue, dtype: int64"
            ]
          },
          "metadata": {}
        }
      ]
    },
    {
      "cell_type": "markdown",
      "metadata": {
        "id": "JAzJh4QAVp_z"
      },
      "source": [
        "# 20. Какой самый прибыльный год для студии Warner Bros?"
      ]
    },
    {
      "cell_type": "code",
      "metadata": {
        "colab": {
          "base_uri": "https://localhost:8080/",
          "height": 372
        },
        "id": "iCS98XRvn0sB",
        "outputId": "6bc92eda-44d2-4d34-fd96-734054cc965a"
      },
      "source": [
        "answers['20'] = '2014'\n",
        "# если ответили верно, можете добавить комментарий со значком \"+\"\n",
        "# \"+\"\n",
        "display(answers)"
      ],
      "execution_count": 47,
      "outputs": [
        {
          "output_type": "display_data",
          "data": {
            "text/plain": [
              "{'1': '5. Pirates of the Caribbean: On Stranger Tides (tt1298650)',\n",
              " '10': 'The Lone Ranger (tt1210819)',\n",
              " '11': 'Drama',\n",
              " '12': 'Drama',\n",
              " '13': 'Peter Jackson',\n",
              " '14': 'Robert Rodriguez',\n",
              " '15': 'Chris Hemsworth',\n",
              " '16': 'Matt Damon',\n",
              " '17': 'Action',\n",
              " '18': 'K-19: The Widowmaker',\n",
              " '19': '2015',\n",
              " '2': 'Gods and Generals (tt0279111)',\n",
              " '20': '2014',\n",
              " '3': 'Winnie the Pooh (tt1449283)',\n",
              " '4': '110',\n",
              " '5': '107',\n",
              " '6': 'Avatar (tt0499549)',\n",
              " '7': 'The Lone Ranger (tt1210819)',\n",
              " '8': '1478',\n",
              " '9': 'The Dark Knight (tt0468569)'}"
            ]
          },
          "metadata": {}
        }
      ]
    },
    {
      "cell_type": "code",
      "metadata": {
        "id": "wgVu02DEVp_0",
        "colab": {
          "base_uri": "https://localhost:8080/",
          "height": 390
        },
        "outputId": "a33c93dd-6bd1-4050-92f7-d84fa03ba1c7"
      },
      "source": [
        "df=data.copy() #копия датасета\n",
        "\n",
        "df['production_companies'] = df.production_companies.str.split('|') #помещаем название компании в отдельную строку\n",
        "df=df.explode('production_companies')\n",
        "#display(df)\n",
        "\n",
        "df1=df[df.production_companies.str.contains('Warner Bros')] #отбираем записи в датасет, относящиеся к компании Warner Bros\n",
        "df1\n",
        "\n",
        "display(df1.groupby(by='release_year')['revenue'].sum()) #группировка кассовых сборов по годам; при группировке выполняется суммирование\n",
        "display(df1.groupby(by='release_year')['revenue'].sum().sort_values(ascending=True).tail(1)) #тоже, но выводится последняя строка с максимальными кассовыми сборами"
      ],
      "execution_count": 48,
      "outputs": [
        {
          "output_type": "display_data",
          "data": {
            "text/plain": [
              "release_year\n",
              "2000    1025531386\n",
              "2001    2280142579\n",
              "2002    1702709901\n",
              "2003    2814008221\n",
              "2004    2731933725\n",
              "2005    2412980298\n",
              "2006    1576351872\n",
              "2007    3183675217\n",
              "2008    3050595031\n",
              "2009    2737954136\n",
              "2010    3008712985\n",
              "2011    2845393682\n",
              "2012    1869520056\n",
              "2013    2599953400\n",
              "2014    3246549646\n",
              "2015    1691168351\n",
              "Name: revenue, dtype: int64"
            ]
          },
          "metadata": {}
        },
        {
          "output_type": "display_data",
          "data": {
            "text/plain": [
              "release_year\n",
              "2014    3246549646\n",
              "Name: revenue, dtype: int64"
            ]
          },
          "metadata": {}
        }
      ]
    },
    {
      "cell_type": "markdown",
      "metadata": {
        "id": "8Im1S2HRVp_4"
      },
      "source": [
        "# 21. В каком месяце за все годы суммарно вышло больше всего фильмов?"
      ]
    },
    {
      "cell_type": "code",
      "metadata": {
        "id": "oGdLcroln37B",
        "colab": {
          "base_uri": "https://localhost:8080/",
          "height": 390
        },
        "outputId": "00fc3a3c-2ba7-427f-aa02-4bfd1be56526"
      },
      "source": [
        "answers['21'] = 'сентябрь'\n",
        "# если ответили верно, можете добавить комментарий со значком \"+\"\n",
        "# \"+\"\n",
        "display(answers)"
      ],
      "execution_count": 49,
      "outputs": [
        {
          "output_type": "display_data",
          "data": {
            "text/plain": [
              "{'1': '5. Pirates of the Caribbean: On Stranger Tides (tt1298650)',\n",
              " '10': 'The Lone Ranger (tt1210819)',\n",
              " '11': 'Drama',\n",
              " '12': 'Drama',\n",
              " '13': 'Peter Jackson',\n",
              " '14': 'Robert Rodriguez',\n",
              " '15': 'Chris Hemsworth',\n",
              " '16': 'Matt Damon',\n",
              " '17': 'Action',\n",
              " '18': 'K-19: The Widowmaker',\n",
              " '19': '2015',\n",
              " '2': 'Gods and Generals (tt0279111)',\n",
              " '20': '2014',\n",
              " '21': 'сентябрь',\n",
              " '3': 'Winnie the Pooh (tt1449283)',\n",
              " '4': '110',\n",
              " '5': '107',\n",
              " '6': 'Avatar (tt0499549)',\n",
              " '7': 'The Lone Ranger (tt1210819)',\n",
              " '8': '1478',\n",
              " '9': 'The Dark Knight (tt0468569)'}"
            ]
          },
          "metadata": {}
        }
      ]
    },
    {
      "cell_type": "code",
      "metadata": {
        "id": "lev6TH7gVp_4",
        "colab": {
          "base_uri": "https://localhost:8080/",
          "height": 70
        },
        "outputId": "0c827655-415c-4430-8d6f-073bea15fed8"
      },
      "source": [
        "df=data.copy() #копия датасета\n",
        "\n",
        "df['month'] =pd.to_datetime(df.release_date)\n",
        "#display(df.month)\n",
        "\n",
        "df['month'] =df[\"month\"].dt.month #сформировали колонку в датасете и ввели в неё месяц из даты релиза\n",
        "#display(df)\n",
        "\n",
        "display(df.groupby(by='month')['original_title'].count().sort_values(ascending=False).head(1)) \n",
        "#группировка по месяцам за все годы; выдается только месяц и наибольшее количество фильмов \n",
        "\n"
      ],
      "execution_count": 50,
      "outputs": [
        {
          "output_type": "display_data",
          "data": {
            "text/plain": [
              "month\n",
              "9    227\n",
              "Name: original_title, dtype: int64"
            ]
          },
          "metadata": {}
        }
      ]
    },
    {
      "cell_type": "markdown",
      "metadata": {
        "id": "uAJsZ_NeVp_7"
      },
      "source": [
        "# 22. Сколько суммарно вышло фильмов летом? (за июнь, июль, август)"
      ]
    },
    {
      "cell_type": "code",
      "metadata": {
        "id": "MSN5DwT6n7YF",
        "colab": {
          "base_uri": "https://localhost:8080/",
          "height": 408
        },
        "outputId": "47371e17-8b13-478b-f689-0bbca3d76ba2"
      },
      "source": [
        "answers['22'] = '450'\n",
        "# если ответили верно, можете добавить комментарий со значком \"+\"\n",
        "# \"+\"\n",
        "display(answers)"
      ],
      "execution_count": 51,
      "outputs": [
        {
          "output_type": "display_data",
          "data": {
            "text/plain": [
              "{'1': '5. Pirates of the Caribbean: On Stranger Tides (tt1298650)',\n",
              " '10': 'The Lone Ranger (tt1210819)',\n",
              " '11': 'Drama',\n",
              " '12': 'Drama',\n",
              " '13': 'Peter Jackson',\n",
              " '14': 'Robert Rodriguez',\n",
              " '15': 'Chris Hemsworth',\n",
              " '16': 'Matt Damon',\n",
              " '17': 'Action',\n",
              " '18': 'K-19: The Widowmaker',\n",
              " '19': '2015',\n",
              " '2': 'Gods and Generals (tt0279111)',\n",
              " '20': '2014',\n",
              " '21': 'сентябрь',\n",
              " '22': '450',\n",
              " '3': 'Winnie the Pooh (tt1449283)',\n",
              " '4': '110',\n",
              " '5': '107',\n",
              " '6': 'Avatar (tt0499549)',\n",
              " '7': 'The Lone Ranger (tt1210819)',\n",
              " '8': '1478',\n",
              " '9': 'The Dark Knight (tt0468569)'}"
            ]
          },
          "metadata": {}
        }
      ]
    },
    {
      "cell_type": "code",
      "metadata": {
        "id": "Aa-hEREoVp_8",
        "colab": {
          "base_uri": "https://localhost:8080/",
          "height": 35
        },
        "outputId": "09a65d44-748c-4860-ebac-43d61bf0ce29"
      },
      "source": [
        "df=data.copy() #копия датасета\n",
        "\n",
        "df['month'] =pd.to_datetime(df.release_date)\n",
        "#display(df.month)\n",
        "\n",
        "df['month'] =df[\"month\"].dt.month #сформировали колонку в датасете и ввели в неё месяц из даты релиза\n",
        "#display(df)\n",
        "\n",
        "df.groupby(by='month')['original_title'].count().sort_values(ascending=True)\n",
        "\n",
        "df1=df.loc[(df.month>=6)&(df.month <=8)].sort_values(by='month',ascending=True) #отбор данных по лету\n",
        "df1=df1.month.count() #вывод суммарного количества фильмов\n",
        "display(df1)\n"
      ],
      "execution_count": 52,
      "outputs": [
        {
          "output_type": "display_data",
          "data": {
            "text/plain": [
              "450"
            ]
          },
          "metadata": {}
        }
      ]
    },
    {
      "cell_type": "markdown",
      "metadata": {
        "id": "G94ppOY1VqAA"
      },
      "source": [
        "# 23. Для какого режиссера зима – самое продуктивное время года? "
      ]
    },
    {
      "cell_type": "code",
      "metadata": {
        "colab": {
          "base_uri": "https://localhost:8080/",
          "height": 426
        },
        "id": "bRsQoyxE_wiu",
        "outputId": "2f6b4c93-4fd8-43de-9395-94734505ef44"
      },
      "source": [
        "answers['23'] = 'Peter Jackson'\n",
        "# если ответили верно, можете добавить комментарий со значком \"+\"\n",
        "# \"+\"\n",
        "display(answers)"
      ],
      "execution_count": 135,
      "outputs": [
        {
          "output_type": "display_data",
          "data": {
            "text/plain": [
              "{'1': '5. Pirates of the Caribbean: On Stranger Tides (tt1298650)',\n",
              " '10': 'The Lone Ranger (tt1210819)',\n",
              " '11': 'Drama',\n",
              " '12': 'Drama',\n",
              " '13': 'Peter Jackson',\n",
              " '14': 'Robert Rodriguez',\n",
              " '15': 'Chris Hemsworth',\n",
              " '16': 'Matt Damon',\n",
              " '17': 'Action',\n",
              " '18': 'K-19: The Widowmaker',\n",
              " '19': '2015',\n",
              " '2': 'Gods and Generals (tt0279111)',\n",
              " '20': '2014',\n",
              " '21': 'сентябрь',\n",
              " '22': '450',\n",
              " '23': 'Peter Jackson',\n",
              " '3': 'Winnie the Pooh (tt1449283)',\n",
              " '4': '110',\n",
              " '5': '107',\n",
              " '6': 'Avatar (tt0499549)',\n",
              " '7': 'The Lone Ranger (tt1210819)',\n",
              " '8': '1478',\n",
              " '9': 'The Dark Knight (tt0468569)'}"
            ]
          },
          "metadata": {}
        }
      ]
    },
    {
      "cell_type": "code",
      "metadata": {
        "id": "RhNTsamuVqAB",
        "colab": {
          "base_uri": "https://localhost:8080/"
        },
        "outputId": "6196f0f4-e336-4b0e-e7aa-39ee0d6b34d0"
      },
      "source": [
        "df=data.copy() #копия датасета\n",
        "\n",
        "df['month'] =pd.to_datetime(df.release_date)\n",
        "#display(df.month)\n",
        "\n",
        "df['month'] =df[\"month\"].dt.month #сформировали колонку в датасете и ввели в неё месяц из даты релиза\n",
        "#display(df)\n",
        "\n",
        "df.groupby(by='month')['original_title'].count().sort_values(ascending=True)\n",
        "#display(df.month.count())\n",
        "\n",
        "df['director'] = df.director.str.split('|') #помещаем ФИО режиссеров в отдельную строку\n",
        "df=df.explode('director')\n",
        "#display(df)\n",
        "\n",
        "df.groupby(by='director')['month'].sum().sort_values(ascending=False) \n",
        "#сортировка по режиссерам (первые топ - Clint Eastwood, Steven Soderbergh, Ridley Scott, Peter Jackson, Christopher Nolan)\n",
        "\n",
        "df1=df.loc[(df.month <=2) ].sort_values(by='month',ascending=True) #формируем два датасета df1 и df2 с данными по зиме\n",
        "df2=df.loc[(df.month >=12) ].sort_values(by='month',ascending=True)\n",
        "#display(df1)\n",
        "#display(df2)\n",
        "\n",
        "total_df = pd.concat([df1, df2]) #объединяем два датасета df1 и df2 с одинаковым количеством столбцов (одинаковых по наименованию и типу) в один\n",
        "#display(total_df)\n",
        "\n",
        "total_df.groupby(by='director')['month'].sum().sort_values(ascending=False).head(5) #выводим рейтинг режисссеров (лидеров; первых пятерых)"
      ],
      "execution_count": 134,
      "outputs": [
        {
          "output_type": "execute_result",
          "data": {
            "text/plain": [
              "director\n",
              "Peter Jackson        84\n",
              "Clint Eastwood       61\n",
              "Steven Soderbergh    51\n",
              "Nancy Meyers         48\n",
              "Martin Scorsese      38\n",
              "Name: month, dtype: int64"
            ]
          },
          "metadata": {},
          "execution_count": 134
        }
      ]
    },
    {
      "cell_type": "markdown",
      "metadata": {
        "id": "RBo0JVjVVqAF"
      },
      "source": [
        "# 24. Какая студия дает самые длинные названия своим фильмам по количеству символов?"
      ]
    },
    {
      "cell_type": "code",
      "metadata": {
        "id": "oH0zPBgH_0_W",
        "colab": {
          "base_uri": "https://localhost:8080/",
          "height": 444
        },
        "outputId": "f719c619-febd-4747-af77-0da0aea37ed0"
      },
      "source": [
        "answers['24'] = 'Four By Two Productions'\n",
        "# если ответили верно, можете добавить комментарий со значком \"+\"\n",
        "# \"+\"\n",
        "display(answers)"
      ],
      "execution_count": 164,
      "outputs": [
        {
          "output_type": "display_data",
          "data": {
            "text/plain": [
              "{'1': '5. Pirates of the Caribbean: On Stranger Tides (tt1298650)',\n",
              " '10': 'The Lone Ranger (tt1210819)',\n",
              " '11': 'Drama',\n",
              " '12': 'Drama',\n",
              " '13': 'Peter Jackson',\n",
              " '14': 'Robert Rodriguez',\n",
              " '15': 'Chris Hemsworth',\n",
              " '16': 'Matt Damon',\n",
              " '17': 'Action',\n",
              " '18': 'K-19: The Widowmaker',\n",
              " '19': '2015',\n",
              " '2': 'Gods and Generals (tt0279111)',\n",
              " '20': '2014',\n",
              " '21': 'сентябрь',\n",
              " '22': '450',\n",
              " '23': 'Peter Jackson',\n",
              " '24': 'Four By Two Productions',\n",
              " '3': 'Winnie the Pooh (tt1449283)',\n",
              " '4': '110',\n",
              " '5': '107',\n",
              " '6': 'Avatar (tt0499549)',\n",
              " '7': 'The Lone Ranger (tt1210819)',\n",
              " '8': '1478',\n",
              " '9': 'The Dark Knight (tt0468569)'}"
            ]
          },
          "metadata": {}
        }
      ]
    },
    {
      "cell_type": "code",
      "metadata": {
        "id": "QRGS8L0iVqAG",
        "colab": {
          "base_uri": "https://localhost:8080/"
        },
        "outputId": "51b86678-0aa2-4418-e7c4-3fee26548b64"
      },
      "source": [
        "df=data.copy() #копия датасета\n",
        "\n",
        "df['production_companies'] = df.production_companies.str.split('|') #помещаем название студии в отдельную строку\n",
        "df=df.explode('production_companies')\n",
        "#display(df)\n",
        "\n",
        "df['title_len'] =df['original_title'].str.len() #формируем новый столбец под значение средней длины названия фильма\n",
        "\n",
        "df.groupby(by='production_companies')['title_len'].mean().sort_values(ascending=False).head(5) \n",
        "#находим студию, фильм которой с самым длинным наименованием; выводим пять лидеров"
      ],
      "execution_count": 163,
      "outputs": [
        {
          "output_type": "execute_result",
          "data": {
            "text/plain": [
              "production_companies\n",
              "Four By Two Productions      83.0\n",
              "Jim Henson Company, The      59.0\n",
              "Dos Corazones                47.0\n",
              "Museum Canada Productions    46.0\n",
              "Polsky Films                 46.0\n",
              "Name: title_len, dtype: float64"
            ]
          },
          "metadata": {},
          "execution_count": 163
        }
      ]
    },
    {
      "cell_type": "markdown",
      "metadata": {
        "id": "9G0hbvR7VqAK"
      },
      "source": [
        "# 25. Описание фильмов какой студии в среднем самые длинные по количеству слов?"
      ]
    },
    {
      "cell_type": "code",
      "metadata": {
        "colab": {
          "base_uri": "https://localhost:8080/",
          "height": 461
        },
        "id": "ofcoXxK0OObA",
        "outputId": "6bf95bd0-0fac-4a38-ae27-87e81c3879c3"
      },
      "source": [
        "answers['25'] = 'Midnight Picture Show'\n",
        "# если ответили верно, можете добавить комментарий со значком \"+\"\n",
        "# \"+\"\n",
        "display(answers)"
      ],
      "execution_count": 222,
      "outputs": [
        {
          "output_type": "display_data",
          "data": {
            "text/plain": [
              "{'1': '5. Pirates of the Caribbean: On Stranger Tides (tt1298650)',\n",
              " '10': 'The Lone Ranger (tt1210819)',\n",
              " '11': 'Drama',\n",
              " '12': 'Drama',\n",
              " '13': 'Peter Jackson',\n",
              " '14': 'Robert Rodriguez',\n",
              " '15': 'Chris Hemsworth',\n",
              " '16': 'Matt Damon',\n",
              " '17': 'Action',\n",
              " '18': 'K-19: The Widowmaker',\n",
              " '19': '2015',\n",
              " '2': 'Gods and Generals (tt0279111)',\n",
              " '20': '2014',\n",
              " '21': 'сентябрь',\n",
              " '22': '450',\n",
              " '23': 'Peter Jackson',\n",
              " '24': 'Four By Two Productions',\n",
              " '25': 'Midnight Picture Show',\n",
              " '3': 'Winnie the Pooh (tt1449283)',\n",
              " '4': '110',\n",
              " '5': '107',\n",
              " '6': 'Avatar (tt0499549)',\n",
              " '7': 'The Lone Ranger (tt1210819)',\n",
              " '8': '1478',\n",
              " '9': 'The Dark Knight (tt0468569)'}"
            ]
          },
          "metadata": {}
        }
      ]
    },
    {
      "cell_type": "code",
      "metadata": {
        "id": "Ge2GsLNxVqAK",
        "colab": {
          "base_uri": "https://localhost:8080/"
        },
        "outputId": "dbceae96-9eb4-410c-db24-d767da8a8172"
      },
      "source": [
        "df=data.copy() #копия датасета\n",
        "\n",
        "df['production_companies'] = df.production_companies.str.split('|') #помещаем название студии в отдельную строку\n",
        "df=df.explode('production_companies')\n",
        "#display(df)\n",
        "\n",
        "df['overview_len'] = df.overview.apply(lambda x: len(str(x).split(' '))) #формируем новый столбец под значение кол-ва слов в описании фильма\n",
        "df.overview_len.describe()\n",
        "\n",
        "df.groupby(by='production_companies')['overview_len'].max().sort_values(ascending=False)\n",
        "#находим студию, у которой описание фильма самое длинное по кол-ву слов; выводим пять лидеров"
      ],
      "execution_count": 221,
      "outputs": [
        {
          "output_type": "execute_result",
          "data": {
            "text/plain": [
              "production_companies\n",
              "Lions Gate Films                         175\n",
              "Lakeshore Entertainment                  175\n",
              "Midnight Picture Show                    175\n",
              "GreeneStreet Films                       175\n",
              "Radical Studios                          169\n",
              "                                        ... \n",
              "Our Stories Films                         13\n",
              "Phantom Four                              13\n",
              "Projection Pictures                       13\n",
              "Empire Pictures                           11\n",
              "Motion Picture Corporation of America     11\n",
              "Name: overview_len, Length: 1771, dtype: int64"
            ]
          },
          "metadata": {},
          "execution_count": 221
        }
      ]
    },
    {
      "cell_type": "markdown",
      "metadata": {
        "id": "FJ1AFt90VqAP"
      },
      "source": [
        "# 26. Какие фильмы входят в 1 процент лучших по рейтингу? \n",
        "по vote_average"
      ]
    },
    {
      "cell_type": "code",
      "metadata": {
        "colab": {
          "base_uri": "https://localhost:8080/",
          "height": 497
        },
        "id": "ARe2a0s-OMjQ",
        "outputId": "b2bb82c3-e48e-4191-b813-df12344ec2ca"
      },
      "source": [
        "answers['26'] = 'Inside Out, The Dark Knight, 12 Years a Slave'\n",
        "# если ответили верно, можете добавить комментарий со значком \"+\"\n",
        "# \"+\"\n",
        "display(answers)"
      ],
      "execution_count": 339,
      "outputs": [
        {
          "output_type": "display_data",
          "data": {
            "text/plain": [
              "{'1': '5. Pirates of the Caribbean: On Stranger Tides (tt1298650)',\n",
              " '10': 'The Lone Ranger (tt1210819)',\n",
              " '11': 'Drama',\n",
              " '12': 'Drama',\n",
              " '13': 'Peter Jackson',\n",
              " '14': 'Robert Rodriguez',\n",
              " '15': 'Chris Hemsworth',\n",
              " '16': 'Matt Damon',\n",
              " '17': 'Action',\n",
              " '18': 'K-19: The Widowmaker',\n",
              " '19': '2015',\n",
              " '2': 'Gods and Generals (tt0279111)',\n",
              " '20': '2014',\n",
              " '21': 'сентябрь',\n",
              " '22': '450',\n",
              " '23': 'Peter Jackson',\n",
              " '24': 'Four By Two Productions',\n",
              " '25': 'Midnight Picture Show',\n",
              " '26': 'Inside Out, The Dark Knight, 12 Years a Slave',\n",
              " '27': '.....',\n",
              " '3': 'Winnie the Pooh (tt1449283)',\n",
              " '4': '110',\n",
              " '5': '107',\n",
              " '6': 'Avatar (tt0499549)',\n",
              " '7': 'The Lone Ranger (tt1210819)',\n",
              " '8': '1478',\n",
              " '9': 'The Dark Knight (tt0468569)'}"
            ]
          },
          "metadata": {}
        }
      ]
    },
    {
      "cell_type": "code",
      "metadata": {
        "id": "8qmJVq4CVqAQ",
        "colab": {
          "base_uri": "https://localhost:8080/"
        },
        "outputId": "d44378f6-116b-485e-ce37-08dd8203c546"
      },
      "source": [
        "df=data.copy() #копия датасета\n",
        "\n",
        "df.vote_average.describe(percentiles=[0.01]) #проверка датасета, а есть ли такие фильмы\n",
        "\n",
        "vote_99 = np.percentile(df.vote_average, 99) #определяем абсолютное значение, соответствующее 1%\n",
        "#display(vote_99)\n",
        "\n",
        "df1 = df[df.vote_average >= vote_99].sort_values(by='vote_average', ascending=False) #формируем выборку с фильмами, попадающих в 1%\n",
        "#display(df1)\n",
        "\n",
        "df1.groupby(by='original_title')['vote_average'].max().sort_values(ascending=False).head(12)\n",
        "#формируем рейтинг, в котором находим фильм, входящий в 1 процент лучших по рейтингу\n",
        "#по рейтингу выбираем фильмы"
      ],
      "execution_count": 343,
      "outputs": [
        {
          "output_type": "execute_result",
          "data": {
            "text/plain": [
              "original_title\n",
              "The Dark Knight                                  8.1\n",
              "Inside Out                                       8.0\n",
              "Interstellar                                     8.0\n",
              "Room                                             8.0\n",
              "The Imitation Game                               8.0\n",
              "Gone Girl                                        7.9\n",
              "Memento                                          7.9\n",
              "The Wolf of Wall Street                          7.9\n",
              "Guardians of the Galaxy                          7.9\n",
              "12 Years a Slave                                 7.9\n",
              "Inception                                        7.9\n",
              "The Lord of the Rings: The Return of the King    7.9\n",
              "Name: vote_average, dtype: float64"
            ]
          },
          "metadata": {},
          "execution_count": 343
        }
      ]
    },
    {
      "cell_type": "markdown",
      "metadata": {
        "id": "MdXsUXbCVqAV"
      },
      "source": [
        "# 27. Какие актеры чаще всего снимаются в одном фильме вместе?\n"
      ]
    },
    {
      "cell_type": "code",
      "metadata": {
        "colab": {
          "base_uri": "https://localhost:8080/",
          "height": 497
        },
        "id": "4qN5cLnWOK6A",
        "outputId": "272fba5b-eb0d-44a7-ed98-a21abdf74b4a"
      },
      "source": [
        "answers['27'] = 'Daniel Radcliffe & Rupert Grint'\n",
        "# если ответили верно, можете добавить комментарий со значком \"+\"\n",
        "# \"+\"\n",
        "display(answers)"
      ],
      "execution_count": 353,
      "outputs": [
        {
          "output_type": "display_data",
          "data": {
            "text/plain": [
              "{'1': '5. Pirates of the Caribbean: On Stranger Tides (tt1298650)',\n",
              " '10': 'The Lone Ranger (tt1210819)',\n",
              " '11': 'Drama',\n",
              " '12': 'Drama',\n",
              " '13': 'Peter Jackson',\n",
              " '14': 'Robert Rodriguez',\n",
              " '15': 'Chris Hemsworth',\n",
              " '16': 'Matt Damon',\n",
              " '17': 'Action',\n",
              " '18': 'K-19: The Widowmaker',\n",
              " '19': '2015',\n",
              " '2': 'Gods and Generals (tt0279111)',\n",
              " '20': '2014',\n",
              " '21': 'сентябрь',\n",
              " '22': '450',\n",
              " '23': 'Peter Jackson',\n",
              " '24': 'Four By Two Productions',\n",
              " '25': 'Midnight Picture Show',\n",
              " '26': 'Inside Out, The Dark Knight, 12 Years a Slave',\n",
              " '27': 'Daniel Radcliffe & Rupert Grint',\n",
              " '3': 'Winnie the Pooh (tt1449283)',\n",
              " '4': '110',\n",
              " '5': '107',\n",
              " '6': 'Avatar (tt0499549)',\n",
              " '7': 'The Lone Ranger (tt1210819)',\n",
              " '8': '1478',\n",
              " '9': 'The Dark Knight (tt0468569)'}"
            ]
          },
          "metadata": {}
        }
      ]
    },
    {
      "cell_type": "code",
      "metadata": {
        "colab": {
          "base_uri": "https://localhost:8080/",
          "height": 88
        },
        "id": "svvw9CSdw31n",
        "outputId": "57c1f73b-ede3-4dd5-a8fe-c7859e4694ec"
      },
      "source": [
        "df=data.copy() #копия датасета\n",
        "\n",
        "df['cast'] = df.cast.str.split('|') #помещаем название студии в отдельную строку\n",
        "df.cast=df.cast.apply(lambda x: list(combinations(sorted(x), 2)))\n",
        "df=df.explode('cast').cast.mode()\n",
        "display(df)"
      ],
      "execution_count": 354,
      "outputs": [
        {
          "output_type": "display_data",
          "data": {
            "text/plain": [
              "0     (Daniel Radcliffe, Emma Watson)\n",
              "1    (Daniel Radcliffe, Rupert Grint)\n",
              "2         (Emma Watson, Rupert Grint)\n",
              "dtype: object"
            ]
          },
          "metadata": {}
        }
      ]
    },
    {
      "cell_type": "markdown",
      "metadata": {
        "id": "4ymnxEVoVqAW"
      },
      "source": [
        "ВАРИАНТ 2"
      ]
    },
    {
      "cell_type": "markdown",
      "metadata": {
        "id": "U0nONFnGVqAX"
      },
      "source": [
        "# Submission"
      ]
    },
    {
      "cell_type": "code",
      "metadata": {
        "id": "IfcaRO9-VqAX",
        "colab": {
          "base_uri": "https://localhost:8080/"
        },
        "outputId": "79787774-b9f3-46f3-a66e-c3611545adc7"
      },
      "source": [
        "# в конце можно посмотреть свои ответы к каждому вопросу\n",
        "answers"
      ],
      "execution_count": 355,
      "outputs": [
        {
          "output_type": "execute_result",
          "data": {
            "text/plain": [
              "{'1': '5. Pirates of the Caribbean: On Stranger Tides (tt1298650)',\n",
              " '10': 'The Lone Ranger (tt1210819)',\n",
              " '11': 'Drama',\n",
              " '12': 'Drama',\n",
              " '13': 'Peter Jackson',\n",
              " '14': 'Robert Rodriguez',\n",
              " '15': 'Chris Hemsworth',\n",
              " '16': 'Matt Damon',\n",
              " '17': 'Action',\n",
              " '18': 'K-19: The Widowmaker',\n",
              " '19': '2015',\n",
              " '2': 'Gods and Generals (tt0279111)',\n",
              " '20': '2014',\n",
              " '21': 'сентябрь',\n",
              " '22': '450',\n",
              " '23': 'Peter Jackson',\n",
              " '24': 'Four By Two Productions',\n",
              " '25': 'Midnight Picture Show',\n",
              " '26': 'Inside Out, The Dark Knight, 12 Years a Slave',\n",
              " '27': 'Daniel Radcliffe & Rupert Grint',\n",
              " '3': 'Winnie the Pooh (tt1449283)',\n",
              " '4': '110',\n",
              " '5': '107',\n",
              " '6': 'Avatar (tt0499549)',\n",
              " '7': 'The Lone Ranger (tt1210819)',\n",
              " '8': '1478',\n",
              " '9': 'The Dark Knight (tt0468569)'}"
            ]
          },
          "metadata": {},
          "execution_count": 355
        }
      ]
    },
    {
      "cell_type": "code",
      "metadata": {
        "id": "SiRmHPl8VqAd",
        "colab": {
          "base_uri": "https://localhost:8080/"
        },
        "outputId": "02cb756e-eb19-4586-f1a6-22141f18cf8b"
      },
      "source": [
        "# и убедиться что ни чего не пропустил)\n",
        "len(answers)"
      ],
      "execution_count": 356,
      "outputs": [
        {
          "output_type": "execute_result",
          "data": {
            "text/plain": [
              "27"
            ]
          },
          "metadata": {},
          "execution_count": 356
        }
      ]
    },
    {
      "cell_type": "code",
      "metadata": {
        "id": "uCfuTkRbVqAg"
      },
      "source": [
        ""
      ],
      "execution_count": null,
      "outputs": []
    },
    {
      "cell_type": "code",
      "metadata": {
        "id": "Vwx3NrkSVqAl"
      },
      "source": [
        ""
      ],
      "execution_count": null,
      "outputs": []
    }
  ]
}